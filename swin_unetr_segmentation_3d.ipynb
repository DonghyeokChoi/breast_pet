{
 "cells": [
  {
   "cell_type": "markdown",
   "metadata": {},
   "source": [
    "# 3D Multi-organ Segmentation with Swin UNETR "
   ]
  },
  {
   "cell_type": "markdown",
   "metadata": {},
   "source": [
    "# Pre-trained Swin UNETR Encoder\n",
    "\n",
    "We use weights from self-supervised pre-training of Swin UNETR encoder (3D Swin Tranformer) on a cohort of 5050 CT scans from publicly available datasets. The encoder is pre-trained using reconstructin, rotation prediction and contrastive learning pre-text tasks as shown below. For more details, please refer to [1] (CVPR paper) and see this [repository](https://github.com/Project-MONAI/research-contributions/tree/main/SwinUNETR/Pretrain). \n",
    "\n",
    "![image](https://lh3.googleusercontent.com/pw/AM-JKLVLgduGZ9naCSasWg09U665NBdd3UD4eLTy15wJiwbmKLS_p5WSZ2MBcRePEJO2tv9X3TkC52MsbnomuPy5JT3vSVeCji1MOEuAzcsxily88TdbHuAt6PzccefwKupbXyOCumK5hzz5Ul38kZnlEQ84=w397-h410-no?authuser=2)\n",
    "\n",
    "Please download the pre-trained weights from this [link](https://github.com/Project-MONAI/MONAI-extra-test-data/releases/download/0.8.1/model_swinvit.pt) and place it in the root directory of this tutorial. \n",
    "\n",
    "If training from scratch is desired, please skip the step for initializing from pre-trained weights. "
   ]
  },
  {
   "cell_type": "markdown",
   "metadata": {},
   "source": [
    "## Setup environment"
   ]
  },
  {
   "cell_type": "code",
   "execution_count": 4,
   "metadata": {},
   "outputs": [],
   "source": [
    "\n",
    "!python -c \"import monai; import nibabel; import tqdm\" || pip install -q \"monai-weekly[nibabel, tqdm]\"\n",
    "!python -c \"import matplotlib\" || pip install -q matplotlib\n",
    "%matplotlib inline\n"
   ]
  },
  {
   "cell_type": "code",
   "execution_count": 5,
   "metadata": {},
   "outputs": [
    {
     "name": "stdout",
     "output_type": "stream",
     "text": [
      "MONAI version: 1.3.2\n",
      "Numpy version: 1.23.1\n",
      "Pytorch version: 1.12.1\n",
      "MONAI flags: HAS_EXT = False, USE_COMPILED = False, USE_META_DICT = False\n",
      "MONAI rev id: 59a7211070538586369afd4a01eca0a7fe2e742e\n",
      "MONAI __file__: c:\\Users\\Dong\\anaconda3\\envs\\dongpy\\lib\\site-packages\\monai\\__init__.py\n",
      "\n",
      "Optional dependencies:\n",
      "Pytorch Ignite version: NOT INSTALLED or UNKNOWN VERSION.\n",
      "ITK version: NOT INSTALLED or UNKNOWN VERSION.\n",
      "Nibabel version: 4.0.2\n",
      "scikit-image version: 0.19.3\n",
      "scipy version: 1.9.3\n",
      "Pillow version: 9.2.0\n",
      "Tensorboard version: 2.10.1\n",
      "gdown version: NOT INSTALLED or UNKNOWN VERSION.\n",
      "TorchVision version: 0.13.1\n",
      "tqdm version: 4.64.1\n",
      "lmdb version: NOT INSTALLED or UNKNOWN VERSION.\n",
      "psutil version: 5.9.0\n",
      "pandas version: 1.5.1\n",
      "einops version: 0.5.0\n",
      "transformers version: NOT INSTALLED or UNKNOWN VERSION.\n",
      "mlflow version: 1.30.0\n",
      "pynrrd version: 1.0.0\n",
      "clearml version: NOT INSTALLED or UNKNOWN VERSION.\n",
      "\n",
      "For details about installing the optional dependencies, please visit:\n",
      "    https://docs.monai.io/en/latest/installation.html#installing-the-recommended-dependencies\n",
      "\n"
     ]
    }
   ],
   "source": [
    "import os\n",
    "import shutil\n",
    "import tempfile\n",
    "\n",
    "import matplotlib.pyplot as plt\n",
    "from tqdm import tqdm\n",
    "\n",
    "from monai.losses import DiceCELoss\n",
    "from monai.inferers import sliding_window_inference\n",
    "from monai.transforms import (\n",
    "    AsDiscrete,\n",
    "    Compose,\n",
    "    CropForegroundd,\n",
    "    LoadImaged,\n",
    "    Orientationd,\n",
    "    RandFlipd,\n",
    "    RandCropByPosNegLabeld,\n",
    "    RandShiftIntensityd,\n",
    "    ScaleIntensityRanged,\n",
    "    Spacingd,\n",
    "    RandRotate90d,\n",
    "    EnsureTyped,\n",
    ")\n",
    "\n",
    "from monai.config import print_config\n",
    "from monai.metrics import DiceMetric\n",
    "from monai.networks.nets import SwinUNETR\n",
    "\n",
    "from monai.data import (\n",
    "    ThreadDataLoader,\n",
    "    CacheDataset,\n",
    "    load_decathlon_datalist,\n",
    "    decollate_batch,\n",
    "    set_track_meta,\n",
    ")\n",
    "\n",
    "\n",
    "import torch\n",
    "\n",
    "print_config()"
   ]
  },
  {
   "cell_type": "markdown",
   "metadata": {},
   "source": [
    "## Setup data directory\n",
    "\n",
    "You can specify a directory with the `MONAI_DATA_DIRECTORY` environment variable.  \n",
    "This allows you to save results and reuse downloads.  \n",
    "If not specified a temporary directory will be used."
   ]
  },
  {
   "cell_type": "code",
   "execution_count": 3,
   "metadata": {},
   "outputs": [
    {
     "name": "stdout",
     "output_type": "stream",
     "text": [
      "C:\\Users\\Dong\\AppData\\Local\\Temp\\tmp9n_h2tme\n"
     ]
    }
   ],
   "source": [
    "directory = os.environ.get(\"MONAI_DATA_DIRECTORY\")\n",
    "root_dir = tempfile.mkdtemp() if directory is None else directory\n",
    "print(root_dir)"
   ]
  },
  {
   "cell_type": "markdown",
   "metadata": {},
   "source": [
    "## Setup transforms for training and validation\n",
    "To save on GPU memory utilization, the num_samples can be reduced to 2. \n",
    "\n",
    "A note on design related to MetaTensors:\n",
    "\n",
    "- Summary: using `EnsureTyped(..., track_meta=False)` (caching) and `set_track_meta(False)` (during training) speeds up training significantly.\n",
    "\n",
    "- We are moving towards the use of MONAI's MetaTensor in place of numpy arrays or PyTorch tensors. MetaTensors have the benefit of carrying the metadata directly with the tensor, but in some use cases (like here with training, where training data are only used for computing loss and metadata is not useful), we can safely disregard the metadata to improve speed.\n",
    "\n",
    "- Hence, you will see `EnsureTyped` being used before the first random transform in the training transform chain, which caches the result of deterministic transforms on GPU as Tensors (rather than MetaTensors), with `track_meta = False`. \n",
    "\n",
    "- On the other hand, in the following demos we will display example validation images, which uses metadata, so we use `EnsureTyped` with `track_meta = True`. Since there are no random transforms during validation, tracking metadata for validation images causes virtually no slowdown (~0.5%).\n",
    "\n",
    "- In the next section, you will see `set_track_meta(False)`. This is a global API introduced in MONAI 0.9.1, and it makes sure that random transforms will also be performed using Tensors rather than MetaTensors. Used together with `track_meta=False` in `EnsureTyped`, it results in all transforms being performed on Tensors, which we have found to speed up training."
   ]
  },
  {
   "cell_type": "code",
   "execution_count": 6,
   "metadata": {},
   "outputs": [
    {
     "name": "stderr",
     "output_type": "stream",
     "text": [
      "c:\\Users\\Dong\\anaconda3\\envs\\dongpy\\lib\\site-packages\\monai\\utils\\deprecate_utils.py:321: FutureWarning: monai.transforms.croppad.dictionary CropForegroundd.__init__:allow_smaller: Current default value of argument `allow_smaller=True` has been deprecated since version 1.2. It will be changed to `allow_smaller=False` in version 1.5.\n",
      "  warn_deprecated(argname, msg, warning_category)\n"
     ]
    }
   ],
   "source": [
    "num_samples = 4\n",
    "\n",
    "os.environ[\"CUDA_DEVICE_ORDER\"] = \"PCI_BUS_ID\"\n",
    "device = torch.device(\"cuda\" if torch.cuda.is_available() else \"cpu\")\n",
    "\n",
    "train_transforms = Compose(\n",
    "    [\n",
    "        LoadImaged(keys=[\"image\", \"label\"], ensure_channel_first=True),\n",
    "        ScaleIntensityRanged(\n",
    "            keys=[\"image\"],\n",
    "            a_min=-450,\n",
    "            a_max=250,\n",
    "            b_min=0.0,\n",
    "            b_max=1.0,\n",
    "            clip=True,\n",
    "        ),\n",
    "        CropForegroundd(keys=[\"image\", \"label\"], source_key=\"image\"),\n",
    "        Orientationd(keys=[\"image\", \"label\"], axcodes=\"RAS\"),\n",
    "        Spacingd(\n",
    "            keys=[\"image\", \"label\"],\n",
    "            pixdim=(1.5, 1.5, 2.0),\n",
    "            mode=(\"bilinear\", \"nearest\"),\n",
    "        ),\n",
    "        \n",
    "        RandCropByPosNegLabeld(\n",
    "            keys=[\"image\", \"label\"],\n",
    "            label_key=\"label\",\n",
    "            spatial_size=(96, 96, 96),\n",
    "            pos=1,\n",
    "            neg=1,\n",
    "            num_samples=num_samples,\n",
    "            image_key=\"image\",\n",
    "            image_threshold=0,\n",
    "        ),\n",
    "        RandFlipd(\n",
    "            keys=[\"image\", \"label\"],\n",
    "            spatial_axis=[0],\n",
    "            prob=0.10,\n",
    "        ),\n",
    "        RandFlipd(\n",
    "            keys=[\"image\", \"label\"],\n",
    "            spatial_axis=[1],\n",
    "            prob=0.10,\n",
    "        ),\n",
    "        RandFlipd(\n",
    "            keys=[\"image\", \"label\"],\n",
    "            spatial_axis=[2],\n",
    "            prob=0.10,\n",
    "        ),\n",
    "        RandRotate90d(\n",
    "            keys=[\"image\", \"label\"],\n",
    "            prob=0.10,\n",
    "            max_k=3,\n",
    "        ),\n",
    "        RandShiftIntensityd(\n",
    "            keys=[\"image\"],\n",
    "            offsets=0.10,\n",
    "            prob=0.50,\n",
    "        ),\n",
    "        EnsureTyped(keys=[\"image\", \"label\"], device=device, track_meta=False),\n",
    "    ]\n",
    ")\n",
    "val_transforms = Compose(\n",
    "    [\n",
    "        LoadImaged(keys=[\"image\", \"label\"], ensure_channel_first=True),\n",
    "        ScaleIntensityRanged(\n",
    "            keys=[\"image\"], a_min=-450, a_max=250, b_min=0.0, b_max=1.0, clip=True\n",
    "        ),\n",
    "        CropForegroundd(keys=[\"image\", \"label\"], source_key=\"image\"),\n",
    "        Orientationd(keys=[\"image\", \"label\"], axcodes=\"RAS\"),\n",
    "        Spacingd(\n",
    "            keys=[\"image\", \"label\"],\n",
    "            pixdim=(1.5, 1.5, 2.0),\n",
    "            mode=(\"bilinear\", \"nearest\"),\n",
    "        ),\n",
    "        EnsureTyped(keys=[\"image\", \"label\"], device=device, track_meta=True),\n",
    "    ]\n",
    ")"
   ]
  },
  {
   "cell_type": "markdown",
   "metadata": {},
   "source": [
    "## Download dataset and format in the folder\n",
    "1. Download dataset from here: https://www.synapse.org/#!Synapse:syn3193805/wiki/89480. After you open the link, navigate to the \"Files\" tab, then download Abdomen/RawData.zip.\n",
    "\n",
    "    Note that you may need to register for an account on Synapse and consent to use agreements before being able to view/download this file. There are options to download directly from the browser or from the command line; please refer to Synapse API documentation for more info.\n",
    "\n",
    "\n",
    "2. After downloading the zip file, unzip. Then put images from `RawData/Training/img` in `./data/imagesTr`, and put labels from `RawData/Training/label` in `./data/labelsTr`.\n",
    "\n",
    "\n",
    "3. Make a JSON file to define train/val split and other relevant parameters. Place the JSON file at `./data/dataset_0.json`.\n",
    "\n",
    "    You can download an example of the JSON file [here](https://drive.google.com/file/d/1qcGh41p-rI3H_sQ0JwOAhNiQSXriQqGi/view?usp=sharing), or, equivalently, use the following `wget` command. If you would like to use this directly, please move it into the `./data` folder."
   ]
  },
  {
   "cell_type": "code",
   "execution_count": null,
   "metadata": {},
   "outputs": [],
   "source": [
    "# uncomment this command to download the JSON file directly\n",
    "# wget -O data/dataset_0.json 'https://drive.google.com/uc?export=download&id=1qcGh41p-rI3H_sQ0JwOAhNiQSXriQqGi'"
   ]
  },
  {
   "cell_type": "code",
   "execution_count": 7,
   "metadata": {},
   "outputs": [
    {
     "name": "stderr",
     "output_type": "stream",
     "text": [
      "Loading dataset: 100%|██████████| 62/62 [02:22<00:00,  2.31s/it]\n",
      "Loading dataset: 100%|██████████| 16/16 [00:44<00:00,  2.78s/it]\n",
      "Loading dataset: 100%|██████████| 14/14 [00:38<00:00,  2.75s/it]\n"
     ]
    }
   ],
   "source": [
    "data_dir = \"data_lymphoma_liver/\"\n",
    "split_JSON = \"data_lymphoma_liver1.json\"\n",
    "\n",
    "datasets = data_dir + split_JSON\n",
    "datalist = load_decathlon_datalist(datasets, True, \"training\")\n",
    "val_files = load_decathlon_datalist(datasets, True, \"validation\")\n",
    "test_files = load_decathlon_datalist(datasets, True, \"test\")\n",
    "\n",
    "train_ds = CacheDataset(\n",
    "    data=datalist,\n",
    "    transform=train_transforms,\n",
    "    cache_num=62,\n",
    "    cache_rate=1.0,\n",
    "    num_workers=8,\n",
    ")\n",
    "train_loader = ThreadDataLoader(train_ds, num_workers=0, batch_size=1, shuffle=True)\n",
    "val_ds = CacheDataset(\n",
    "    data=val_files, transform=val_transforms, cache_num=16, cache_rate=1.0, num_workers=4\n",
    ")\n",
    "val_loader = ThreadDataLoader(val_ds, num_workers=0, batch_size=1)\n",
    "\n",
    "test_ds = CacheDataset(\n",
    "    data=test_files, transform=val_transforms, cache_num=14, cache_rate=1.0, num_workers=4\n",
    ")\n",
    "test_loader = ThreadDataLoader(test_ds, num_workers=0, batch_size=1)\n",
    "\n",
    "# as explained in the \"Setup transforms\" section above, we want cached training images to not have metadata, and validations to have metadata\n",
    "# the EnsureTyped transforms allow us to make this distinction\n",
    "# on the other hand, set_track_meta is a global API; doing so here makes sure subsequent transforms (i.e., random transforms for training)\n",
    "# will be carried out as Tensors, not MetaTensors\n",
    "set_track_meta(False)"
   ]
  },
  {
   "cell_type": "code",
   "execution_count": 8,
   "metadata": {},
   "outputs": [
    {
     "name": "stdout",
     "output_type": "stream",
     "text": [
      "62\n",
      "16\n",
      "14\n"
     ]
    }
   ],
   "source": [
    "print(len(train_ds))\n",
    "print(len(val_ds))\n",
    "print(len(test_ds))"
   ]
  },
  {
   "cell_type": "markdown",
   "metadata": {},
   "source": [
    "## Check data shape and visualize"
   ]
  },
  {
   "cell_type": "code",
   "execution_count": 15,
   "metadata": {},
   "outputs": [
    {
     "name": "stdout",
     "output_type": "stream",
     "text": [
      "image shape: torch.Size([1, 244, 342, 164]), label shape: torch.Size([1, 244, 342, 164])\n"
     ]
    },
    {
     "data": {
      "image/png": "[encoded data removed]",
      "text/plain": [
       "<Figure size 1800x600 with 2 Axes>"
      ]
     },
     "metadata": {},
     "output_type": "display_data"
    }
   ],
   "source": [
    "\n",
    "slice_map = {\n",
    "    \"CT95.nii.gz\": 70,\n",
    "    \"CT96.nii.gz\": 75,\n",
    "    \"CT97.nii.gz\": 45,\n",
    "    \"CT99.nii.gz\": 45,\n",
    "    \"CT100.nii.gz\": 45,\n",
    "    \"CT101.nii.gz\": 45,\n",
    "}\n",
    "case_num = 1\n",
    "img_name = os.path.split(val_ds[case_num]['image'].meta[\"filename_or_obj\"])[1]\n",
    "img = val_ds[case_num][\"image\"]\n",
    "label = val_ds[case_num][\"label\"]\n",
    "img_shape = img.shape\n",
    "label_shape = label.shape\n",
    "print(f\"image shape: {img_shape}, label shape: {label_shape}\")\n",
    "plt.figure(\"image\", (18, 6))\n",
    "plt.subplot(1, 2, 1)\n",
    "plt.title(\"image\")\n",
    "plt.imshow(img[0, :, :, slice_map[img_name]].detach().cpu(), cmap=\"gray\")\n",
    "#plt.imshow(img[0, :, :, slice_map.get(img_name, 0)].detach().cpu(), cmap=\"gray\")\n",
    "plt.subplot(1, 2, 2)\n",
    "plt.title(\"label\")\n",
    "plt.imshow(label[0, :, :, slice_map[img_name]].detach().cpu())\n",
    "plt.show()\n",
    "\n",
    "\n"
   ]
  },
  {
   "cell_type": "markdown",
   "metadata": {},
   "source": [
    "### Create Swin UNETR model\n",
    "\n",
    "In this section, we create a Swin UNETR model for the 14-class multi-organ segmentation. We use a feature size of 48, which is compatible with the self-supervised pre-trained weights. We also use gradient checkpointing (use_checkpoint) for more memory-efficient training. "
   ]
  },
  {
   "cell_type": "code",
   "execution_count": 16,
   "metadata": {},
   "outputs": [
    {
     "name": "stderr",
     "output_type": "stream",
     "text": [
      "c:\\Users\\Dong\\anaconda3\\envs\\dongpy\\lib\\site-packages\\monai\\utils\\deprecate_utils.py:221: FutureWarning: monai.networks.nets.swin_unetr SwinUNETR.__init__:img_size: Argument `img_size` has been deprecated since version 1.3. It will be removed in version 1.5. The img_size argument is not required anymore and checks on the input size are run during forward().\n",
      "  warn_deprecated(argname, msg, warning_category)\n"
     ]
    }
   ],
   "source": [
    "os.environ[\"CUDA_DEVICE_ORDER\"] = \"PCI_BUS_ID\"\n",
    "device = torch.device(\"cuda\" if torch.cuda.is_available() else \"cpu\")\n",
    "\n",
    "model = SwinUNETR(\n",
    "    img_size=(96, 96, 96),\n",
    "    in_channels=1,\n",
    "    out_channels=8,\n",
    "    feature_size=48,\n",
    "    use_checkpoint=True,\n",
    ").to(device)"
   ]
  },
  {
   "cell_type": "markdown",
   "metadata": {},
   "source": [
    "### Initialize Swin UNETR encoder from self-supervised pre-trained weights\n",
    "\n",
    "In this section, we intialize the Swin UNETR encoder from pre-trained weights. The weights can be downloaded using the wget command below, or by following [this link](https://github.com/Project-MONAI/MONAI-extra-test-data/releases/download/0.8.1/model_swinvit.pt) to GitHub. If training from scratch is desired, please skip this section."
   ]
  },
  {
   "cell_type": "code",
   "execution_count": null,
   "metadata": {},
   "outputs": [],
   "source": [
    "# uncomment to download the pre-trained weights\n",
    "# !wget https://github.com/Project-MONAI/MONAI-extra-test-data/releases/download/0.8.1/model_swinvit.pt"
   ]
  },
  {
   "cell_type": "code",
   "execution_count": null,
   "metadata": {},
   "outputs": [],
   "source": [
    "#weight = torch.load(\"./model_swinvit.pt\")\n",
    "#model.load_from(weights=weight)\n",
    "#print(\"Using pretrained self-supervied Swin UNETR backbone weights !\")"
   ]
  },
  {
   "cell_type": "code",
   "execution_count": 17,
   "metadata": {},
   "outputs": [
    {
     "data": {
      "text/plain": [
       "<All keys matched successfully>"
      ]
     },
     "execution_count": 17,
     "metadata": {},
     "output_type": "execute_result"
    }
   ],
   "source": [
    "weight = torch.load(\"C:/Users/Dong/Desktop/Python/3d_segmentation/data_lymphoma_liver/best_metric_model_20250111.pth\")\n",
    "model.load_state_dict(weight)\n",
    "#print(\"Using pretrained model weights from C:/Users/Dong/AppData/Local/Temp/tmpo3m9v1gj/best_metric_model.pth!\")"
   ]
  },
  {
   "cell_type": "markdown",
   "metadata": {},
   "source": [
    "### Optimizer and loss function"
   ]
  },
  {
   "cell_type": "code",
   "execution_count": 18,
   "metadata": {},
   "outputs": [],
   "source": [
    "torch.backends.cudnn.benchmark = True\n",
    "loss_function = DiceCELoss(to_onehot_y=True, sigmoid=True)\n",
    "optimizer = torch.optim.AdamW(model.parameters(), lr=1e-4, weight_decay=1e-5)\n",
    "scaler = torch.cuda.amp.GradScaler()"
   ]
  },
  {
   "cell_type": "markdown",
   "metadata": {},
   "source": [
    "### Execute a typical PyTorch training process"
   ]
  },
  {
   "cell_type": "code",
   "execution_count": 19,
   "metadata": {
    "scrolled": true
   },
   "outputs": [],
   "source": [
    "scaler = torch.cuda.amp.GradScaler() # Mixed Precision Training\n",
    "amp = True # Mixed Precision Training\n",
    "\n",
    "def validation(epoch_iterator_val):\n",
    "    model.eval()\n",
    "    with torch.no_grad():\n",
    "        for step, batch in enumerate(epoch_iterator_val):\n",
    "            val_inputs, val_labels = (batch[\"image\"].cuda(), batch[\"label\"].cuda())\n",
    "            with torch.cuda.amp.autocast():\n",
    "                val_outputs = sliding_window_inference(val_inputs, (96, 96, 96), 4, model)\n",
    "            val_labels_list = decollate_batch(val_labels)\n",
    "            val_labels_convert = [\n",
    "                post_label(val_label_tensor) for val_label_tensor in val_labels_list\n",
    "            ]\n",
    "            val_outputs_list = decollate_batch(val_outputs)\n",
    "            val_output_convert = [\n",
    "                post_pred(val_pred_tensor) for val_pred_tensor in val_outputs_list\n",
    "            ]\n",
    "            dice_metric(y_pred=val_output_convert, y=val_labels_convert)\n",
    "            epoch_iterator_val.set_description(\n",
    "                \"Validate (%d / %d Steps)\" % (global_step, 10.0)\n",
    "            )\n",
    "        mean_dice_val = dice_metric.aggregate().item()\n",
    "        dice_metric.reset()\n",
    "    return mean_dice_val\n",
    "\n",
    "\n",
    "def train(global_step, train_loader, dice_val_best, global_step_best):\n",
    "    model.train()\n",
    "    epoch_loss = 0\n",
    "    step = 0\n",
    "    epoch_iterator = tqdm(\n",
    "        train_loader, desc=\"Training (X / X Steps) (loss=X.X)\", dynamic_ncols=True\n",
    "    )\n",
    "    for step, batch in enumerate(epoch_iterator):\n",
    "        step += 1\n",
    "        x, y = (batch[\"image\"].cuda(), batch[\"label\"].cuda())\n",
    "\n",
    "        if amp and scaler is not None:\n",
    "            with torch.cuda.amp.autocast():\n",
    "                logit_map = model(x)\n",
    "                loss = loss_function(logit_map, y)\n",
    "            scaler.scale(loss).backward()\n",
    "            epoch_loss += loss.item()\n",
    "            scaler.step(optimizer)\n",
    "            scaler.update()\n",
    "            \n",
    "        else:\n",
    "            logit_map = model(x)\n",
    "            loss = loss_function(logit_map, y)\n",
    "            loss.backward()\n",
    "            epoch_loss += loss.item()\n",
    "            optimizer.step()\n",
    "\n",
    "        optimizer.zero_grad()\n",
    "        epoch_iterator.set_description(\n",
    "            \"Training (%d / %d Steps) (loss=%2.5f)\"\n",
    "            % (global_step, max_iterations, loss)\n",
    "        )\n",
    "        # 메모리 사용량 확인\n",
    "        #print(\"GPU memory allocated: \", torch.cuda.memory_allocated() / 1024 / 1024, \"MB\")\n",
    "        #print(\"GPU max memory allocated: \", torch.cuda.max_memory_allocated() / 1024 / 1024, \"MB\")\n",
    "        \n",
    "        if (\n",
    "            global_step % eval_num == 0 and global_step != 0\n",
    "        ) or global_step == max_iterations:\n",
    "            epoch_iterator_val = tqdm(\n",
    "                val_loader, desc=\"Validate (X / X Steps) (dice=X.X)\", dynamic_ncols=True\n",
    "            )\n",
    "            dice_val = validation(epoch_iterator_val)\n",
    "            epoch_loss /= step\n",
    "            epoch_loss_values.append(epoch_loss)\n",
    "            metric_values.append(dice_val)\n",
    "            if dice_val > dice_val_best:\n",
    "                dice_val_best = dice_val\n",
    "                global_step_best = global_step\n",
    "                torch.save(\n",
    "                    model.state_dict(), os.path.join(root_dir, \"best_metric_model.pth\")\n",
    "                )\n",
    "                print(\n",
    "                    \"Model Was Saved ! Current Best Avg. Dice: {} Current Avg. Dice: {}\".format(\n",
    "                        dice_val_best, dice_val\n",
    "                    )\n",
    "                )\n",
    "            else:\n",
    "                print(\n",
    "                    \"Model Was Not Saved ! Current Best Avg. Dice: {} Current Avg. Dice: {}\".format(\n",
    "                        dice_val_best, dice_val\n",
    "                    )\n",
    "                )\n",
    "        global_step += 1\n",
    "    return global_step, dice_val_best, global_step_best"
   ]
  },
  {
   "cell_type": "code",
   "execution_count": 9,
   "metadata": {},
   "outputs": [
    {
     "name": "stderr",
     "output_type": "stream",
     "text": [
      "Training (X / X Steps) (loss=X.X):   0%|          | 0/62 [00:00<?, ?it/s]"
     ]
    },
    {
     "name": "stderr",
     "output_type": "stream",
     "text": [
      "Training (61 / 30000 Steps) (loss=1.62344): 100%|██████████| 62/62 [01:08<00:00,  1.11s/it]\n",
      "Training (123 / 30000 Steps) (loss=1.61247): 100%|██████████| 62/62 [00:54<00:00,  1.14it/s]\n",
      "Training (185 / 30000 Steps) (loss=1.32645): 100%|██████████| 62/62 [00:54<00:00,  1.13it/s]\n",
      "Validate (186 / 10 Steps): 100%|██████████| 16/16 [00:43<00:00,  2.73s/it]<00:42,  1.13it/s]\n",
      "Training (200 / 30000 Steps) (loss=1.34499):  24%|██▍       | 15/62 [00:57<11:09, 14.24s/it]"
     ]
    },
    {
     "name": "stdout",
     "output_type": "stream",
     "text": [
      "Model Was Saved ! Current Best Avg. Dice: 0.2141992151737213 Current Avg. Dice: 0.2141992151737213\n"
     ]
    },
    {
     "name": "stderr",
     "output_type": "stream",
     "text": [
      "Training (247 / 30000 Steps) (loss=1.21790): 100%|██████████| 62/62 [01:38<00:00,  1.59s/it]\n",
      "Training (309 / 30000 Steps) (loss=1.21388): 100%|██████████| 62/62 [00:54<00:00,  1.14it/s]\n",
      "Training (371 / 30000 Steps) (loss=1.08578): 100%|██████████| 62/62 [00:54<00:00,  1.14it/s]\n",
      "Validate (372 / 10 Steps): 100%|██████████| 16/16 [00:40<00:00,  2.54s/it]<00:30,  1.11it/s]\n",
      "Training (400 / 30000 Steps) (loss=1.19334):  47%|████▋     | 29/62 [01:06<07:17, 13.27s/it]"
     ]
    },
    {
     "name": "stdout",
     "output_type": "stream",
     "text": [
      "Model Was Saved ! Current Best Avg. Dice: 0.30392980575561523 Current Avg. Dice: 0.30392980575561523\n"
     ]
    },
    {
     "name": "stderr",
     "output_type": "stream",
     "text": [
      "Training (433 / 30000 Steps) (loss=1.06827): 100%|██████████| 62/62 [01:36<00:00,  1.55s/it]\n",
      "Training (495 / 30000 Steps) (loss=1.03402): 100%|██████████| 62/62 [00:54<00:00,  1.13it/s]\n",
      "Training (557 / 30000 Steps) (loss=0.97406): 100%|██████████| 62/62 [00:54<00:00,  1.14it/s]\n",
      "Validate (558 / 10 Steps): 100%|██████████| 16/16 [00:40<00:00,  2.55s/it]<00:17,  1.14it/s]\n",
      "Training (600 / 30000 Steps) (loss=1.00427):  69%|██████▉   | 43/62 [01:19<04:12, 13.28s/it]"
     ]
    },
    {
     "name": "stdout",
     "output_type": "stream",
     "text": [
      "Model Was Saved ! Current Best Avg. Dice: 0.4418299198150635 Current Avg. Dice: 0.4418299198150635\n"
     ]
    },
    {
     "name": "stderr",
     "output_type": "stream",
     "text": [
      "Training (619 / 30000 Steps) (loss=1.09218): 100%|██████████| 62/62 [01:36<00:00,  1.55s/it]\n",
      "Training (681 / 30000 Steps) (loss=1.02174): 100%|██████████| 62/62 [00:54<00:00,  1.14it/s]\n",
      "Training (743 / 30000 Steps) (loss=0.95560): 100%|██████████| 62/62 [00:54<00:00,  1.13it/s]\n",
      "Validate (744 / 10 Steps): 100%|██████████| 16/16 [00:40<00:00,  2.55s/it]<00:05,  1.13it/s]\n",
      "Training (800 / 30000 Steps) (loss=0.91979):  92%|█████████▏| 57/62 [01:31<01:06, 13.33s/it]"
     ]
    },
    {
     "name": "stdout",
     "output_type": "stream",
     "text": [
      "Model Was Saved ! Current Best Avg. Dice: 0.4928043484687805 Current Avg. Dice: 0.4928043484687805\n"
     ]
    },
    {
     "name": "stderr",
     "output_type": "stream",
     "text": [
      "Training (805 / 30000 Steps) (loss=0.88618): 100%|██████████| 62/62 [01:35<00:00,  1.55s/it]\n",
      "Training (867 / 30000 Steps) (loss=0.98367): 100%|██████████| 62/62 [00:54<00:00,  1.14it/s]\n",
      "Training (929 / 30000 Steps) (loss=0.91689): 100%|██████████| 62/62 [00:54<00:00,  1.14it/s]\n",
      "Training (991 / 30000 Steps) (loss=0.88023): 100%|██████████| 62/62 [00:54<00:00,  1.14it/s]\n",
      "Validate (992 / 10 Steps): 100%|██████████| 16/16 [00:40<00:00,  2.54s/it]<00:47,  1.15it/s]\n",
      "Training (1000 / 30000 Steps) (loss=0.97136):  15%|█▍        | 9/62 [00:49<12:10, 13.78s/it]"
     ]
    },
    {
     "name": "stdout",
     "output_type": "stream",
     "text": [
      "Model Was Saved ! Current Best Avg. Dice: 0.5303295850753784 Current Avg. Dice: 0.5303295850753784\n"
     ]
    },
    {
     "name": "stderr",
     "output_type": "stream",
     "text": [
      "Training (1053 / 30000 Steps) (loss=0.90729): 100%|██████████| 62/62 [01:35<00:00,  1.55s/it]\n",
      "Training (1115 / 30000 Steps) (loss=0.86982): 100%|██████████| 62/62 [00:54<00:00,  1.14it/s]\n",
      "Training (1177 / 30000 Steps) (loss=0.82139): 100%|██████████| 62/62 [00:54<00:00,  1.14it/s]\n",
      "Validate (1178 / 10 Steps): 100%|██████████| 16/16 [00:40<00:00,  2.55s/it]<00:34,  1.15it/s]\n",
      "Training (1200 / 30000 Steps) (loss=0.84461):  37%|███▋      | 23/62 [01:01<08:39, 13.33s/it]"
     ]
    },
    {
     "name": "stdout",
     "output_type": "stream",
     "text": [
      "Model Was Saved ! Current Best Avg. Dice: 0.6151652336120605 Current Avg. Dice: 0.6151652336120605\n"
     ]
    },
    {
     "name": "stderr",
     "output_type": "stream",
     "text": [
      "Training (1239 / 30000 Steps) (loss=0.85807): 100%|██████████| 62/62 [01:36<00:00,  1.55s/it]\n",
      "Training (1301 / 30000 Steps) (loss=0.86068): 100%|██████████| 62/62 [00:54<00:00,  1.14it/s]\n",
      "Training (1363 / 30000 Steps) (loss=0.82979): 100%|██████████| 62/62 [00:54<00:00,  1.15it/s]\n",
      "Validate (1364 / 10 Steps): 100%|██████████| 16/16 [00:40<00:00,  2.53s/it]<00:22,  1.15it/s]\n",
      "Training (1400 / 30000 Steps) (loss=0.79666):  60%|█████▉    | 37/62 [01:13<05:29, 13.18s/it]"
     ]
    },
    {
     "name": "stdout",
     "output_type": "stream",
     "text": [
      "Model Was Saved ! Current Best Avg. Dice: 0.7002454400062561 Current Avg. Dice: 0.7002454400062561\n"
     ]
    },
    {
     "name": "stderr",
     "output_type": "stream",
     "text": [
      "Training (1425 / 30000 Steps) (loss=0.85421): 100%|██████████| 62/62 [01:35<00:00,  1.55s/it]\n",
      "Training (1487 / 30000 Steps) (loss=0.90899): 100%|██████████| 62/62 [00:54<00:00,  1.15it/s]\n",
      "Training (1549 / 30000 Steps) (loss=0.79855): 100%|██████████| 62/62 [00:54<00:00,  1.15it/s]\n",
      "Validate (1550 / 10 Steps): 100%|██████████| 16/16 [00:40<00:00,  2.53s/it]<00:10,  1.14it/s]\n",
      "Training (1600 / 30000 Steps) (loss=0.86697):  82%|████████▏ | 51/62 [01:27<02:31, 13.79s/it]"
     ]
    },
    {
     "name": "stdout",
     "output_type": "stream",
     "text": [
      "Model Was Saved ! Current Best Avg. Dice: 0.7319552898406982 Current Avg. Dice: 0.7319552898406982\n"
     ]
    },
    {
     "name": "stderr",
     "output_type": "stream",
     "text": [
      "Training (1611 / 30000 Steps) (loss=0.88133): 100%|██████████| 62/62 [01:37<00:00,  1.58s/it]\n",
      "Training (1673 / 30000 Steps) (loss=0.80930): 100%|██████████| 62/62 [00:54<00:00,  1.14it/s]\n",
      "Training (1735 / 30000 Steps) (loss=0.80830): 100%|██████████| 62/62 [00:54<00:00,  1.14it/s]\n",
      "Training (1797 / 30000 Steps) (loss=0.74765): 100%|██████████| 62/62 [00:54<00:00,  1.14it/s]\n",
      "Validate (1798 / 10 Steps): 100%|██████████| 16/16 [00:40<00:00,  2.54s/it]00:57,  1.04it/s]\n",
      "Training (1800 / 30000 Steps) (loss=0.81266):   5%|▍         | 3/62 [00:44<19:26, 19.77s/it]"
     ]
    },
    {
     "name": "stdout",
     "output_type": "stream",
     "text": [
      "Model Was Saved ! Current Best Avg. Dice: 0.736717700958252 Current Avg. Dice: 0.736717700958252\n"
     ]
    },
    {
     "name": "stderr",
     "output_type": "stream",
     "text": [
      "Training (1859 / 30000 Steps) (loss=0.72927): 100%|██████████| 62/62 [01:36<00:00,  1.55s/it]\n",
      "Training (1921 / 30000 Steps) (loss=0.73109): 100%|██████████| 62/62 [00:54<00:00,  1.14it/s]\n",
      "Training (1983 / 30000 Steps) (loss=0.71843): 100%|██████████| 62/62 [00:54<00:00,  1.13it/s]\n",
      "Validate (1984 / 10 Steps): 100%|██████████| 16/16 [00:33<00:00,  2.12s/it]<00:35,  1.29it/s]\n",
      "Training (2000 / 30000 Steps) (loss=0.70032):  27%|██▋       | 17/62 [00:49<08:20, 11.12s/it]"
     ]
    },
    {
     "name": "stdout",
     "output_type": "stream",
     "text": [
      "Model Was Saved ! Current Best Avg. Dice: 0.7443109750747681 Current Avg. Dice: 0.7443109750747681\n"
     ]
    },
    {
     "name": "stderr",
     "output_type": "stream",
     "text": [
      "Training (2045 / 30000 Steps) (loss=0.68578): 100%|██████████| 62/62 [01:20<00:00,  1.30s/it]\n",
      "Training (2107 / 30000 Steps) (loss=0.85532): 100%|██████████| 62/62 [00:44<00:00,  1.40it/s]\n",
      "Training (2169 / 30000 Steps) (loss=0.74817): 100%|██████████| 62/62 [00:44<00:00,  1.40it/s]\n",
      "Validate (2170 / 10 Steps): 100%|██████████| 16/16 [00:40<00:00,  2.51s/it]<00:27,  1.15it/s]\n",
      "Training (2200 / 30000 Steps) (loss=1.05739):  50%|█████     | 31/62 [01:08<06:45, 13.07s/it]"
     ]
    },
    {
     "name": "stdout",
     "output_type": "stream",
     "text": [
      "Model Was Saved ! Current Best Avg. Dice: 0.7602077722549438 Current Avg. Dice: 0.7602077722549438\n"
     ]
    },
    {
     "name": "stderr",
     "output_type": "stream",
     "text": [
      "Training (2231 / 30000 Steps) (loss=0.76691): 100%|██████████| 62/62 [01:34<00:00,  1.52s/it]\n",
      "Training (2293 / 30000 Steps) (loss=0.85892): 100%|██████████| 62/62 [00:52<00:00,  1.18it/s]\n",
      "Training (2355 / 30000 Steps) (loss=0.65894): 100%|██████████| 62/62 [00:52<00:00,  1.17it/s]\n",
      "Validate (2356 / 10 Steps): 100%|██████████| 16/16 [00:39<00:00,  2.49s/it]<00:15,  1.18it/s]\n",
      "Training (2400 / 30000 Steps) (loss=0.88622):  73%|███████▎  | 45/62 [01:18<03:37, 12.79s/it]"
     ]
    },
    {
     "name": "stdout",
     "output_type": "stream",
     "text": [
      "Model Was Not Saved ! Current Best Avg. Dice: 0.7602077722549438 Current Avg. Dice: 0.710157573223114\n"
     ]
    },
    {
     "name": "stderr",
     "output_type": "stream",
     "text": [
      "Training (2417 / 30000 Steps) (loss=0.65967): 100%|██████████| 62/62 [01:32<00:00,  1.49s/it]\n",
      "Training (2479 / 30000 Steps) (loss=0.76434): 100%|██████████| 62/62 [00:53<00:00,  1.16it/s]\n",
      "Training (2541 / 30000 Steps) (loss=0.68097): 100%|██████████| 62/62 [00:53<00:00,  1.17it/s]\n",
      "Validate (2542 / 10 Steps): 100%|██████████| 16/16 [00:39<00:00,  2.47s/it]<00:03,  1.17it/s]\n",
      "Training (2600 / 30000 Steps) (loss=0.63709):  95%|█████████▌| 59/62 [01:30<00:38, 12.89s/it]"
     ]
    },
    {
     "name": "stdout",
     "output_type": "stream",
     "text": [
      "Model Was Saved ! Current Best Avg. Dice: 0.7849568128585815 Current Avg. Dice: 0.7849568128585815\n"
     ]
    },
    {
     "name": "stderr",
     "output_type": "stream",
     "text": [
      "Training (2603 / 30000 Steps) (loss=0.72675): 100%|██████████| 62/62 [01:33<00:00,  1.50s/it]\n",
      "Training (2665 / 30000 Steps) (loss=0.63685): 100%|██████████| 62/62 [00:53<00:00,  1.17it/s]\n",
      "Training (2727 / 30000 Steps) (loss=0.69285): 100%|██████████| 62/62 [00:53<00:00,  1.17it/s]\n",
      "Training (2789 / 30000 Steps) (loss=0.70454): 100%|██████████| 62/62 [00:52<00:00,  1.17it/s]\n",
      "Validate (2790 / 10 Steps): 100%|██████████| 16/16 [00:40<00:00,  2.50s/it]<00:44,  1.17it/s]\n",
      "Training (2800 / 30000 Steps) (loss=0.75688):  18%|█▊        | 11/62 [00:50<11:17, 13.29s/it]"
     ]
    },
    {
     "name": "stdout",
     "output_type": "stream",
     "text": [
      "Model Was Saved ! Current Best Avg. Dice: 0.7922551035881042 Current Avg. Dice: 0.7922551035881042\n"
     ]
    },
    {
     "name": "stderr",
     "output_type": "stream",
     "text": [
      "Training (2851 / 30000 Steps) (loss=0.67002): 100%|██████████| 62/62 [01:33<00:00,  1.51s/it]\n",
      "Training (2913 / 30000 Steps) (loss=0.69830): 100%|██████████| 62/62 [00:53<00:00,  1.17it/s]\n",
      "Training (2975 / 30000 Steps) (loss=0.59426): 100%|██████████| 62/62 [00:53<00:00,  1.17it/s]\n",
      "Validate (2976 / 10 Steps): 100%|██████████| 16/16 [00:39<00:00,  2.50s/it]<00:32,  1.16it/s]\n",
      "Training (3000 / 30000 Steps) (loss=0.59520):  40%|████      | 25/62 [01:02<08:03, 13.06s/it]"
     ]
    },
    {
     "name": "stdout",
     "output_type": "stream",
     "text": [
      "Model Was Saved ! Current Best Avg. Dice: 0.7933346033096313 Current Avg. Dice: 0.7933346033096313\n"
     ]
    },
    {
     "name": "stderr",
     "output_type": "stream",
     "text": [
      "Training (3037 / 30000 Steps) (loss=0.62749): 100%|██████████| 62/62 [01:33<00:00,  1.51s/it]\n",
      "Training (3099 / 30000 Steps) (loss=0.64210): 100%|██████████| 62/62 [00:53<00:00,  1.16it/s]\n",
      "Training (3161 / 30000 Steps) (loss=0.63596): 100%|██████████| 62/62 [00:53<00:00,  1.17it/s]\n",
      "Validate (3162 / 10 Steps): 100%|██████████| 16/16 [00:39<00:00,  2.49s/it]<00:20,  1.17it/s]\n",
      "Training (3200 / 30000 Steps) (loss=0.61075):  63%|██████▎   | 39/62 [01:13<04:55, 12.83s/it]"
     ]
    },
    {
     "name": "stdout",
     "output_type": "stream",
     "text": [
      "Model Was Not Saved ! Current Best Avg. Dice: 0.7933346033096313 Current Avg. Dice: 0.7897729277610779\n"
     ]
    },
    {
     "name": "stderr",
     "output_type": "stream",
     "text": [
      "Training (3223 / 30000 Steps) (loss=0.75998): 100%|██████████| 62/62 [01:33<00:00,  1.51s/it]\n",
      "Training (3285 / 30000 Steps) (loss=0.88514): 100%|██████████| 62/62 [00:53<00:00,  1.16it/s]\n",
      "Training (3347 / 30000 Steps) (loss=0.66294): 100%|██████████| 62/62 [00:53<00:00,  1.16it/s]\n",
      "Validate (3348 / 10 Steps): 100%|██████████| 16/16 [00:39<00:00,  2.49s/it]<00:08,  1.18it/s]\n",
      "Training (3400 / 30000 Steps) (loss=0.64612):  85%|████████▌ | 53/62 [01:26<01:57, 13.01s/it]"
     ]
    },
    {
     "name": "stdout",
     "output_type": "stream",
     "text": [
      "Model Was Saved ! Current Best Avg. Dice: 0.8020433187484741 Current Avg. Dice: 0.8020433187484741\n"
     ]
    },
    {
     "name": "stderr",
     "output_type": "stream",
     "text": [
      "Training (3409 / 30000 Steps) (loss=0.79133): 100%|██████████| 62/62 [01:33<00:00,  1.51s/it]\n",
      "Training (3471 / 30000 Steps) (loss=0.67950): 100%|██████████| 62/62 [00:52<00:00,  1.17it/s]\n",
      "Training (3533 / 30000 Steps) (loss=0.69696): 100%|██████████| 62/62 [00:52<00:00,  1.17it/s]\n",
      "Training (3595 / 30000 Steps) (loss=0.66460): 100%|██████████| 62/62 [00:52<00:00,  1.17it/s]\n",
      "Validate (3596 / 10 Steps): 100%|██████████| 16/16 [00:39<00:00,  2.49s/it]00:50,  1.14it/s]\n",
      "Training (3600 / 30000 Steps) (loss=0.61241):   8%|▊         | 5/62 [00:44<14:43, 15.50s/it]"
     ]
    },
    {
     "name": "stdout",
     "output_type": "stream",
     "text": [
      "Model Was Saved ! Current Best Avg. Dice: 0.8070894479751587 Current Avg. Dice: 0.8070894479751587\n"
     ]
    },
    {
     "name": "stderr",
     "output_type": "stream",
     "text": [
      "Training (3657 / 30000 Steps) (loss=0.47337): 100%|██████████| 62/62 [01:33<00:00,  1.51s/it]\n",
      "Training (3719 / 30000 Steps) (loss=0.61038): 100%|██████████| 62/62 [00:52<00:00,  1.17it/s]\n",
      "Training (3781 / 30000 Steps) (loss=0.76656): 100%|██████████| 62/62 [00:52<00:00,  1.18it/s]\n",
      "Validate (3782 / 10 Steps): 100%|██████████| 16/16 [00:39<00:00,  2.48s/it]<00:37,  1.17it/s]\n",
      "Training (3800 / 30000 Steps) (loss=0.62928):  31%|███       | 19/62 [00:56<09:17, 12.97s/it]"
     ]
    },
    {
     "name": "stdout",
     "output_type": "stream",
     "text": [
      "Model Was Saved ! Current Best Avg. Dice: 0.85316002368927 Current Avg. Dice: 0.85316002368927\n"
     ]
    },
    {
     "name": "stderr",
     "output_type": "stream",
     "text": [
      "Training (3843 / 30000 Steps) (loss=0.62990): 100%|██████████| 62/62 [01:33<00:00,  1.51s/it]\n",
      "Training (3905 / 30000 Steps) (loss=0.58762): 100%|██████████| 62/62 [00:52<00:00,  1.18it/s]\n",
      "Training (3967 / 30000 Steps) (loss=0.57250): 100%|██████████| 62/62 [00:53<00:00,  1.17it/s]\n",
      "Validate (3968 / 10 Steps): 100%|██████████| 16/16 [00:39<00:00,  2.49s/it]<00:26,  1.14it/s]\n",
      "Training (4000 / 30000 Steps) (loss=0.68216):  53%|█████▎    | 33/62 [01:08<06:12, 12.84s/it]"
     ]
    },
    {
     "name": "stdout",
     "output_type": "stream",
     "text": [
      "Model Was Not Saved ! Current Best Avg. Dice: 0.85316002368927 Current Avg. Dice: 0.8223421573638916\n"
     ]
    },
    {
     "name": "stderr",
     "output_type": "stream",
     "text": [
      "Training (4029 / 30000 Steps) (loss=0.71720): 100%|██████████| 62/62 [01:32<00:00,  1.50s/it]\n",
      "Training (4091 / 30000 Steps) (loss=0.69708): 100%|██████████| 62/62 [00:53<00:00,  1.17it/s]\n",
      "Training (4153 / 30000 Steps) (loss=0.61647): 100%|██████████| 62/62 [00:52<00:00,  1.17it/s]\n",
      "Validate (4154 / 10 Steps): 100%|██████████| 16/16 [00:39<00:00,  2.50s/it]<00:13,  1.18it/s]\n",
      "Training (4200 / 30000 Steps) (loss=0.65829):  76%|███████▌  | 47/62 [01:20<03:15, 13.05s/it]"
     ]
    },
    {
     "name": "stdout",
     "output_type": "stream",
     "text": [
      "Model Was Saved ! Current Best Avg. Dice: 0.8585361242294312 Current Avg. Dice: 0.8585361242294312\n"
     ]
    },
    {
     "name": "stderr",
     "output_type": "stream",
     "text": [
      "Training (4215 / 30000 Steps) (loss=0.53071): 100%|██████████| 62/62 [01:33<00:00,  1.51s/it]\n",
      "Training (4277 / 30000 Steps) (loss=0.50663): 100%|██████████| 62/62 [00:53<00:00,  1.17it/s]\n",
      "Training (4339 / 30000 Steps) (loss=0.55447): 100%|██████████| 62/62 [00:52<00:00,  1.18it/s]\n",
      "Validate (4340 / 10 Steps): 100%|██████████| 16/16 [00:32<00:00,  2.04s/it]<00:01,  1.16it/s]\n",
      "Training (4400 / 30000 Steps) (loss=0.49133):  98%|█████████▊| 61/62 [01:24<00:10, 10.64s/it]"
     ]
    },
    {
     "name": "stdout",
     "output_type": "stream",
     "text": [
      "Model Was Not Saved ! Current Best Avg. Dice: 0.8585361242294312 Current Avg. Dice: 0.8314061164855957\n"
     ]
    },
    {
     "name": "stderr",
     "output_type": "stream",
     "text": [
      "Training (4401 / 30000 Steps) (loss=0.77024): 100%|██████████| 62/62 [01:25<00:00,  1.38s/it]\n",
      "Training (4463 / 30000 Steps) (loss=0.64055): 100%|██████████| 62/62 [00:44<00:00,  1.39it/s]\n",
      "Training (4525 / 30000 Steps) (loss=0.52605): 100%|██████████| 62/62 [00:44<00:00,  1.39it/s]\n",
      "Training (4587 / 30000 Steps) (loss=0.57648): 100%|██████████| 62/62 [00:45<00:00,  1.36it/s]\n",
      "Validate (4588 / 10 Steps): 100%|██████████| 16/16 [00:34<00:00,  2.17s/it]<00:35,  1.40it/s]\n",
      "Training (4600 / 30000 Steps) (loss=0.72644):  21%|██        | 13/62 [00:44<09:19, 11.43s/it]"
     ]
    },
    {
     "name": "stdout",
     "output_type": "stream",
     "text": [
      "Model Was Saved ! Current Best Avg. Dice: 0.8740039467811584 Current Avg. Dice: 0.8740039467811584\n"
     ]
    },
    {
     "name": "stderr",
     "output_type": "stream",
     "text": [
      "Training (4649 / 30000 Steps) (loss=0.60228): 100%|██████████| 62/62 [01:20<00:00,  1.30s/it]\n",
      "Training (4711 / 30000 Steps) (loss=0.62494): 100%|██████████| 62/62 [00:44<00:00,  1.39it/s]\n",
      "Training (4773 / 30000 Steps) (loss=0.67818): 100%|██████████| 62/62 [00:44<00:00,  1.40it/s]\n",
      "Validate (4774 / 10 Steps): 100%|██████████| 16/16 [00:32<00:00,  2.02s/it]<00:25,  1.41it/s]\n",
      "Training (4800 / 30000 Steps) (loss=0.65774):  44%|████▎     | 27/62 [00:51<06:04, 10.41s/it]"
     ]
    },
    {
     "name": "stdout",
     "output_type": "stream",
     "text": [
      "Model Was Not Saved ! Current Best Avg. Dice: 0.8740039467811584 Current Avg. Dice: 0.868514895439148\n"
     ]
    },
    {
     "name": "stderr",
     "output_type": "stream",
     "text": [
      "Training (4835 / 30000 Steps) (loss=0.63981): 100%|██████████| 62/62 [01:17<00:00,  1.25s/it]\n",
      "Training (4897 / 30000 Steps) (loss=0.56307): 100%|██████████| 62/62 [00:43<00:00,  1.42it/s]\n",
      "Training (4959 / 30000 Steps) (loss=0.51215): 100%|██████████| 62/62 [00:44<00:00,  1.39it/s]\n",
      "Validate (4960 / 10 Steps): 100%|██████████| 16/16 [00:33<00:00,  2.09s/it]<00:15,  1.41it/s]\n",
      "Training (5000 / 30000 Steps) (loss=0.56996):  66%|██████▌   | 41/62 [01:02<03:49, 10.92s/it]"
     ]
    },
    {
     "name": "stdout",
     "output_type": "stream",
     "text": [
      "Model Was Saved ! Current Best Avg. Dice: 0.8848991394042969 Current Avg. Dice: 0.8848991394042969\n"
     ]
    },
    {
     "name": "stderr",
     "output_type": "stream",
     "text": [
      "Training (5021 / 30000 Steps) (loss=0.57178): 100%|██████████| 62/62 [01:17<00:00,  1.25s/it]\n",
      "Training (5083 / 30000 Steps) (loss=0.61961): 100%|██████████| 62/62 [00:44<00:00,  1.40it/s]\n",
      "Training (5145 / 30000 Steps) (loss=0.83487): 100%|██████████| 62/62 [00:43<00:00,  1.42it/s]\n",
      "Validate (5146 / 10 Steps): 100%|██████████| 16/16 [00:32<00:00,  2.03s/it]<00:05,  1.42it/s]\n",
      "Training (5200 / 30000 Steps) (loss=0.75457):  89%|████████▊ | 55/62 [01:12<01:14, 10.63s/it]"
     ]
    },
    {
     "name": "stdout",
     "output_type": "stream",
     "text": [
      "Model Was Saved ! Current Best Avg. Dice: 0.8858110904693604 Current Avg. Dice: 0.8858110904693604\n"
     ]
    },
    {
     "name": "stderr",
     "output_type": "stream",
     "text": [
      "Training (5207 / 30000 Steps) (loss=0.57058): 100%|██████████| 62/62 [01:17<00:00,  1.25s/it]\n",
      "Training (5269 / 30000 Steps) (loss=0.50783): 100%|██████████| 62/62 [00:44<00:00,  1.39it/s]\n",
      "Training (5331 / 30000 Steps) (loss=0.70232): 100%|██████████| 62/62 [00:43<00:00,  1.41it/s]\n",
      "Training (5393 / 30000 Steps) (loss=0.70496): 100%|██████████| 62/62 [00:44<00:00,  1.39it/s]\n",
      "Validate (5394 / 10 Steps): 100%|██████████| 16/16 [00:32<00:00,  2.06s/it]00:39,  1.41it/s]\n",
      "Training (5400 / 30000 Steps) (loss=0.58546):  11%|█▏        | 7/62 [00:38<10:42, 11.69s/it]"
     ]
    },
    {
     "name": "stdout",
     "output_type": "stream",
     "text": [
      "Model Was Saved ! Current Best Avg. Dice: 0.8981879949569702 Current Avg. Dice: 0.8981879949569702\n"
     ]
    },
    {
     "name": "stderr",
     "output_type": "stream",
     "text": [
      "Training (5455 / 30000 Steps) (loss=0.60839): 100%|██████████| 62/62 [01:17<00:00,  1.25s/it]\n",
      "Training (5517 / 30000 Steps) (loss=0.56638): 100%|██████████| 62/62 [00:44<00:00,  1.40it/s]\n",
      "Training (5579 / 30000 Steps) (loss=0.58288): 100%|██████████| 62/62 [00:43<00:00,  1.42it/s]\n",
      "Validate (5580 / 10 Steps): 100%|██████████| 16/16 [00:32<00:00,  2.04s/it]<00:30,  1.37it/s]\n",
      "Training (5600 / 30000 Steps) (loss=0.58792):  34%|███▍      | 21/62 [00:48<07:12, 10.54s/it]"
     ]
    },
    {
     "name": "stdout",
     "output_type": "stream",
     "text": [
      "Model Was Not Saved ! Current Best Avg. Dice: 0.8981879949569702 Current Avg. Dice: 0.8892773389816284\n"
     ]
    },
    {
     "name": "stderr",
     "output_type": "stream",
     "text": [
      "Training (5641 / 30000 Steps) (loss=0.60129): 100%|██████████| 62/62 [01:16<00:00,  1.24s/it]\n",
      "Training (5703 / 30000 Steps) (loss=0.65545): 100%|██████████| 62/62 [00:44<00:00,  1.39it/s]\n",
      "Training (5765 / 30000 Steps) (loss=0.45217): 100%|██████████| 62/62 [00:44<00:00,  1.39it/s]\n",
      "Validate (5766 / 10 Steps): 100%|██████████| 16/16 [00:32<00:00,  2.04s/it]<00:19,  1.41it/s]\n",
      "Training (5800 / 30000 Steps) (loss=0.73502):  56%|█████▋    | 35/62 [00:57<04:46, 10.62s/it]"
     ]
    },
    {
     "name": "stdout",
     "output_type": "stream",
     "text": [
      "Model Was Saved ! Current Best Avg. Dice: 0.9045754075050354 Current Avg. Dice: 0.9045754075050354\n"
     ]
    },
    {
     "name": "stderr",
     "output_type": "stream",
     "text": [
      "Training (5827 / 30000 Steps) (loss=0.58263): 100%|██████████| 62/62 [01:17<00:00,  1.25s/it]\n",
      "Training (5889 / 30000 Steps) (loss=0.43433): 100%|██████████| 62/62 [00:43<00:00,  1.41it/s]\n",
      "Training (5951 / 30000 Steps) (loss=0.52301): 100%|██████████| 62/62 [00:44<00:00,  1.40it/s]\n",
      "Validate (5952 / 10 Steps): 100%|██████████| 16/16 [00:33<00:00,  2.06s/it]<00:09,  1.41it/s]\n",
      "Training (6000 / 30000 Steps) (loss=0.59062):  79%|███████▉  | 49/62 [01:07<02:17, 10.61s/it]"
     ]
    },
    {
     "name": "stdout",
     "output_type": "stream",
     "text": [
      "Model Was Not Saved ! Current Best Avg. Dice: 0.9045754075050354 Current Avg. Dice: 0.8941584825515747\n"
     ]
    },
    {
     "name": "stderr",
     "output_type": "stream",
     "text": [
      "Training (6013 / 30000 Steps) (loss=0.77031): 100%|██████████| 62/62 [01:17<00:00,  1.24s/it]\n",
      "Training (6075 / 30000 Steps) (loss=0.58827): 100%|██████████| 62/62 [00:43<00:00,  1.42it/s]\n",
      "Training (6137 / 30000 Steps) (loss=0.58261): 100%|██████████| 62/62 [00:44<00:00,  1.39it/s]\n",
      "Training (6199 / 30000 Steps) (loss=0.55131): 100%|██████████| 62/62 [00:43<00:00,  1.41it/s]\n",
      "Validate (6200 / 10 Steps): 100%|██████████| 16/16 [00:32<00:00,  2.06s/it]?, ?it/s]\n",
      "Training (6200 / 30000 Steps) (loss=0.62921):   2%|▏         | 1/62 [00:33<34:23, 33.83s/it]"
     ]
    },
    {
     "name": "stdout",
     "output_type": "stream",
     "text": [
      "Model Was Not Saved ! Current Best Avg. Dice: 0.9045754075050354 Current Avg. Dice: 0.8981705904006958\n"
     ]
    },
    {
     "name": "stderr",
     "output_type": "stream",
     "text": [
      "Training (6261 / 30000 Steps) (loss=0.65068): 100%|██████████| 62/62 [01:17<00:00,  1.25s/it]\n",
      "Training (6323 / 30000 Steps) (loss=0.63359): 100%|██████████| 62/62 [00:43<00:00,  1.41it/s]\n",
      "Training (6385 / 30000 Steps) (loss=0.36652): 100%|██████████| 62/62 [00:44<00:00,  1.40it/s]\n",
      "Validate (6386 / 10 Steps): 100%|██████████| 16/16 [00:32<00:00,  2.02s/it]<00:35,  1.36it/s]\n",
      "Training (6400 / 30000 Steps) (loss=0.51248):  24%|██▍       | 15/62 [00:43<08:11, 10.47s/it]"
     ]
    },
    {
     "name": "stdout",
     "output_type": "stream",
     "text": [
      "Model Was Not Saved ! Current Best Avg. Dice: 0.9045754075050354 Current Avg. Dice: 0.8916205763816833\n"
     ]
    },
    {
     "name": "stderr",
     "output_type": "stream",
     "text": [
      "Training (6447 / 30000 Steps) (loss=0.90056): 100%|██████████| 62/62 [01:17<00:00,  1.25s/it]\n",
      "Training (6509 / 30000 Steps) (loss=0.60962): 100%|██████████| 62/62 [00:43<00:00,  1.42it/s]\n",
      "Training (6571 / 30000 Steps) (loss=0.42053): 100%|██████████| 62/62 [00:44<00:00,  1.39it/s]\n",
      "Validate (6572 / 10 Steps): 100%|██████████| 16/16 [00:33<00:00,  2.08s/it]<00:23,  1.43it/s]\n",
      "Training (6600 / 30000 Steps) (loss=0.62839):  47%|████▋     | 29/62 [00:53<05:53, 10.71s/it]"
     ]
    },
    {
     "name": "stdout",
     "output_type": "stream",
     "text": [
      "Model Was Not Saved ! Current Best Avg. Dice: 0.9045754075050354 Current Avg. Dice: 0.9032210111618042\n"
     ]
    },
    {
     "name": "stderr",
     "output_type": "stream",
     "text": [
      "Training (6633 / 30000 Steps) (loss=0.49921): 100%|██████████| 62/62 [01:16<00:00,  1.24s/it]\n",
      "Training (6695 / 30000 Steps) (loss=0.54216): 100%|██████████| 62/62 [00:44<00:00,  1.39it/s]\n",
      "Training (6757 / 30000 Steps) (loss=0.66966): 100%|██████████| 62/62 [00:43<00:00,  1.41it/s]\n",
      "Validate (6758 / 10 Steps): 100%|██████████| 16/16 [00:32<00:00,  2.04s/it]<00:14,  1.43it/s]\n",
      "Training (6800 / 30000 Steps) (loss=0.68782):  69%|██████▉   | 43/62 [01:03<03:19, 10.51s/it]"
     ]
    },
    {
     "name": "stdout",
     "output_type": "stream",
     "text": [
      "Model Was Not Saved ! Current Best Avg. Dice: 0.9045754075050354 Current Avg. Dice: 0.891218900680542\n"
     ]
    },
    {
     "name": "stderr",
     "output_type": "stream",
     "text": [
      "Training (6819 / 30000 Steps) (loss=0.65267): 100%|██████████| 62/62 [01:16<00:00,  1.24s/it]\n",
      "Training (6881 / 30000 Steps) (loss=0.68340): 100%|██████████| 62/62 [00:44<00:00,  1.39it/s]\n",
      "Training (6943 / 30000 Steps) (loss=0.53629): 100%|██████████| 62/62 [00:44<00:00,  1.40it/s]\n",
      "Validate (6944 / 10 Steps): 100%|██████████| 16/16 [00:33<00:00,  2.06s/it]<00:04,  1.42it/s]\n",
      "Training (7000 / 30000 Steps) (loss=0.72481):  92%|█████████▏| 57/62 [01:13<00:53, 10.61s/it]"
     ]
    },
    {
     "name": "stdout",
     "output_type": "stream",
     "text": [
      "Model Was Not Saved ! Current Best Avg. Dice: 0.9045754075050354 Current Avg. Dice: 0.887298583984375\n"
     ]
    },
    {
     "name": "stderr",
     "output_type": "stream",
     "text": [
      "Training (7005 / 30000 Steps) (loss=0.37199): 100%|██████████| 62/62 [01:17<00:00,  1.24s/it]\n",
      "Training (7067 / 30000 Steps) (loss=0.50324): 100%|██████████| 62/62 [00:43<00:00,  1.42it/s]\n",
      "Training (7129 / 30000 Steps) (loss=0.53570): 100%|██████████| 62/62 [00:44<00:00,  1.40it/s]\n",
      "Training (7191 / 30000 Steps) (loss=0.79758): 100%|██████████| 62/62 [00:43<00:00,  1.41it/s]\n",
      "Validate (7192 / 10 Steps): 100%|██████████| 16/16 [00:32<00:00,  2.04s/it]00:43,  1.25it/s]\n",
      "Training (7200 / 30000 Steps) (loss=0.50591):  15%|█▍        | 9/62 [00:39<09:42, 10.99s/it]"
     ]
    },
    {
     "name": "stdout",
     "output_type": "stream",
     "text": [
      "Model Was Not Saved ! Current Best Avg. Dice: 0.9045754075050354 Current Avg. Dice: 0.8871637582778931\n"
     ]
    },
    {
     "name": "stderr",
     "output_type": "stream",
     "text": [
      "Training (7253 / 30000 Steps) (loss=0.53026): 100%|██████████| 62/62 [01:17<00:00,  1.24s/it]\n",
      "Training (7315 / 30000 Steps) (loss=0.49665): 100%|██████████| 62/62 [00:44<00:00,  1.40it/s]\n",
      "Training (7377 / 30000 Steps) (loss=0.56850): 100%|██████████| 62/62 [00:44<00:00,  1.39it/s]\n",
      "Validate (7378 / 10 Steps): 100%|██████████| 16/16 [00:32<00:00,  2.04s/it]<00:28,  1.42it/s]\n",
      "Training (7400 / 30000 Steps) (loss=0.64259):  37%|███▋      | 23/62 [00:48<06:50, 10.52s/it]"
     ]
    },
    {
     "name": "stdout",
     "output_type": "stream",
     "text": [
      "Model Was Not Saved ! Current Best Avg. Dice: 0.9045754075050354 Current Avg. Dice: 0.8969345092773438\n"
     ]
    },
    {
     "name": "stderr",
     "output_type": "stream",
     "text": [
      "Training (7439 / 30000 Steps) (loss=0.53848): 100%|██████████| 62/62 [01:16<00:00,  1.24s/it]\n",
      "Training (7501 / 30000 Steps) (loss=0.40191): 100%|██████████| 62/62 [00:43<00:00,  1.41it/s]\n",
      "Training (7563 / 30000 Steps) (loss=0.48818): 100%|██████████| 62/62 [00:44<00:00,  1.39it/s]\n",
      "Validate (7564 / 10 Steps): 100%|██████████| 16/16 [00:32<00:00,  2.02s/it]<00:18,  1.42it/s]\n",
      "Training (7600 / 30000 Steps) (loss=0.45866):  60%|█████▉    | 37/62 [00:58<04:20, 10.41s/it]"
     ]
    },
    {
     "name": "stdout",
     "output_type": "stream",
     "text": [
      "Model Was Not Saved ! Current Best Avg. Dice: 0.9045754075050354 Current Avg. Dice: 0.9015640020370483\n"
     ]
    },
    {
     "name": "stderr",
     "output_type": "stream",
     "text": [
      "Training (7625 / 30000 Steps) (loss=0.46808): 100%|██████████| 62/62 [01:16<00:00,  1.24s/it]\n",
      "Training (7687 / 30000 Steps) (loss=0.38937): 100%|██████████| 62/62 [00:43<00:00,  1.43it/s]\n",
      "Training (7749 / 30000 Steps) (loss=0.68062): 100%|██████████| 62/62 [00:44<00:00,  1.39it/s]\n",
      "Validate (7750 / 10 Steps): 100%|██████████| 16/16 [00:32<00:00,  2.06s/it]<00:08,  1.42it/s]\n",
      "Training (7800 / 30000 Steps) (loss=0.64815):  82%|████████▏ | 51/62 [01:10<01:58, 10.81s/it]"
     ]
    },
    {
     "name": "stdout",
     "output_type": "stream",
     "text": [
      "Model Was Saved ! Current Best Avg. Dice: 0.9128209948539734 Current Avg. Dice: 0.9128209948539734\n"
     ]
    },
    {
     "name": "stderr",
     "output_type": "stream",
     "text": [
      "Training (7811 / 30000 Steps) (loss=0.50209): 100%|██████████| 62/62 [01:17<00:00,  1.25s/it]\n",
      "Training (7873 / 30000 Steps) (loss=0.45926): 100%|██████████| 62/62 [00:44<00:00,  1.39it/s]\n",
      "Training (7935 / 30000 Steps) (loss=0.70630): 100%|██████████| 62/62 [00:43<00:00,  1.41it/s]\n",
      "Training (7997 / 30000 Steps) (loss=0.46019): 100%|██████████| 62/62 [00:44<00:00,  1.40it/s]\n",
      "Validate (7998 / 10 Steps): 100%|██████████| 16/16 [00:32<00:00,  2.03s/it]00:46,  1.29it/s]\n",
      "Training (8000 / 30000 Steps) (loss=0.60126):   5%|▍         | 3/62 [00:34<15:19, 15.59s/it]"
     ]
    },
    {
     "name": "stdout",
     "output_type": "stream",
     "text": [
      "Model Was Not Saved ! Current Best Avg. Dice: 0.9128209948539734 Current Avg. Dice: 0.9046212434768677\n"
     ]
    },
    {
     "name": "stderr",
     "output_type": "stream",
     "text": [
      "Training (8059 / 30000 Steps) (loss=0.42828): 100%|██████████| 62/62 [01:17<00:00,  1.24s/it]\n",
      "Training (8121 / 30000 Steps) (loss=0.61377): 100%|██████████| 62/62 [00:43<00:00,  1.42it/s]\n",
      "Training (8183 / 30000 Steps) (loss=0.51247): 100%|██████████| 62/62 [00:44<00:00,  1.40it/s]\n",
      "Validate (8184 / 10 Steps): 100%|██████████| 16/16 [00:33<00:00,  2.09s/it]<00:32,  1.43it/s]\n",
      "Training (8200 / 30000 Steps) (loss=0.52499):  27%|██▋       | 17/62 [00:45<08:03, 10.73s/it]"
     ]
    },
    {
     "name": "stdout",
     "output_type": "stream",
     "text": [
      "Model Was Not Saved ! Current Best Avg. Dice: 0.9128209948539734 Current Avg. Dice: 0.8767433166503906\n"
     ]
    },
    {
     "name": "stderr",
     "output_type": "stream",
     "text": [
      "Training (8245 / 30000 Steps) (loss=0.41258): 100%|██████████| 62/62 [01:16<00:00,  1.24s/it]\n",
      "Training (8307 / 30000 Steps) (loss=0.53221): 100%|██████████| 62/62 [00:44<00:00,  1.39it/s]\n",
      "Training (8369 / 30000 Steps) (loss=0.53101): 100%|██████████| 62/62 [00:43<00:00,  1.41it/s]\n",
      "Validate (8370 / 10 Steps): 100%|██████████| 16/16 [00:32<00:00,  2.04s/it]<00:22,  1.41it/s]\n",
      "Training (8400 / 30000 Steps) (loss=0.60942):  50%|█████     | 31/62 [00:55<05:26, 10.52s/it]"
     ]
    },
    {
     "name": "stdout",
     "output_type": "stream",
     "text": [
      "Model Was Not Saved ! Current Best Avg. Dice: 0.9128209948539734 Current Avg. Dice: 0.9049392938613892\n"
     ]
    },
    {
     "name": "stderr",
     "output_type": "stream",
     "text": [
      "Training (8431 / 30000 Steps) (loss=0.48340): 100%|██████████| 62/62 [01:16<00:00,  1.24s/it]\n",
      "Training (8493 / 30000 Steps) (loss=0.51698): 100%|██████████| 62/62 [00:44<00:00,  1.39it/s]\n",
      "Training (8555 / 30000 Steps) (loss=0.53882): 100%|██████████| 62/62 [00:44<00:00,  1.40it/s]\n",
      "Validate (8556 / 10 Steps): 100%|██████████| 16/16 [00:32<00:00,  2.03s/it]<00:12,  1.43it/s]\n",
      "Training (8600 / 30000 Steps) (loss=0.40612):  73%|███████▎  | 45/62 [01:04<02:59, 10.56s/it]"
     ]
    },
    {
     "name": "stdout",
     "output_type": "stream",
     "text": [
      "Model Was Saved ! Current Best Avg. Dice: 0.9140543937683105 Current Avg. Dice: 0.9140543937683105\n"
     ]
    },
    {
     "name": "stderr",
     "output_type": "stream",
     "text": [
      "Training (8617 / 30000 Steps) (loss=0.63142): 100%|██████████| 62/62 [01:17<00:00,  1.25s/it]\n",
      "Training (8679 / 30000 Steps) (loss=0.45998): 100%|██████████| 62/62 [00:43<00:00,  1.42it/s]\n",
      "Training (8741 / 30000 Steps) (loss=0.50483): 100%|██████████| 62/62 [00:44<00:00,  1.39it/s]\n",
      "Validate (8742 / 10 Steps): 100%|██████████| 16/16 [00:33<00:00,  2.06s/it]<00:02,  1.40it/s]\n",
      "Training (8800 / 30000 Steps) (loss=0.46104):  95%|█████████▌| 59/62 [01:14<00:31, 10.61s/it]"
     ]
    },
    {
     "name": "stdout",
     "output_type": "stream",
     "text": [
      "Model Was Not Saved ! Current Best Avg. Dice: 0.9140543937683105 Current Avg. Dice: 0.9074045419692993\n"
     ]
    },
    {
     "name": "stderr",
     "output_type": "stream",
     "text": [
      "Training (8803 / 30000 Steps) (loss=0.50801): 100%|██████████| 62/62 [01:16<00:00,  1.24s/it]\n",
      "Training (8865 / 30000 Steps) (loss=0.78097): 100%|██████████| 62/62 [00:44<00:00,  1.39it/s]\n",
      "Training (8927 / 30000 Steps) (loss=0.45841): 100%|██████████| 62/62 [00:43<00:00,  1.41it/s]\n",
      "Training (8989 / 30000 Steps) (loss=0.64676): 100%|██████████| 62/62 [00:44<00:00,  1.40it/s]\n",
      "Validate (8990 / 10 Steps): 100%|██████████| 16/16 [00:32<00:00,  2.04s/it]<00:36,  1.42it/s]\n",
      "Training (9000 / 30000 Steps) (loss=0.55747):  18%|█▊        | 11/62 [00:41<09:16, 10.91s/it]"
     ]
    },
    {
     "name": "stdout",
     "output_type": "stream",
     "text": [
      "Model Was Saved ! Current Best Avg. Dice: 0.9164154529571533 Current Avg. Dice: 0.9164154529571533\n"
     ]
    },
    {
     "name": "stderr",
     "output_type": "stream",
     "text": [
      "Training (9051 / 30000 Steps) (loss=0.48685): 100%|██████████| 62/62 [01:17<00:00,  1.25s/it]\n",
      "Training (9113 / 30000 Steps) (loss=0.63825): 100%|██████████| 62/62 [00:43<00:00,  1.42it/s]\n",
      "Training (9175 / 30000 Steps) (loss=0.54265): 100%|██████████| 62/62 [00:44<00:00,  1.39it/s]\n",
      "Validate (9176 / 10 Steps): 100%|██████████| 16/16 [00:33<00:00,  2.07s/it]<00:26,  1.42it/s]\n",
      "Training (9200 / 30000 Steps) (loss=0.51163):  40%|████      | 25/62 [00:50<06:34, 10.66s/it]"
     ]
    },
    {
     "name": "stdout",
     "output_type": "stream",
     "text": [
      "Model Was Not Saved ! Current Best Avg. Dice: 0.9164154529571533 Current Avg. Dice: 0.9107216596603394\n"
     ]
    },
    {
     "name": "stderr",
     "output_type": "stream",
     "text": [
      "Training (9237 / 30000 Steps) (loss=0.37478): 100%|██████████| 62/62 [01:16<00:00,  1.24s/it]\n",
      "Training (9299 / 30000 Steps) (loss=0.53774): 100%|██████████| 62/62 [00:43<00:00,  1.41it/s]\n",
      "Training (9361 / 30000 Steps) (loss=0.58050): 100%|██████████| 62/62 [00:44<00:00,  1.39it/s]\n",
      "Validate (9362 / 10 Steps): 100%|██████████| 16/16 [00:33<00:00,  2.07s/it]<00:16,  1.42it/s]\n",
      "Training (9400 / 30000 Steps) (loss=0.57868):  63%|██████▎   | 39/62 [01:00<04:04, 10.65s/it]"
     ]
    },
    {
     "name": "stdout",
     "output_type": "stream",
     "text": [
      "Model Was Not Saved ! Current Best Avg. Dice: 0.9164154529571533 Current Avg. Dice: 0.9153643846511841\n"
     ]
    },
    {
     "name": "stderr",
     "output_type": "stream",
     "text": [
      "Training (9423 / 30000 Steps) (loss=0.43943): 100%|██████████| 62/62 [01:17<00:00,  1.24s/it]\n",
      "Training (9485 / 30000 Steps) (loss=0.47887): 100%|██████████| 62/62 [00:44<00:00,  1.40it/s]\n",
      "Training (9547 / 30000 Steps) (loss=0.51724): 100%|██████████| 62/62 [00:43<00:00,  1.41it/s]\n",
      "Validate (9548 / 10 Steps): 100%|██████████| 16/16 [00:32<00:00,  2.04s/it]<00:06,  1.43it/s]\n",
      "Training (9600 / 30000 Steps) (loss=0.58479):  85%|████████▌ | 53/62 [01:10<01:34, 10.48s/it]"
     ]
    },
    {
     "name": "stdout",
     "output_type": "stream",
     "text": [
      "Model Was Not Saved ! Current Best Avg. Dice: 0.9164154529571533 Current Avg. Dice: 0.9141691327095032\n"
     ]
    },
    {
     "name": "stderr",
     "output_type": "stream",
     "text": [
      "Training (9609 / 30000 Steps) (loss=0.78488): 100%|██████████| 62/62 [01:16<00:00,  1.24s/it]\n",
      "Training (9671 / 30000 Steps) (loss=0.68826): 100%|██████████| 62/62 [00:44<00:00,  1.40it/s]\n",
      "Training (9733 / 30000 Steps) (loss=0.50086): 100%|██████████| 62/62 [00:43<00:00,  1.41it/s]\n",
      "Training (9795 / 30000 Steps) (loss=0.76276): 100%|██████████| 62/62 [00:43<00:00,  1.41it/s]\n",
      "Validate (9796 / 10 Steps): 100%|██████████| 16/16 [00:33<00:00,  2.07s/it]00:41,  1.41it/s]\n",
      "Training (9800 / 30000 Steps) (loss=0.72967):   8%|▊         | 5/62 [00:37<12:15, 12.90s/it]"
     ]
    },
    {
     "name": "stdout",
     "output_type": "stream",
     "text": [
      "Model Was Saved ! Current Best Avg. Dice: 0.9190888404846191 Current Avg. Dice: 0.9190888404846191\n"
     ]
    },
    {
     "name": "stderr",
     "output_type": "stream",
     "text": [
      "Training (9857 / 30000 Steps) (loss=0.54724): 100%|██████████| 62/62 [01:17<00:00,  1.25s/it]\n",
      "Training (9919 / 30000 Steps) (loss=0.82380): 100%|██████████| 62/62 [00:44<00:00,  1.40it/s]\n",
      "Training (9981 / 30000 Steps) (loss=0.49244): 100%|██████████| 62/62 [00:44<00:00,  1.40it/s]\n",
      "Validate (9982 / 10 Steps): 100%|██████████| 16/16 [00:32<00:00,  2.03s/it]4<00:32,  1.34it/s]\n",
      "Training (10000 / 30000 Steps) (loss=0.61138):  31%|███       | 19/62 [00:46<07:31, 10.50s/it]"
     ]
    },
    {
     "name": "stdout",
     "output_type": "stream",
     "text": [
      "Model Was Not Saved ! Current Best Avg. Dice: 0.9190888404846191 Current Avg. Dice: 0.909096360206604\n"
     ]
    },
    {
     "name": "stderr",
     "output_type": "stream",
     "text": [
      "Training (10043 / 30000 Steps) (loss=0.68321): 100%|██████████| 62/62 [01:17<00:00,  1.24s/it]\n",
      "Training (10105 / 30000 Steps) (loss=0.51831): 100%|██████████| 62/62 [00:44<00:00,  1.39it/s]\n",
      "Training (10167 / 30000 Steps) (loss=0.51599): 100%|██████████| 62/62 [00:44<00:00,  1.40it/s]\n",
      "Validate (10168 / 10 Steps): 100%|██████████| 16/16 [00:32<00:00,  2.02s/it]<00:20,  1.43it/s]\n",
      "Training (10200 / 30000 Steps) (loss=0.47128):  53%|█████▎    | 33/62 [00:55<05:01, 10.40s/it]"
     ]
    },
    {
     "name": "stdout",
     "output_type": "stream",
     "text": [
      "Model Was Not Saved ! Current Best Avg. Dice: 0.9190888404846191 Current Avg. Dice: 0.8910186886787415\n"
     ]
    },
    {
     "name": "stderr",
     "output_type": "stream",
     "text": [
      "Training (10229 / 30000 Steps) (loss=0.55481): 100%|██████████| 62/62 [01:17<00:00,  1.25s/it]\n",
      "Training (10291 / 30000 Steps) (loss=0.51151): 100%|██████████| 62/62 [00:43<00:00,  1.43it/s]\n",
      "Training (10353 / 30000 Steps) (loss=0.58529): 100%|██████████| 62/62 [00:44<00:00,  1.39it/s]\n",
      "Validate (10354 / 10 Steps): 100%|██████████| 16/16 [00:33<00:00,  2.08s/it]<00:11,  1.38it/s]\n",
      "Training (10400 / 30000 Steps) (loss=0.48544):  76%|███████▌  | 47/62 [01:06<02:42, 10.83s/it]"
     ]
    },
    {
     "name": "stdout",
     "output_type": "stream",
     "text": [
      "Model Was Saved ! Current Best Avg. Dice: 0.9216918349266052 Current Avg. Dice: 0.9216918349266052\n"
     ]
    },
    {
     "name": "stderr",
     "output_type": "stream",
     "text": [
      "Training (10415 / 30000 Steps) (loss=0.51358): 100%|██████████| 62/62 [01:17<00:00,  1.25s/it]\n",
      "Training (10477 / 30000 Steps) (loss=0.50199): 100%|██████████| 62/62 [00:44<00:00,  1.39it/s]\n",
      "Training (10539 / 30000 Steps) (loss=0.50336): 100%|██████████| 62/62 [00:43<00:00,  1.41it/s]\n",
      "Validate (10540 / 10 Steps): 100%|██████████| 16/16 [00:32<00:00,  2.04s/it]<00:01,  1.43it/s]\n",
      "Training (10600 / 30000 Steps) (loss=0.44444):  98%|█████████▊| 61/62 [01:16<00:10, 10.51s/it]"
     ]
    },
    {
     "name": "stdout",
     "output_type": "stream",
     "text": [
      "Model Was Not Saved ! Current Best Avg. Dice: 0.9216918349266052 Current Avg. Dice: 0.8966794013977051\n"
     ]
    },
    {
     "name": "stderr",
     "output_type": "stream",
     "text": [
      "Training (10601 / 30000 Steps) (loss=0.59487): 100%|██████████| 62/62 [01:16<00:00,  1.24s/it]\n",
      "Training (10663 / 30000 Steps) (loss=0.41437): 100%|██████████| 62/62 [00:44<00:00,  1.39it/s]\n",
      "Training (10725 / 30000 Steps) (loss=0.49542): 100%|██████████| 62/62 [00:43<00:00,  1.42it/s]\n",
      "Training (10787 / 30000 Steps) (loss=0.69766): 100%|██████████| 62/62 [00:44<00:00,  1.39it/s]\n",
      "Validate (10788 / 10 Steps): 100%|██████████| 16/16 [00:33<00:00,  2.08s/it]<00:35,  1.42it/s]\n",
      "Training (10800 / 30000 Steps) (loss=0.78513):  21%|██        | 13/62 [00:42<08:47, 10.77s/it]"
     ]
    },
    {
     "name": "stdout",
     "output_type": "stream",
     "text": [
      "Model Was Not Saved ! Current Best Avg. Dice: 0.9216918349266052 Current Avg. Dice: 0.9150211811065674\n"
     ]
    },
    {
     "name": "stderr",
     "output_type": "stream",
     "text": [
      "Training (10849 / 30000 Steps) (loss=0.50616): 100%|██████████| 62/62 [01:16<00:00,  1.24s/it]\n",
      "Training (10911 / 30000 Steps) (loss=0.69416): 100%|██████████| 62/62 [00:43<00:00,  1.41it/s]\n",
      "Training (10973 / 30000 Steps) (loss=0.52058): 100%|██████████| 62/62 [00:44<00:00,  1.39it/s]\n",
      "Validate (10974 / 10 Steps): 100%|██████████| 16/16 [00:32<00:00,  2.06s/it]<00:25,  1.44it/s]\n",
      "Training (11000 / 30000 Steps) (loss=0.58727):  44%|████▎     | 27/62 [00:52<06:10, 10.60s/it]"
     ]
    },
    {
     "name": "stdout",
     "output_type": "stream",
     "text": [
      "Model Was Not Saved ! Current Best Avg. Dice: 0.9216918349266052 Current Avg. Dice: 0.9085333347320557\n"
     ]
    },
    {
     "name": "stderr",
     "output_type": "stream",
     "text": [
      "Training (11035 / 30000 Steps) (loss=0.92932): 100%|██████████| 62/62 [01:16<00:00,  1.24s/it]\n",
      "Training (11097 / 30000 Steps) (loss=0.55411): 100%|██████████| 62/62 [00:44<00:00,  1.40it/s]\n",
      "Training (11159 / 30000 Steps) (loss=0.59917): 100%|██████████| 62/62 [00:43<00:00,  1.42it/s]\n",
      "Validate (11160 / 10 Steps): 100%|██████████| 16/16 [00:32<00:00,  2.02s/it]<00:15,  1.42it/s]\n",
      "Training (11200 / 30000 Steps) (loss=0.45270):  66%|██████▌   | 41/62 [01:02<03:38, 10.40s/it]"
     ]
    },
    {
     "name": "stdout",
     "output_type": "stream",
     "text": [
      "Model Was Not Saved ! Current Best Avg. Dice: 0.9216918349266052 Current Avg. Dice: 0.9095134735107422\n"
     ]
    },
    {
     "name": "stderr",
     "output_type": "stream",
     "text": [
      "Training (11221 / 30000 Steps) (loss=0.39103): 100%|██████████| 62/62 [01:16<00:00,  1.24s/it]\n",
      "Training (11283 / 30000 Steps) (loss=0.41788): 100%|██████████| 62/62 [00:44<00:00,  1.39it/s]\n",
      "Training (11345 / 30000 Steps) (loss=0.35002): 100%|██████████| 62/62 [00:44<00:00,  1.40it/s]\n",
      "Validate (11346 / 10 Steps): 100%|██████████| 16/16 [00:33<00:00,  2.07s/it]<00:05,  1.42it/s]\n",
      "Training (11400 / 30000 Steps) (loss=0.71560):  89%|████████▊ | 55/62 [01:12<01:15, 10.83s/it]"
     ]
    },
    {
     "name": "stdout",
     "output_type": "stream",
     "text": [
      "Model Was Saved ! Current Best Avg. Dice: 0.9230553507804871 Current Avg. Dice: 0.9230553507804871\n"
     ]
    },
    {
     "name": "stderr",
     "output_type": "stream",
     "text": [
      "Training (11407 / 30000 Steps) (loss=0.67049): 100%|██████████| 62/62 [01:17<00:00,  1.25s/it]\n",
      "Training (11469 / 30000 Steps) (loss=0.57454): 100%|██████████| 62/62 [00:43<00:00,  1.41it/s]\n",
      "Training (11531 / 30000 Steps) (loss=0.34135): 100%|██████████| 62/62 [00:44<00:00,  1.40it/s]\n",
      "Training (11593 / 30000 Steps) (loss=0.56265): 100%|██████████| 62/62 [00:43<00:00,  1.41it/s]\n",
      "Validate (11594 / 10 Steps): 100%|██████████| 16/16 [00:33<00:00,  2.09s/it]00:39,  1.41it/s]\n",
      "Training (11600 / 30000 Steps) (loss=0.54913):  11%|█▏        | 7/62 [00:38<10:38, 11.62s/it]"
     ]
    },
    {
     "name": "stdout",
     "output_type": "stream",
     "text": [
      "Model Was Not Saved ! Current Best Avg. Dice: 0.9230553507804871 Current Avg. Dice: 0.918745756149292\n"
     ]
    },
    {
     "name": "stderr",
     "output_type": "stream",
     "text": [
      "Training (11655 / 30000 Steps) (loss=0.47288): 100%|██████████| 62/62 [01:16<00:00,  1.24s/it]\n",
      "Training (11717 / 30000 Steps) (loss=0.56541): 100%|██████████| 62/62 [00:44<00:00,  1.39it/s]\n",
      "Training (11779 / 30000 Steps) (loss=0.56041): 100%|██████████| 62/62 [00:44<00:00,  1.39it/s]\n",
      "Validate (11780 / 10 Steps): 100%|██████████| 16/16 [00:32<00:00,  2.03s/it]<00:29,  1.42it/s]\n",
      "Training (11800 / 30000 Steps) (loss=0.63231):  34%|███▍      | 21/62 [00:47<07:17, 10.66s/it]"
     ]
    },
    {
     "name": "stdout",
     "output_type": "stream",
     "text": [
      "Model Was Saved ! Current Best Avg. Dice: 0.9231560826301575 Current Avg. Dice: 0.9231560826301575\n"
     ]
    },
    {
     "name": "stderr",
     "output_type": "stream",
     "text": [
      "Training (11841 / 30000 Steps) (loss=0.67730): 100%|██████████| 62/62 [01:17<00:00,  1.25s/it]\n",
      "Training (11903 / 30000 Steps) (loss=0.36299): 100%|██████████| 62/62 [00:43<00:00,  1.42it/s]\n",
      "Training (11965 / 30000 Steps) (loss=0.50733): 100%|██████████| 62/62 [00:44<00:00,  1.40it/s]\n",
      "Validate (11966 / 10 Steps): 100%|██████████| 16/16 [00:33<00:00,  2.07s/it]<00:19,  1.43it/s]\n",
      "Training (12000 / 30000 Steps) (loss=0.57384):  56%|█████▋    | 35/62 [00:57<04:46, 10.63s/it]"
     ]
    },
    {
     "name": "stdout",
     "output_type": "stream",
     "text": [
      "Model Was Not Saved ! Current Best Avg. Dice: 0.9231560826301575 Current Avg. Dice: 0.9118053913116455\n"
     ]
    },
    {
     "name": "stderr",
     "output_type": "stream",
     "text": [
      "Training (12027 / 30000 Steps) (loss=0.67951): 100%|██████████| 62/62 [01:16<00:00,  1.24s/it]\n",
      "Training (12089 / 30000 Steps) (loss=0.55451): 100%|██████████| 62/62 [00:44<00:00,  1.40it/s]\n",
      "Training (12151 / 30000 Steps) (loss=0.39692): 100%|██████████| 62/62 [00:43<00:00,  1.42it/s]\n",
      "Validate (12152 / 10 Steps): 100%|██████████| 16/16 [00:32<00:00,  2.04s/it]<00:09,  1.43it/s]\n",
      "Training (12200 / 30000 Steps) (loss=0.46005):  79%|███████▉  | 49/62 [01:08<02:18, 10.69s/it]"
     ]
    },
    {
     "name": "stdout",
     "output_type": "stream",
     "text": [
      "Model Was Saved ! Current Best Avg. Dice: 0.9246190190315247 Current Avg. Dice: 0.9246190190315247\n"
     ]
    },
    {
     "name": "stderr",
     "output_type": "stream",
     "text": [
      "Training (12213 / 30000 Steps) (loss=0.92339): 100%|██████████| 62/62 [01:17<00:00,  1.25s/it]\n",
      "Training (12275 / 30000 Steps) (loss=0.58659): 100%|██████████| 62/62 [00:44<00:00,  1.39it/s]\n",
      "Training (12337 / 30000 Steps) (loss=0.56490): 100%|██████████| 62/62 [00:43<00:00,  1.42it/s]\n",
      "Training (12399 / 30000 Steps) (loss=0.44196): 100%|██████████| 62/62 [00:44<00:00,  1.40it/s]\n",
      "Validate (12400 / 10 Steps): 100%|██████████| 16/16 [00:33<00:00,  2.07s/it]?, ?it/s]\n",
      "Training (12400 / 30000 Steps) (loss=0.45804):   2%|▏         | 1/62 [00:33<34:28, 33.91s/it]"
     ]
    },
    {
     "name": "stdout",
     "output_type": "stream",
     "text": [
      "Model Was Not Saved ! Current Best Avg. Dice: 0.9246190190315247 Current Avg. Dice: 0.9174156188964844\n"
     ]
    },
    {
     "name": "stderr",
     "output_type": "stream",
     "text": [
      "Training (12461 / 30000 Steps) (loss=0.50068): 100%|██████████| 62/62 [01:16<00:00,  1.24s/it]\n",
      "Training (12523 / 30000 Steps) (loss=0.61017): 100%|██████████| 62/62 [00:44<00:00,  1.40it/s]\n",
      "Training (12585 / 30000 Steps) (loss=0.45421): 100%|██████████| 62/62 [00:43<00:00,  1.42it/s]\n",
      "Validate (12586 / 10 Steps): 100%|██████████| 16/16 [00:32<00:00,  2.02s/it]<00:33,  1.44it/s]\n",
      "Training (12600 / 30000 Steps) (loss=0.42822):  24%|██▍       | 15/62 [00:42<08:10, 10.44s/it]"
     ]
    },
    {
     "name": "stdout",
     "output_type": "stream",
     "text": [
      "Model Was Not Saved ! Current Best Avg. Dice: 0.9246190190315247 Current Avg. Dice: 0.9197766780853271\n"
     ]
    },
    {
     "name": "stderr",
     "output_type": "stream",
     "text": [
      "Training (12647 / 30000 Steps) (loss=0.41076): 100%|██████████| 62/62 [01:16<00:00,  1.23s/it]\n",
      "Training (12709 / 30000 Steps) (loss=0.49097): 100%|██████████| 62/62 [00:44<00:00,  1.40it/s]\n",
      "Training (12771 / 30000 Steps) (loss=0.39315): 100%|██████████| 62/62 [00:44<00:00,  1.40it/s]\n",
      "Validate (12772 / 10 Steps): 100%|██████████| 16/16 [00:32<00:00,  2.06s/it]<00:26,  1.27it/s]\n",
      "Training (12800 / 30000 Steps) (loss=0.40486):  47%|████▋     | 29/62 [00:54<05:52, 10.68s/it]"
     ]
    },
    {
     "name": "stdout",
     "output_type": "stream",
     "text": [
      "Model Was Not Saved ! Current Best Avg. Dice: 0.9246190190315247 Current Avg. Dice: 0.9222922325134277\n"
     ]
    },
    {
     "name": "stderr",
     "output_type": "stream",
     "text": [
      "Training (12833 / 30000 Steps) (loss=0.57056): 100%|██████████| 62/62 [01:17<00:00,  1.25s/it]\n",
      "Training (12895 / 30000 Steps) (loss=0.62274): 100%|██████████| 62/62 [00:44<00:00,  1.38it/s]\n",
      "Training (12957 / 30000 Steps) (loss=0.51273): 100%|██████████| 62/62 [00:44<00:00,  1.41it/s]\n",
      "Validate (12958 / 10 Steps): 100%|██████████| 16/16 [00:32<00:00,  2.04s/it]<00:14,  1.42it/s]\n",
      "Training (13000 / 30000 Steps) (loss=0.65724):  69%|██████▉   | 43/62 [01:03<03:19, 10.51s/it]"
     ]
    },
    {
     "name": "stdout",
     "output_type": "stream",
     "text": [
      "Model Was Not Saved ! Current Best Avg. Dice: 0.9246190190315247 Current Avg. Dice: 0.9043339490890503\n"
     ]
    },
    {
     "name": "stderr",
     "output_type": "stream",
     "text": [
      "Training (13019 / 30000 Steps) (loss=0.44522): 100%|██████████| 62/62 [01:17<00:00,  1.25s/it]\n",
      "Training (13081 / 30000 Steps) (loss=0.36457): 100%|██████████| 62/62 [00:43<00:00,  1.41it/s]\n",
      "Training (13143 / 30000 Steps) (loss=0.53522): 100%|██████████| 62/62 [00:44<00:00,  1.40it/s]\n",
      "Validate (13144 / 10 Steps): 100%|██████████| 16/16 [00:33<00:00,  2.09s/it]<00:04,  1.42it/s]\n",
      "Training (13200 / 30000 Steps) (loss=0.34572):  92%|█████████▏| 57/62 [01:14<00:54, 10.92s/it]"
     ]
    },
    {
     "name": "stdout",
     "output_type": "stream",
     "text": [
      "Model Was Saved ! Current Best Avg. Dice: 0.9303145408630371 Current Avg. Dice: 0.9303145408630371\n"
     ]
    },
    {
     "name": "stderr",
     "output_type": "stream",
     "text": [
      "Training (13205 / 30000 Steps) (loss=0.41777): 100%|██████████| 62/62 [01:17<00:00,  1.26s/it]\n",
      "Training (13267 / 30000 Steps) (loss=0.73519): 100%|██████████| 62/62 [00:43<00:00,  1.42it/s]\n",
      "Training (13329 / 30000 Steps) (loss=0.47476): 100%|██████████| 62/62 [00:44<00:00,  1.39it/s]\n",
      "Training (13391 / 30000 Steps) (loss=0.42141): 100%|██████████| 62/62 [00:44<00:00,  1.39it/s]\n",
      "Validate (13392 / 10 Steps): 100%|██████████| 16/16 [00:32<00:00,  2.02s/it]00:38,  1.41it/s]\n",
      "Training (13400 / 30000 Steps) (loss=0.73956):  15%|█▍        | 9/62 [00:38<09:33, 10.83s/it]"
     ]
    },
    {
     "name": "stdout",
     "output_type": "stream",
     "text": [
      "Model Was Not Saved ! Current Best Avg. Dice: 0.9303145408630371 Current Avg. Dice: 0.9266129732131958\n"
     ]
    },
    {
     "name": "stderr",
     "output_type": "stream",
     "text": [
      "Training (13453 / 30000 Steps) (loss=0.65526): 100%|██████████| 62/62 [01:17<00:00,  1.25s/it]\n",
      "Training (13515 / 30000 Steps) (loss=0.49574): 100%|██████████| 62/62 [00:43<00:00,  1.41it/s]\n",
      "Training (13577 / 30000 Steps) (loss=0.66315): 100%|██████████| 62/62 [00:44<00:00,  1.40it/s]\n",
      "Validate (13578 / 10 Steps): 100%|██████████| 16/16 [00:32<00:00,  2.06s/it]<00:28,  1.41it/s]\n",
      "Training (13600 / 30000 Steps) (loss=0.56030):  37%|███▋      | 23/62 [00:49<06:53, 10.61s/it]"
     ]
    },
    {
     "name": "stdout",
     "output_type": "stream",
     "text": [
      "Model Was Not Saved ! Current Best Avg. Dice: 0.9303145408630371 Current Avg. Dice: 0.9188562631607056\n"
     ]
    },
    {
     "name": "stderr",
     "output_type": "stream",
     "text": [
      "Training (13639 / 30000 Steps) (loss=0.49184): 100%|██████████| 62/62 [01:17<00:00,  1.25s/it]\n",
      "Training (13701 / 30000 Steps) (loss=0.74369): 100%|██████████| 62/62 [00:43<00:00,  1.41it/s]\n",
      "Training (13763 / 30000 Steps) (loss=0.75087): 100%|██████████| 62/62 [00:44<00:00,  1.40it/s]\n",
      "Validate (13764 / 10 Steps): 100%|██████████| 16/16 [00:33<00:00,  2.08s/it]<00:19,  1.34it/s]\n",
      "Training (13800 / 30000 Steps) (loss=0.68256):  60%|█████▉    | 37/62 [00:59<04:28, 10.73s/it]"
     ]
    },
    {
     "name": "stdout",
     "output_type": "stream",
     "text": [
      "Model Was Not Saved ! Current Best Avg. Dice: 0.9303145408630371 Current Avg. Dice: 0.9091893434524536\n"
     ]
    },
    {
     "name": "stderr",
     "output_type": "stream",
     "text": [
      "Training (13825 / 30000 Steps) (loss=0.64141): 100%|██████████| 62/62 [01:17<00:00,  1.25s/it]\n",
      "Training (13887 / 30000 Steps) (loss=0.48137): 100%|██████████| 62/62 [00:44<00:00,  1.38it/s]\n",
      "Training (13949 / 30000 Steps) (loss=0.40956): 100%|██████████| 62/62 [00:43<00:00,  1.41it/s]\n",
      "Validate (13950 / 10 Steps): 100%|██████████| 16/16 [00:32<00:00,  2.04s/it]<00:08,  1.43it/s]\n",
      "Training (14000 / 30000 Steps) (loss=0.47763):  82%|████████▏ | 51/62 [01:09<01:55, 10.52s/it]"
     ]
    },
    {
     "name": "stdout",
     "output_type": "stream",
     "text": [
      "Model Was Not Saved ! Current Best Avg. Dice: 0.9303145408630371 Current Avg. Dice: 0.9153976440429688\n"
     ]
    },
    {
     "name": "stderr",
     "output_type": "stream",
     "text": [
      "Training (14011 / 30000 Steps) (loss=0.40609): 100%|██████████| 62/62 [01:17<00:00,  1.24s/it]\n",
      "Training (14073 / 30000 Steps) (loss=0.48185): 100%|██████████| 62/62 [00:44<00:00,  1.39it/s]\n",
      "Training (14135 / 30000 Steps) (loss=0.43508): 100%|██████████| 62/62 [00:44<00:00,  1.40it/s]\n",
      "Training (14197 / 30000 Steps) (loss=0.39175): 100%|██████████| 62/62 [00:44<00:00,  1.41it/s]\n",
      "Validate (14198 / 10 Steps): 100%|██████████| 16/16 [00:33<00:00,  2.07s/it]00:44,  1.36it/s]\n",
      "Training (14200 / 30000 Steps) (loss=0.52677):   5%|▍         | 3/62 [00:35<15:33, 15.82s/it]"
     ]
    },
    {
     "name": "stdout",
     "output_type": "stream",
     "text": [
      "Model Was Not Saved ! Current Best Avg. Dice: 0.9303145408630371 Current Avg. Dice: 0.9263458847999573\n"
     ]
    },
    {
     "name": "stderr",
     "output_type": "stream",
     "text": [
      "Training (14259 / 30000 Steps) (loss=0.84678): 100%|██████████| 62/62 [01:16<00:00,  1.24s/it]\n",
      "Training (14321 / 30000 Steps) (loss=0.49164): 100%|██████████| 62/62 [00:44<00:00,  1.40it/s]\n",
      "Training (14383 / 30000 Steps) (loss=0.60366): 100%|██████████| 62/62 [00:43<00:00,  1.42it/s]\n",
      "Validate (14384 / 10 Steps): 100%|██████████| 16/16 [00:33<00:00,  2.08s/it]<00:32,  1.43it/s]\n",
      "Training (14400 / 30000 Steps) (loss=0.48877):  27%|██▋       | 17/62 [00:45<08:00, 10.69s/it]"
     ]
    },
    {
     "name": "stdout",
     "output_type": "stream",
     "text": [
      "Model Was Not Saved ! Current Best Avg. Dice: 0.9303145408630371 Current Avg. Dice: 0.9228367805480957\n"
     ]
    },
    {
     "name": "stderr",
     "output_type": "stream",
     "text": [
      "Training (14445 / 30000 Steps) (loss=0.59204): 100%|██████████| 62/62 [01:16<00:00,  1.24s/it]\n",
      "Training (14507 / 30000 Steps) (loss=0.47320): 100%|██████████| 62/62 [00:44<00:00,  1.39it/s]\n",
      "Training (14569 / 30000 Steps) (loss=0.43085): 100%|██████████| 62/62 [00:43<00:00,  1.41it/s]\n",
      "Validate (14570 / 10 Steps): 100%|██████████| 16/16 [00:32<00:00,  2.04s/it]<00:22,  1.43it/s]\n",
      "Training (14600 / 30000 Steps) (loss=0.37094):  50%|█████     | 31/62 [00:55<05:25, 10.51s/it]"
     ]
    },
    {
     "name": "stdout",
     "output_type": "stream",
     "text": [
      "Model Was Not Saved ! Current Best Avg. Dice: 0.9303145408630371 Current Avg. Dice: 0.9098562002182007\n"
     ]
    },
    {
     "name": "stderr",
     "output_type": "stream",
     "text": [
      "Training (14631 / 30000 Steps) (loss=0.53162): 100%|██████████| 62/62 [01:17<00:00,  1.24s/it]\n",
      "Training (14693 / 30000 Steps) (loss=0.42033): 100%|██████████| 62/62 [00:44<00:00,  1.39it/s]\n",
      "Training (14755 / 30000 Steps) (loss=0.42732): 100%|██████████| 62/62 [00:44<00:00,  1.39it/s]\n",
      "Validate (14756 / 10 Steps): 100%|██████████| 16/16 [00:33<00:00,  2.07s/it]<00:12,  1.42it/s]\n",
      "Training (14800 / 30000 Steps) (loss=0.41971):  73%|███████▎  | 45/62 [01:04<03:01, 10.66s/it]"
     ]
    },
    {
     "name": "stdout",
     "output_type": "stream",
     "text": [
      "Model Was Not Saved ! Current Best Avg. Dice: 0.9303145408630371 Current Avg. Dice: 0.9173516035079956\n"
     ]
    },
    {
     "name": "stderr",
     "output_type": "stream",
     "text": [
      "Training (14817 / 30000 Steps) (loss=0.52139): 100%|██████████| 62/62 [01:16<00:00,  1.24s/it]\n",
      "Training (14879 / 30000 Steps) (loss=0.80267): 100%|██████████| 62/62 [00:43<00:00,  1.42it/s]\n",
      "Training (14941 / 30000 Steps) (loss=0.54619): 100%|██████████| 62/62 [00:44<00:00,  1.40it/s]\n",
      "Validate (14942 / 10 Steps): 100%|██████████| 16/16 [00:32<00:00,  2.03s/it]<00:03,  1.29it/s]\n",
      "Training (15000 / 30000 Steps) (loss=0.53939):  95%|█████████▌| 59/62 [01:14<00:31, 10.54s/it]"
     ]
    },
    {
     "name": "stdout",
     "output_type": "stream",
     "text": [
      "Model Was Not Saved ! Current Best Avg. Dice: 0.9303145408630371 Current Avg. Dice: 0.9275487661361694\n"
     ]
    },
    {
     "name": "stderr",
     "output_type": "stream",
     "text": [
      "Training (15003 / 30000 Steps) (loss=0.52328): 100%|██████████| 62/62 [01:16<00:00,  1.24s/it]\n",
      "Training (15065 / 30000 Steps) (loss=0.67964): 100%|██████████| 62/62 [00:44<00:00,  1.39it/s]\n",
      "Training (15127 / 30000 Steps) (loss=0.57540): 100%|██████████| 62/62 [00:43<00:00,  1.41it/s]\n",
      "Training (15189 / 30000 Steps) (loss=0.61915): 100%|██████████| 62/62 [00:44<00:00,  1.39it/s]\n",
      "Validate (15190 / 10 Steps): 100%|██████████| 16/16 [00:32<00:00,  2.02s/it]<00:36,  1.41it/s]\n",
      "Training (15200 / 30000 Steps) (loss=0.48983):  18%|█▊        | 11/62 [00:40<09:00, 10.60s/it]"
     ]
    },
    {
     "name": "stdout",
     "output_type": "stream",
     "text": [
      "Model Was Not Saved ! Current Best Avg. Dice: 0.9303145408630371 Current Avg. Dice: 0.9234483242034912\n"
     ]
    },
    {
     "name": "stderr",
     "output_type": "stream",
     "text": [
      "Training (15251 / 30000 Steps) (loss=0.32506): 100%|██████████| 62/62 [01:17<00:00,  1.25s/it]\n",
      "Training (15313 / 30000 Steps) (loss=0.46194): 100%|██████████| 62/62 [00:43<00:00,  1.42it/s]\n",
      "Training (15375 / 30000 Steps) (loss=0.58025): 100%|██████████| 62/62 [00:44<00:00,  1.39it/s]\n",
      "Validate (15376 / 10 Steps): 100%|██████████| 16/16 [00:33<00:00,  2.09s/it]<00:26,  1.42it/s]\n",
      "Training (15400 / 30000 Steps) (loss=0.44793):  40%|████      | 25/62 [00:51<06:37, 10.73s/it]"
     ]
    },
    {
     "name": "stdout",
     "output_type": "stream",
     "text": [
      "Model Was Not Saved ! Current Best Avg. Dice: 0.9303145408630371 Current Avg. Dice: 0.9217900633811951\n"
     ]
    },
    {
     "name": "stderr",
     "output_type": "stream",
     "text": [
      "Training (15437 / 30000 Steps) (loss=0.52570): 100%|██████████| 62/62 [01:16<00:00,  1.24s/it]\n",
      "Training (15499 / 30000 Steps) (loss=0.45832): 100%|██████████| 62/62 [00:44<00:00,  1.39it/s]\n",
      "Training (15561 / 30000 Steps) (loss=0.55188): 100%|██████████| 62/62 [00:43<00:00,  1.41it/s]\n",
      "Validate (15562 / 10 Steps): 100%|██████████| 16/16 [00:32<00:00,  2.04s/it]<00:16,  1.44it/s]\n",
      "Training (15600 / 30000 Steps) (loss=0.51406):  63%|██████▎   | 39/62 [01:00<04:01, 10.51s/it]"
     ]
    },
    {
     "name": "stdout",
     "output_type": "stream",
     "text": [
      "Model Was Not Saved ! Current Best Avg. Dice: 0.9303145408630371 Current Avg. Dice: 0.9147730469703674\n"
     ]
    },
    {
     "name": "stderr",
     "output_type": "stream",
     "text": [
      "Training (15623 / 30000 Steps) (loss=0.50446): 100%|██████████| 62/62 [01:16<00:00,  1.24s/it]\n",
      "Training (15685 / 30000 Steps) (loss=0.57812): 100%|██████████| 62/62 [00:44<00:00,  1.39it/s]\n",
      "Training (15747 / 30000 Steps) (loss=0.46087): 100%|██████████| 62/62 [00:44<00:00,  1.40it/s]\n",
      "Validate (15748 / 10 Steps): 100%|██████████| 16/16 [00:33<00:00,  2.08s/it]<00:06,  1.43it/s]\n",
      "Training (15800 / 30000 Steps) (loss=0.63403):  85%|████████▌ | 53/62 [01:10<01:36, 10.68s/it]"
     ]
    },
    {
     "name": "stdout",
     "output_type": "stream",
     "text": [
      "Model Was Not Saved ! Current Best Avg. Dice: 0.9303145408630371 Current Avg. Dice: 0.9162055850028992\n"
     ]
    },
    {
     "name": "stderr",
     "output_type": "stream",
     "text": [
      "Training (15809 / 30000 Steps) (loss=0.40536): 100%|██████████| 62/62 [01:17<00:00,  1.25s/it]\n",
      "Training (15871 / 30000 Steps) (loss=0.49055): 100%|██████████| 62/62 [00:43<00:00,  1.42it/s]\n",
      "Training (15933 / 30000 Steps) (loss=0.46506): 100%|██████████| 62/62 [00:44<00:00,  1.39it/s]\n",
      "Training (15995 / 30000 Steps) (loss=0.45986): 100%|██████████| 62/62 [00:43<00:00,  1.41it/s]\n",
      "Validate (15996 / 10 Steps): 100%|██████████| 16/16 [00:33<00:00,  2.06s/it]00:41,  1.40it/s]\n",
      "Training (16000 / 30000 Steps) (loss=0.34180):   8%|▊         | 5/62 [00:36<11:59, 12.62s/it]"
     ]
    },
    {
     "name": "stdout",
     "output_type": "stream",
     "text": [
      "Model Was Not Saved ! Current Best Avg. Dice: 0.9303145408630371 Current Avg. Dice: 0.9222855567932129\n"
     ]
    },
    {
     "name": "stderr",
     "output_type": "stream",
     "text": [
      "Training (16057 / 30000 Steps) (loss=0.45213): 100%|██████████| 62/62 [01:16<00:00,  1.24s/it]\n",
      "Training (16119 / 30000 Steps) (loss=0.53388): 100%|██████████| 62/62 [00:44<00:00,  1.39it/s]\n",
      "Training (16181 / 30000 Steps) (loss=0.34279): 100%|██████████| 62/62 [00:43<00:00,  1.42it/s]\n",
      "Validate (16182 / 10 Steps): 100%|██████████| 16/16 [00:32<00:00,  2.03s/it]<00:31,  1.40it/s]\n",
      "Training (16200 / 30000 Steps) (loss=0.41639):  31%|███       | 19/62 [00:46<07:30, 10.47s/it]"
     ]
    },
    {
     "name": "stdout",
     "output_type": "stream",
     "text": [
      "Model Was Not Saved ! Current Best Avg. Dice: 0.9303145408630371 Current Avg. Dice: 0.9240468144416809\n"
     ]
    },
    {
     "name": "stderr",
     "output_type": "stream",
     "text": [
      "Training (16243 / 30000 Steps) (loss=0.45249): 100%|██████████| 62/62 [01:17<00:00,  1.25s/it]\n",
      "Training (16305 / 30000 Steps) (loss=0.65085): 100%|██████████| 62/62 [00:44<00:00,  1.41it/s]\n",
      "Training (16367 / 30000 Steps) (loss=0.60315): 100%|██████████| 62/62 [00:44<00:00,  1.38it/s]\n",
      "Validate (16368 / 10 Steps): 100%|██████████| 16/16 [00:32<00:00,  2.05s/it]<00:21,  1.43it/s]\n",
      "Training (16400 / 30000 Steps) (loss=0.49262):  53%|█████▎    | 33/62 [00:56<05:06, 10.56s/it]"
     ]
    },
    {
     "name": "stdout",
     "output_type": "stream",
     "text": [
      "Model Was Not Saved ! Current Best Avg. Dice: 0.9303145408630371 Current Avg. Dice: 0.9252637624740601\n"
     ]
    },
    {
     "name": "stderr",
     "output_type": "stream",
     "text": [
      "Training (16429 / 30000 Steps) (loss=0.64792): 100%|██████████| 62/62 [01:17<00:00,  1.25s/it]\n",
      "Training (16491 / 30000 Steps) (loss=0.53238): 100%|██████████| 62/62 [00:44<00:00,  1.39it/s]\n",
      "Training (16553 / 30000 Steps) (loss=0.45662): 100%|██████████| 62/62 [00:44<00:00,  1.39it/s]\n",
      "Validate (16554 / 10 Steps): 100%|██████████| 16/16 [00:33<00:00,  2.07s/it]<00:11,  1.42it/s]\n",
      "Training (16600 / 30000 Steps) (loss=0.51337):  76%|███████▌  | 47/62 [01:06<02:39, 10.65s/it]"
     ]
    },
    {
     "name": "stdout",
     "output_type": "stream",
     "text": [
      "Model Was Not Saved ! Current Best Avg. Dice: 0.9303145408630371 Current Avg. Dice: 0.9213175773620605\n"
     ]
    },
    {
     "name": "stderr",
     "output_type": "stream",
     "text": [
      "Training (16615 / 30000 Steps) (loss=0.57476): 100%|██████████| 62/62 [01:16<00:00,  1.24s/it]\n",
      "Training (16677 / 30000 Steps) (loss=0.65055): 100%|██████████| 62/62 [00:44<00:00,  1.39it/s]\n",
      "Training (16739 / 30000 Steps) (loss=0.46759): 100%|██████████| 62/62 [00:43<00:00,  1.42it/s]\n",
      "Validate (16740 / 10 Steps): 100%|██████████| 16/16 [00:32<00:00,  2.02s/it]<00:01,  1.43it/s]\n",
      "Training (16800 / 30000 Steps) (loss=0.52074):  98%|█████████▊| 61/62 [01:16<00:10, 10.39s/it]"
     ]
    },
    {
     "name": "stdout",
     "output_type": "stream",
     "text": [
      "Model Was Not Saved ! Current Best Avg. Dice: 0.9303145408630371 Current Avg. Dice: 0.9190623760223389\n"
     ]
    },
    {
     "name": "stderr",
     "output_type": "stream",
     "text": [
      "Training (16801 / 30000 Steps) (loss=0.30358): 100%|██████████| 62/62 [01:16<00:00,  1.24s/it]\n",
      "Training (16863 / 30000 Steps) (loss=0.79622): 100%|██████████| 62/62 [00:44<00:00,  1.39it/s]\n",
      "Training (16925 / 30000 Steps) (loss=0.34448): 100%|██████████| 62/62 [00:44<00:00,  1.41it/s]\n",
      "Training (16987 / 30000 Steps) (loss=0.46852): 100%|██████████| 62/62 [00:44<00:00,  1.41it/s]\n",
      "Validate (16988 / 10 Steps): 100%|██████████| 16/16 [00:33<00:00,  2.07s/it]<00:35,  1.42it/s]\n",
      "Training (17000 / 30000 Steps) (loss=0.45388):  21%|██        | 13/62 [00:42<08:45, 10.72s/it]"
     ]
    },
    {
     "name": "stdout",
     "output_type": "stream",
     "text": [
      "Model Was Not Saved ! Current Best Avg. Dice: 0.9303145408630371 Current Avg. Dice: 0.923776388168335\n"
     ]
    },
    {
     "name": "stderr",
     "output_type": "stream",
     "text": [
      "Training (17049 / 30000 Steps) (loss=0.45269): 100%|██████████| 62/62 [01:16<00:00,  1.24s/it]\n",
      "Training (17111 / 30000 Steps) (loss=0.65042): 100%|██████████| 62/62 [00:44<00:00,  1.40it/s]\n",
      "Training (17173 / 30000 Steps) (loss=0.42809): 100%|██████████| 62/62 [00:43<00:00,  1.42it/s]\n",
      "Validate (17174 / 10 Steps): 100%|██████████| 16/16 [00:32<00:00,  2.03s/it]<00:26,  1.34it/s]\n",
      "Training (17200 / 30000 Steps) (loss=0.45338):  44%|████▎     | 27/62 [00:52<06:06, 10.48s/it]"
     ]
    },
    {
     "name": "stdout",
     "output_type": "stream",
     "text": [
      "Model Was Not Saved ! Current Best Avg. Dice: 0.9303145408630371 Current Avg. Dice: 0.9250677824020386\n"
     ]
    },
    {
     "name": "stderr",
     "output_type": "stream",
     "text": [
      "Training (17235 / 30000 Steps) (loss=0.41372): 100%|██████████| 62/62 [01:16<00:00,  1.24s/it]\n",
      "Training (17297 / 30000 Steps) (loss=0.42259): 100%|██████████| 62/62 [00:44<00:00,  1.39it/s]\n",
      "Training (17359 / 30000 Steps) (loss=0.73023): 100%|██████████| 62/62 [00:44<00:00,  1.39it/s]\n",
      "Validate (17360 / 10 Steps): 100%|██████████| 16/16 [00:32<00:00,  2.05s/it]<00:15,  1.43it/s]\n",
      "Training (17400 / 30000 Steps) (loss=0.43598):  66%|██████▌   | 41/62 [01:01<03:41, 10.56s/it]"
     ]
    },
    {
     "name": "stdout",
     "output_type": "stream",
     "text": [
      "Model Was Not Saved ! Current Best Avg. Dice: 0.9303145408630371 Current Avg. Dice: 0.9291610717773438\n"
     ]
    },
    {
     "name": "stderr",
     "output_type": "stream",
     "text": [
      "Training (17421 / 30000 Steps) (loss=0.46116): 100%|██████████| 62/62 [01:16<00:00,  1.24s/it]\n",
      "Training (17483 / 30000 Steps) (loss=0.54248): 100%|██████████| 62/62 [00:43<00:00,  1.41it/s]\n",
      "Training (17545 / 30000 Steps) (loss=0.51706): 100%|██████████| 62/62 [00:44<00:00,  1.39it/s]\n",
      "Validate (17546 / 10 Steps): 100%|██████████| 16/16 [00:33<00:00,  2.10s/it]<00:05,  1.40it/s]\n",
      "Training (17600 / 30000 Steps) (loss=0.52927):  89%|████████▊ | 55/62 [01:13<01:15, 10.77s/it]"
     ]
    },
    {
     "name": "stdout",
     "output_type": "stream",
     "text": [
      "Model Was Not Saved ! Current Best Avg. Dice: 0.9303145408630371 Current Avg. Dice: 0.9082876443862915\n"
     ]
    },
    {
     "name": "stderr",
     "output_type": "stream",
     "text": [
      "Training (17607 / 30000 Steps) (loss=0.46090): 100%|██████████| 62/62 [01:17<00:00,  1.26s/it]\n",
      "Training (17669 / 30000 Steps) (loss=0.45638): 100%|██████████| 62/62 [00:43<00:00,  1.43it/s]\n",
      "Training (17731 / 30000 Steps) (loss=0.48327): 100%|██████████| 62/62 [00:44<00:00,  1.39it/s]\n",
      "Training (17793 / 30000 Steps) (loss=0.50597): 100%|██████████| 62/62 [00:43<00:00,  1.41it/s]\n",
      "Validate (17794 / 10 Steps): 100%|██████████| 16/16 [00:32<00:00,  2.05s/it]00:41,  1.35it/s]\n",
      "Training (17800 / 30000 Steps) (loss=0.43928):  11%|█▏        | 7/62 [00:38<10:32, 11.50s/it]"
     ]
    },
    {
     "name": "stdout",
     "output_type": "stream",
     "text": [
      "Model Was Not Saved ! Current Best Avg. Dice: 0.9303145408630371 Current Avg. Dice: 0.9187526702880859\n"
     ]
    },
    {
     "name": "stderr",
     "output_type": "stream",
     "text": [
      "Training (17855 / 30000 Steps) (loss=0.29207): 100%|██████████| 62/62 [01:17<00:00,  1.24s/it]\n",
      "Training (17917 / 30000 Steps) (loss=0.72214): 100%|██████████| 62/62 [00:44<00:00,  1.39it/s]\n",
      "Training (17979 / 30000 Steps) (loss=0.48334): 100%|██████████| 62/62 [00:44<00:00,  1.40it/s]\n",
      "Validate (17980 / 10 Steps): 100%|██████████| 16/16 [00:32<00:00,  2.02s/it]<00:29,  1.41it/s]\n",
      "Training (18000 / 30000 Steps) (loss=0.49000):  34%|███▍      | 21/62 [00:47<07:06, 10.41s/it]"
     ]
    },
    {
     "name": "stdout",
     "output_type": "stream",
     "text": [
      "Model Was Not Saved ! Current Best Avg. Dice: 0.9303145408630371 Current Avg. Dice: 0.900616466999054\n"
     ]
    },
    {
     "name": "stderr",
     "output_type": "stream",
     "text": [
      "Training (18041 / 30000 Steps) (loss=0.61468): 100%|██████████| 62/62 [01:17<00:00,  1.25s/it]\n",
      "Training (18103 / 30000 Steps) (loss=0.60329): 100%|██████████| 62/62 [00:43<00:00,  1.42it/s]\n",
      "Training (18165 / 30000 Steps) (loss=0.49131): 100%|██████████| 62/62 [00:44<00:00,  1.39it/s]\n",
      "Validate (18166 / 10 Steps): 100%|██████████| 16/16 [00:33<00:00,  2.09s/it]<00:19,  1.43it/s]\n",
      "Training (18200 / 30000 Steps) (loss=0.59786):  56%|█████▋    | 35/62 [00:58<04:49, 10.72s/it]"
     ]
    },
    {
     "name": "stdout",
     "output_type": "stream",
     "text": [
      "Model Was Not Saved ! Current Best Avg. Dice: 0.9303145408630371 Current Avg. Dice: 0.9183464050292969\n"
     ]
    },
    {
     "name": "stderr",
     "output_type": "stream",
     "text": [
      "Training (18227 / 30000 Steps) (loss=0.61282): 100%|██████████| 62/62 [01:16<00:00,  1.24s/it]\n",
      "Training (18289 / 30000 Steps) (loss=0.40907): 100%|██████████| 62/62 [00:44<00:00,  1.39it/s]\n",
      "Training (18351 / 30000 Steps) (loss=0.53478): 100%|██████████| 62/62 [00:43<00:00,  1.41it/s]\n",
      "Validate (18352 / 10 Steps): 100%|██████████| 16/16 [00:32<00:00,  2.04s/it]<00:09,  1.42it/s]\n",
      "Training (18400 / 30000 Steps) (loss=0.59689):  79%|███████▉  | 49/62 [01:07<02:16, 10.52s/it]"
     ]
    },
    {
     "name": "stdout",
     "output_type": "stream",
     "text": [
      "Model Was Not Saved ! Current Best Avg. Dice: 0.9303145408630371 Current Avg. Dice: 0.9262198209762573\n"
     ]
    },
    {
     "name": "stderr",
     "output_type": "stream",
     "text": [
      "Training (18413 / 30000 Steps) (loss=0.40441): 100%|██████████| 62/62 [01:17<00:00,  1.24s/it]\n",
      "Training (18475 / 30000 Steps) (loss=0.57153): 100%|██████████| 62/62 [00:44<00:00,  1.39it/s]\n",
      "Training (18537 / 30000 Steps) (loss=0.52345): 100%|██████████| 62/62 [00:43<00:00,  1.42it/s]\n",
      "Training (18599 / 30000 Steps) (loss=0.48264): 100%|██████████| 62/62 [00:44<00:00,  1.39it/s]\n",
      "Validate (18600 / 10 Steps): 100%|██████████| 16/16 [00:33<00:00,  2.07s/it]?, ?it/s]\n",
      "Training (18600 / 30000 Steps) (loss=0.53766):   2%|▏         | 1/62 [00:33<34:27, 33.89s/it]"
     ]
    },
    {
     "name": "stdout",
     "output_type": "stream",
     "text": [
      "Model Was Not Saved ! Current Best Avg. Dice: 0.9303145408630371 Current Avg. Dice: 0.9116116762161255\n"
     ]
    },
    {
     "name": "stderr",
     "output_type": "stream",
     "text": [
      "Training (18661 / 30000 Steps) (loss=0.53407): 100%|██████████| 62/62 [01:16<00:00,  1.24s/it]\n",
      "Training (18723 / 30000 Steps) (loss=0.60821): 100%|██████████| 62/62 [00:44<00:00,  1.39it/s]\n",
      "Training (18785 / 30000 Steps) (loss=0.57332): 100%|██████████| 62/62 [00:43<00:00,  1.41it/s]\n",
      "Validate (18786 / 10 Steps): 100%|██████████| 16/16 [00:32<00:00,  2.05s/it]<00:37,  1.29it/s]\n",
      "Training (18800 / 30000 Steps) (loss=0.64092):  24%|██▍       | 15/62 [00:43<08:21, 10.66s/it]"
     ]
    },
    {
     "name": "stdout",
     "output_type": "stream",
     "text": [
      "Model Was Not Saved ! Current Best Avg. Dice: 0.9303145408630371 Current Avg. Dice: 0.9264728426933289\n"
     ]
    },
    {
     "name": "stderr",
     "output_type": "stream",
     "text": [
      "Training (18847 / 30000 Steps) (loss=0.44164): 100%|██████████| 62/62 [01:16<00:00,  1.24s/it]\n",
      "Training (18909 / 30000 Steps) (loss=0.34527): 100%|██████████| 62/62 [00:44<00:00,  1.39it/s]\n",
      "Training (18971 / 30000 Steps) (loss=0.40718): 100%|██████████| 62/62 [00:44<00:00,  1.40it/s]\n",
      "Validate (18972 / 10 Steps): 100%|██████████| 16/16 [00:32<00:00,  2.02s/it]<00:23,  1.42it/s]\n",
      "Training (19000 / 30000 Steps) (loss=0.50298):  47%|████▋     | 29/62 [00:52<05:43, 10.40s/it]"
     ]
    },
    {
     "name": "stdout",
     "output_type": "stream",
     "text": [
      "Model Was Not Saved ! Current Best Avg. Dice: 0.9303145408630371 Current Avg. Dice: 0.9226453900337219\n"
     ]
    },
    {
     "name": "stderr",
     "output_type": "stream",
     "text": [
      "Training (19033 / 30000 Steps) (loss=0.35789): 100%|██████████| 62/62 [01:16<00:00,  1.24s/it]\n",
      "Training (19095 / 30000 Steps) (loss=0.29008): 100%|██████████| 62/62 [00:43<00:00,  1.42it/s]\n",
      "Training (19157 / 30000 Steps) (loss=0.40508): 100%|██████████| 62/62 [00:44<00:00,  1.39it/s]\n",
      "Validate (19158 / 10 Steps): 100%|██████████| 16/16 [00:33<00:00,  2.07s/it]<00:14,  1.38it/s]\n",
      "Training (19200 / 30000 Steps) (loss=0.49012):  69%|██████▉   | 43/62 [01:03<03:22, 10.64s/it]"
     ]
    },
    {
     "name": "stdout",
     "output_type": "stream",
     "text": [
      "Model Was Not Saved ! Current Best Avg. Dice: 0.9303145408630371 Current Avg. Dice: 0.9226068258285522\n"
     ]
    },
    {
     "name": "stderr",
     "output_type": "stream",
     "text": [
      "Training (19219 / 30000 Steps) (loss=0.57313): 100%|██████████| 62/62 [01:16<00:00,  1.24s/it]\n",
      "Training (19281 / 30000 Steps) (loss=0.81178): 100%|██████████| 62/62 [00:44<00:00,  1.39it/s]\n",
      "Training (19343 / 30000 Steps) (loss=0.51664): 100%|██████████| 62/62 [00:43<00:00,  1.41it/s]\n",
      "Validate (19344 / 10 Steps): 100%|██████████| 16/16 [00:33<00:00,  2.08s/it]<00:04,  1.43it/s]\n",
      "Training (19400 / 30000 Steps) (loss=0.43343):  92%|█████████▏| 57/62 [01:13<00:53, 10.68s/it]"
     ]
    },
    {
     "name": "stdout",
     "output_type": "stream",
     "text": [
      "Model Was Not Saved ! Current Best Avg. Dice: 0.9303145408630371 Current Avg. Dice: 0.9296684861183167\n"
     ]
    },
    {
     "name": "stderr",
     "output_type": "stream",
     "text": [
      "Training (19405 / 30000 Steps) (loss=0.39660): 100%|██████████| 62/62 [01:16<00:00,  1.24s/it]\n",
      "Training (19467 / 30000 Steps) (loss=0.32226): 100%|██████████| 62/62 [00:43<00:00,  1.41it/s]\n",
      "Training (19529 / 30000 Steps) (loss=0.60089): 100%|██████████| 62/62 [00:44<00:00,  1.40it/s]\n",
      "Training (19591 / 30000 Steps) (loss=0.55314): 100%|██████████| 62/62 [00:44<00:00,  1.39it/s]\n",
      "Validate (19592 / 10 Steps): 100%|██████████| 16/16 [00:32<00:00,  2.05s/it]00:38,  1.41it/s]\n",
      "Training (19600 / 30000 Steps) (loss=0.70771):  15%|█▍        | 9/62 [00:39<09:39, 10.94s/it]"
     ]
    },
    {
     "name": "stdout",
     "output_type": "stream",
     "text": [
      "Model Was Not Saved ! Current Best Avg. Dice: 0.9303145408630371 Current Avg. Dice: 0.9288567900657654\n"
     ]
    },
    {
     "name": "stderr",
     "output_type": "stream",
     "text": [
      "Training (19653 / 30000 Steps) (loss=0.66121): 100%|██████████| 62/62 [01:17<00:00,  1.24s/it]\n",
      "Training (19715 / 30000 Steps) (loss=0.48505): 100%|██████████| 62/62 [00:43<00:00,  1.41it/s]\n",
      "Training (19777 / 30000 Steps) (loss=0.55240): 100%|██████████| 62/62 [00:44<00:00,  1.39it/s]\n",
      "Validate (19778 / 10 Steps): 100%|██████████| 16/16 [00:33<00:00,  2.07s/it]<00:28,  1.42it/s]\n",
      "Training (19800 / 30000 Steps) (loss=0.62338):  37%|███▋      | 23/62 [00:49<07:01, 10.81s/it]"
     ]
    },
    {
     "name": "stdout",
     "output_type": "stream",
     "text": [
      "Model Was Saved ! Current Best Avg. Dice: 0.9303817749023438 Current Avg. Dice: 0.9303817749023438\n"
     ]
    },
    {
     "name": "stderr",
     "output_type": "stream",
     "text": [
      "Training (19839 / 30000 Steps) (loss=0.34179): 100%|██████████| 62/62 [01:17<00:00,  1.25s/it]\n",
      "Training (19901 / 30000 Steps) (loss=0.65151): 100%|██████████| 62/62 [00:44<00:00,  1.39it/s]\n",
      "Training (19963 / 30000 Steps) (loss=0.45859): 100%|██████████| 62/62 [00:43<00:00,  1.43it/s]\n",
      "Validate (19964 / 10 Steps): 100%|██████████| 16/16 [00:32<00:00,  2.02s/it]<00:18,  1.38it/s]\n",
      "Training (20000 / 30000 Steps) (loss=0.44209):  60%|█████▉    | 37/62 [00:59<04:20, 10.41s/it]"
     ]
    },
    {
     "name": "stdout",
     "output_type": "stream",
     "text": [
      "Model Was Not Saved ! Current Best Avg. Dice: 0.9303817749023438 Current Avg. Dice: 0.9275417923927307\n"
     ]
    },
    {
     "name": "stderr",
     "output_type": "stream",
     "text": [
      "Training (20025 / 30000 Steps) (loss=0.49119): 100%|██████████| 62/62 [01:17<00:00,  1.25s/it]\n",
      "Training (20087 / 30000 Steps) (loss=0.52600): 100%|██████████| 62/62 [00:44<00:00,  1.39it/s]\n",
      "Training (20149 / 30000 Steps) (loss=0.54420): 100%|██████████| 62/62 [00:44<00:00,  1.41it/s]\n",
      "Validate (20150 / 10 Steps): 100%|██████████| 16/16 [00:32<00:00,  2.03s/it]<00:08,  1.38it/s]\n",
      "Training (20200 / 30000 Steps) (loss=0.34934):  82%|████████▏ | 51/62 [01:09<01:55, 10.47s/it]"
     ]
    },
    {
     "name": "stdout",
     "output_type": "stream",
     "text": [
      "Model Was Not Saved ! Current Best Avg. Dice: 0.9303817749023438 Current Avg. Dice: 0.9268822073936462\n"
     ]
    },
    {
     "name": "stderr",
     "output_type": "stream",
     "text": [
      "Training (20211 / 30000 Steps) (loss=0.39223): 100%|██████████| 62/62 [01:17<00:00,  1.25s/it]\n",
      "Training (20273 / 30000 Steps) (loss=0.57792): 100%|██████████| 62/62 [00:43<00:00,  1.41it/s]\n",
      "Training (20335 / 30000 Steps) (loss=0.56418): 100%|██████████| 62/62 [00:44<00:00,  1.39it/s]\n",
      "Training (20397 / 30000 Steps) (loss=0.32275): 100%|██████████| 62/62 [00:43<00:00,  1.42it/s]\n",
      "Validate (20398 / 10 Steps): 100%|██████████| 16/16 [00:33<00:00,  2.09s/it]00:43,  1.37it/s]\n",
      "Training (20400 / 30000 Steps) (loss=0.58837):   5%|▍         | 3/62 [00:35<15:43, 16.00s/it]"
     ]
    },
    {
     "name": "stdout",
     "output_type": "stream",
     "text": [
      "Model Was Not Saved ! Current Best Avg. Dice: 0.9303817749023438 Current Avg. Dice: 0.9192521572113037\n"
     ]
    },
    {
     "name": "stderr",
     "output_type": "stream",
     "text": [
      "Training (20459 / 30000 Steps) (loss=0.48572): 100%|██████████| 62/62 [01:17<00:00,  1.25s/it]\n",
      "Training (20521 / 30000 Steps) (loss=0.43445): 100%|██████████| 62/62 [00:44<00:00,  1.40it/s]\n",
      "Training (20583 / 30000 Steps) (loss=0.55561): 100%|██████████| 62/62 [00:44<00:00,  1.39it/s]\n",
      "Validate (20584 / 10 Steps): 100%|██████████| 16/16 [00:32<00:00,  2.04s/it]<00:32,  1.41it/s]\n",
      "Training (20600 / 30000 Steps) (loss=0.59807):  27%|██▋       | 17/62 [00:44<07:53, 10.53s/it]"
     ]
    },
    {
     "name": "stdout",
     "output_type": "stream",
     "text": [
      "Model Was Not Saved ! Current Best Avg. Dice: 0.9303817749023438 Current Avg. Dice: 0.922123372554779\n"
     ]
    },
    {
     "name": "stderr",
     "output_type": "stream",
     "text": [
      "Training (20645 / 30000 Steps) (loss=0.59003): 100%|██████████| 62/62 [01:17<00:00,  1.24s/it]\n",
      "Training (20707 / 30000 Steps) (loss=0.52656): 100%|██████████| 62/62 [00:43<00:00,  1.41it/s]\n",
      "Training (20769 / 30000 Steps) (loss=0.45152): 100%|██████████| 62/62 [00:44<00:00,  1.39it/s]\n",
      "Validate (20770 / 10 Steps): 100%|██████████| 16/16 [00:33<00:00,  2.07s/it]<00:22,  1.42it/s]\n",
      "Training (20800 / 30000 Steps) (loss=0.47736):  50%|█████     | 31/62 [00:55<05:34, 10.80s/it]"
     ]
    },
    {
     "name": "stdout",
     "output_type": "stream",
     "text": [
      "Model Was Saved ! Current Best Avg. Dice: 0.9326611757278442 Current Avg. Dice: 0.9326611757278442\n"
     ]
    },
    {
     "name": "stderr",
     "output_type": "stream",
     "text": [
      "Training (20831 / 30000 Steps) (loss=0.41860): 100%|██████████| 62/62 [01:17<00:00,  1.25s/it]\n",
      "Training (20893 / 30000 Steps) (loss=0.46161): 100%|██████████| 62/62 [00:44<00:00,  1.40it/s]\n",
      "Training (20955 / 30000 Steps) (loss=0.42649): 100%|██████████| 62/62 [00:43<00:00,  1.41it/s]\n",
      "Validate (20956 / 10 Steps): 100%|██████████| 16/16 [00:32<00:00,  2.02s/it]<00:12,  1.41it/s]\n",
      "Training (21000 / 30000 Steps) (loss=0.51226):  73%|███████▎  | 45/62 [01:05<02:56, 10.41s/it]"
     ]
    },
    {
     "name": "stdout",
     "output_type": "stream",
     "text": [
      "Model Was Not Saved ! Current Best Avg. Dice: 0.9326611757278442 Current Avg. Dice: 0.9308870434761047\n"
     ]
    },
    {
     "name": "stderr",
     "output_type": "stream",
     "text": [
      "Training (21017 / 30000 Steps) (loss=0.43604): 100%|██████████| 62/62 [01:16<00:00,  1.24s/it]\n",
      "Training (21079 / 30000 Steps) (loss=0.52874): 100%|██████████| 62/62 [00:43<00:00,  1.41it/s]\n",
      "Training (21141 / 30000 Steps) (loss=0.48884): 100%|██████████| 62/62 [00:43<00:00,  1.41it/s]\n",
      "Validate (21142 / 10 Steps): 100%|██████████| 16/16 [00:32<00:00,  2.04s/it]<00:02,  1.43it/s]\n",
      "Training (21200 / 30000 Steps) (loss=0.48995):  95%|█████████▌| 59/62 [01:15<00:31, 10.50s/it]"
     ]
    },
    {
     "name": "stdout",
     "output_type": "stream",
     "text": [
      "Model Was Not Saved ! Current Best Avg. Dice: 0.9326611757278442 Current Avg. Dice: 0.9249377846717834\n"
     ]
    },
    {
     "name": "stderr",
     "output_type": "stream",
     "text": [
      "Training (21203 / 30000 Steps) (loss=0.55299): 100%|██████████| 62/62 [01:17<00:00,  1.24s/it]\n",
      "Training (21265 / 30000 Steps) (loss=0.41465): 100%|██████████| 62/62 [00:44<00:00,  1.40it/s]\n",
      "Training (21327 / 30000 Steps) (loss=0.48902): 100%|██████████| 62/62 [00:43<00:00,  1.42it/s]\n",
      "Training (21389 / 30000 Steps) (loss=0.53394): 100%|██████████| 62/62 [00:44<00:00,  1.39it/s]\n",
      "Validate (21390 / 10 Steps): 100%|██████████| 16/16 [00:32<00:00,  2.04s/it]<00:37,  1.40it/s]\n",
      "Training (21400 / 30000 Steps) (loss=0.63239):  18%|█▊        | 11/62 [00:40<09:06, 10.71s/it]"
     ]
    },
    {
     "name": "stdout",
     "output_type": "stream",
     "text": [
      "Model Was Not Saved ! Current Best Avg. Dice: 0.9326611757278442 Current Avg. Dice: 0.9245378971099854\n"
     ]
    },
    {
     "name": "stderr",
     "output_type": "stream",
     "text": [
      "Training (21451 / 30000 Steps) (loss=0.73519): 100%|██████████| 62/62 [01:16<00:00,  1.24s/it]\n",
      "Training (21513 / 30000 Steps) (loss=0.46339): 100%|██████████| 62/62 [00:44<00:00,  1.39it/s]\n",
      "Training (21575 / 30000 Steps) (loss=0.57012): 100%|██████████| 62/62 [00:43<00:00,  1.43it/s]\n",
      "Validate (21576 / 10 Steps): 100%|██████████| 16/16 [00:33<00:00,  2.07s/it]<00:26,  1.42it/s]\n",
      "Training (21600 / 30000 Steps) (loss=0.54255):  40%|████      | 25/62 [00:51<06:33, 10.62s/it]"
     ]
    },
    {
     "name": "stdout",
     "output_type": "stream",
     "text": [
      "Model Was Not Saved ! Current Best Avg. Dice: 0.9326611757278442 Current Avg. Dice: 0.9268990159034729\n"
     ]
    },
    {
     "name": "stderr",
     "output_type": "stream",
     "text": [
      "Training (21637 / 30000 Steps) (loss=0.50394): 100%|██████████| 62/62 [01:17<00:00,  1.25s/it]\n",
      "Training (21699 / 30000 Steps) (loss=0.48930): 100%|██████████| 62/62 [00:44<00:00,  1.39it/s]\n",
      "Training (21761 / 30000 Steps) (loss=0.42113): 100%|██████████| 62/62 [00:44<00:00,  1.41it/s]\n",
      "Validate (21762 / 10 Steps): 100%|██████████| 16/16 [00:32<00:00,  2.03s/it]<00:16,  1.42it/s]\n",
      "Training (21800 / 30000 Steps) (loss=0.45234):  63%|██████▎   | 39/62 [01:00<04:00, 10.44s/it]"
     ]
    },
    {
     "name": "stdout",
     "output_type": "stream",
     "text": [
      "Model Was Not Saved ! Current Best Avg. Dice: 0.9326611757278442 Current Avg. Dice: 0.9258916974067688\n"
     ]
    },
    {
     "name": "stderr",
     "output_type": "stream",
     "text": [
      "Training (21823 / 30000 Steps) (loss=0.75370): 100%|██████████| 62/62 [01:17<00:00,  1.25s/it]\n",
      "Training (21885 / 30000 Steps) (loss=0.50649): 100%|██████████| 62/62 [00:43<00:00,  1.42it/s]\n",
      "Training (21947 / 30000 Steps) (loss=0.56335): 100%|██████████| 62/62 [00:44<00:00,  1.39it/s]\n",
      "Validate (21948 / 10 Steps): 100%|██████████| 16/16 [00:33<00:00,  2.08s/it]<00:06,  1.43it/s]\n",
      "Training (22000 / 30000 Steps) (loss=0.54112):  85%|████████▌ | 53/62 [01:10<01:36, 10.68s/it]"
     ]
    },
    {
     "name": "stdout",
     "output_type": "stream",
     "text": [
      "Model Was Not Saved ! Current Best Avg. Dice: 0.9326611757278442 Current Avg. Dice: 0.924422562122345\n"
     ]
    },
    {
     "name": "stderr",
     "output_type": "stream",
     "text": [
      "Training (22009 / 30000 Steps) (loss=0.39967): 100%|██████████| 62/62 [01:16<00:00,  1.24s/it]\n",
      "Training (22071 / 30000 Steps) (loss=0.44465): 100%|██████████| 62/62 [00:43<00:00,  1.42it/s]\n",
      "Training (22133 / 30000 Steps) (loss=0.44692): 100%|██████████| 62/62 [00:44<00:00,  1.39it/s]\n",
      "Training (22195 / 30000 Steps) (loss=0.36346): 100%|██████████| 62/62 [00:44<00:00,  1.39it/s]\n",
      "Validate (22196 / 10 Steps): 100%|██████████| 16/16 [00:32<00:00,  2.03s/it]00:41,  1.40it/s]\n",
      "Training (22200 / 30000 Steps) (loss=0.42811):   8%|▊         | 5/62 [00:36<11:49, 12.44s/it]"
     ]
    },
    {
     "name": "stdout",
     "output_type": "stream",
     "text": [
      "Model Was Not Saved ! Current Best Avg. Dice: 0.9326611757278442 Current Avg. Dice: 0.9274790287017822\n"
     ]
    },
    {
     "name": "stderr",
     "output_type": "stream",
     "text": [
      "Training (22257 / 30000 Steps) (loss=0.72649): 100%|██████████| 62/62 [01:17<00:00,  1.24s/it]\n",
      "Training (22319 / 30000 Steps) (loss=0.61672): 100%|██████████| 62/62 [00:43<00:00,  1.41it/s]\n",
      "Training (22381 / 30000 Steps) (loss=0.64156): 100%|██████████| 62/62 [00:44<00:00,  1.39it/s]\n",
      "Validate (22382 / 10 Steps): 100%|██████████| 16/16 [00:32<00:00,  2.04s/it]<00:30,  1.43it/s]\n",
      "Training (22400 / 30000 Steps) (loss=0.42752):  31%|███       | 19/62 [00:46<07:32, 10.52s/it]"
     ]
    },
    {
     "name": "stdout",
     "output_type": "stream",
     "text": [
      "Model Was Not Saved ! Current Best Avg. Dice: 0.9326611757278442 Current Avg. Dice: 0.924785852432251\n"
     ]
    },
    {
     "name": "stderr",
     "output_type": "stream",
     "text": [
      "Training (22443 / 30000 Steps) (loss=0.59032): 100%|██████████| 62/62 [01:16<00:00,  1.24s/it]\n",
      "Training (22505 / 30000 Steps) (loss=0.52717): 100%|██████████| 62/62 [00:44<00:00,  1.40it/s]\n",
      "Training (22567 / 30000 Steps) (loss=0.57985): 100%|██████████| 62/62 [00:43<00:00,  1.42it/s]\n",
      "Validate (22568 / 10 Steps): 100%|██████████| 16/16 [00:33<00:00,  2.07s/it]<00:22,  1.32it/s]\n",
      "Training (22600 / 30000 Steps) (loss=0.53292):  53%|█████▎    | 33/62 [00:56<05:09, 10.67s/it]"
     ]
    },
    {
     "name": "stdout",
     "output_type": "stream",
     "text": [
      "Model Was Not Saved ! Current Best Avg. Dice: 0.9326611757278442 Current Avg. Dice: 0.9254224300384521\n"
     ]
    },
    {
     "name": "stderr",
     "output_type": "stream",
     "text": [
      "Training (22629 / 30000 Steps) (loss=0.64256): 100%|██████████| 62/62 [01:17<00:00,  1.24s/it]\n",
      "Training (22691 / 30000 Steps) (loss=0.44845): 100%|██████████| 62/62 [00:44<00:00,  1.39it/s]\n",
      "Training (22753 / 30000 Steps) (loss=0.56891): 100%|██████████| 62/62 [00:43<00:00,  1.41it/s]\n",
      "Validate (22754 / 10 Steps): 100%|██████████| 16/16 [00:32<00:00,  2.05s/it]<00:11,  1.43it/s]\n",
      "Training (22800 / 30000 Steps) (loss=0.41947):  76%|███████▌  | 47/62 [01:06<02:37, 10.52s/it]"
     ]
    },
    {
     "name": "stdout",
     "output_type": "stream",
     "text": [
      "Model Was Not Saved ! Current Best Avg. Dice: 0.9326611757278442 Current Avg. Dice: 0.9282909035682678\n"
     ]
    },
    {
     "name": "stderr",
     "output_type": "stream",
     "text": [
      "Training (22815 / 30000 Steps) (loss=0.54147): 100%|██████████| 62/62 [01:17<00:00,  1.24s/it]\n",
      "Training (22877 / 30000 Steps) (loss=0.56806): 100%|██████████| 62/62 [00:44<00:00,  1.39it/s]\n",
      "Training (22939 / 30000 Steps) (loss=0.73883): 100%|██████████| 62/62 [00:43<00:00,  1.43it/s]\n",
      "Validate (22940 / 10 Steps): 100%|██████████| 16/16 [00:32<00:00,  2.04s/it]<00:01,  1.43it/s]\n",
      "Training (23000 / 30000 Steps) (loss=0.28725):  98%|█████████▊| 61/62 [01:16<00:10, 10.51s/it]"
     ]
    },
    {
     "name": "stdout",
     "output_type": "stream",
     "text": [
      "Model Was Not Saved ! Current Best Avg. Dice: 0.9326611757278442 Current Avg. Dice: 0.9315719604492188\n"
     ]
    },
    {
     "name": "stderr",
     "output_type": "stream",
     "text": [
      "Training (23001 / 30000 Steps) (loss=0.44050): 100%|██████████| 62/62 [01:17<00:00,  1.25s/it]\n",
      "Training (23063 / 30000 Steps) (loss=0.52907): 100%|██████████| 62/62 [00:44<00:00,  1.40it/s]\n",
      "Training (23125 / 30000 Steps) (loss=0.58359): 100%|██████████| 62/62 [00:44<00:00,  1.39it/s]\n",
      "Training (23187 / 30000 Steps) (loss=0.62463): 100%|██████████| 62/62 [00:43<00:00,  1.41it/s]\n",
      "Validate (23188 / 10 Steps): 100%|██████████| 16/16 [00:33<00:00,  2.07s/it]<00:35,  1.41it/s]\n",
      "Training (23200 / 30000 Steps) (loss=0.53952):  21%|██        | 13/62 [00:42<08:46, 10.74s/it]"
     ]
    },
    {
     "name": "stdout",
     "output_type": "stream",
     "text": [
      "Model Was Not Saved ! Current Best Avg. Dice: 0.9326611757278442 Current Avg. Dice: 0.9157501459121704\n"
     ]
    },
    {
     "name": "stderr",
     "output_type": "stream",
     "text": [
      "Training (23249 / 30000 Steps) (loss=0.42054): 100%|██████████| 62/62 [01:16<00:00,  1.24s/it]\n",
      "Training (23311 / 30000 Steps) (loss=0.59027): 100%|██████████| 62/62 [00:44<00:00,  1.39it/s]\n",
      "Training (23373 / 30000 Steps) (loss=0.55276): 100%|██████████| 62/62 [00:43<00:00,  1.43it/s]\n",
      "Validate (23374 / 10 Steps): 100%|██████████| 16/16 [00:32<00:00,  2.02s/it]<00:25,  1.42it/s]\n",
      "Training (23400 / 30000 Steps) (loss=0.48009):  44%|████▎     | 27/62 [00:52<06:04, 10.41s/it]"
     ]
    },
    {
     "name": "stdout",
     "output_type": "stream",
     "text": [
      "Model Was Not Saved ! Current Best Avg. Dice: 0.9326611757278442 Current Avg. Dice: 0.9240328073501587\n"
     ]
    },
    {
     "name": "stderr",
     "output_type": "stream",
     "text": [
      "Training (23435 / 30000 Steps) (loss=0.40394): 100%|██████████| 62/62 [01:17<00:00,  1.25s/it]\n",
      "Training (23497 / 30000 Steps) (loss=0.55121): 100%|██████████| 62/62 [00:43<00:00,  1.41it/s]\n",
      "Training (23559 / 30000 Steps) (loss=0.60433): 100%|██████████| 62/62 [00:44<00:00,  1.39it/s]\n",
      "Validate (23560 / 10 Steps): 100%|██████████| 16/16 [00:33<00:00,  2.07s/it]<00:15,  1.42it/s]\n",
      "Training (23600 / 30000 Steps) (loss=0.53507):  66%|██████▌   | 41/62 [01:02<03:43, 10.65s/it]"
     ]
    },
    {
     "name": "stdout",
     "output_type": "stream",
     "text": [
      "Model Was Not Saved ! Current Best Avg. Dice: 0.9326611757278442 Current Avg. Dice: 0.9173641800880432\n"
     ]
    },
    {
     "name": "stderr",
     "output_type": "stream",
     "text": [
      "Training (23621 / 30000 Steps) (loss=0.40194): 100%|██████████| 62/62 [01:16<00:00,  1.24s/it]\n",
      "Training (23683 / 30000 Steps) (loss=0.47163): 100%|██████████| 62/62 [00:43<00:00,  1.42it/s]\n",
      "Training (23745 / 30000 Steps) (loss=0.51999): 100%|██████████| 62/62 [00:44<00:00,  1.40it/s]\n",
      "Validate (23746 / 10 Steps): 100%|██████████| 16/16 [00:32<00:00,  2.02s/it]<00:06,  1.26it/s]\n",
      "Training (23800 / 30000 Steps) (loss=0.55538):  89%|████████▊ | 55/62 [01:11<01:13, 10.51s/it]"
     ]
    },
    {
     "name": "stdout",
     "output_type": "stream",
     "text": [
      "Model Was Not Saved ! Current Best Avg. Dice: 0.9326611757278442 Current Avg. Dice: 0.9217211604118347\n"
     ]
    },
    {
     "name": "stderr",
     "output_type": "stream",
     "text": [
      "Training (23807 / 30000 Steps) (loss=0.40130): 100%|██████████| 62/62 [01:16<00:00,  1.24s/it]\n",
      "Training (23869 / 30000 Steps) (loss=0.45506): 100%|██████████| 62/62 [00:44<00:00,  1.39it/s]\n",
      "Training (23931 / 30000 Steps) (loss=0.55528): 100%|██████████| 62/62 [00:43<00:00,  1.41it/s]\n",
      "Training (23993 / 30000 Steps) (loss=0.32673): 100%|██████████| 62/62 [00:44<00:00,  1.39it/s]\n",
      "Validate (23994 / 10 Steps): 100%|██████████| 16/16 [00:32<00:00,  2.02s/it]00:39,  1.42it/s]\n",
      "Training (24000 / 30000 Steps) (loss=0.48218):  11%|█▏        | 7/62 [00:37<10:20, 11.28s/it]"
     ]
    },
    {
     "name": "stdout",
     "output_type": "stream",
     "text": [
      "Model Was Not Saved ! Current Best Avg. Dice: 0.9326611757278442 Current Avg. Dice: 0.917017936706543\n"
     ]
    },
    {
     "name": "stderr",
     "output_type": "stream",
     "text": [
      "Training (24055 / 30000 Steps) (loss=0.39973): 100%|██████████| 62/62 [01:16<00:00,  1.24s/it]\n",
      "Training (24117 / 30000 Steps) (loss=0.84049): 100%|██████████| 62/62 [00:44<00:00,  1.40it/s]\n",
      "Training (24179 / 30000 Steps) (loss=0.65655): 100%|██████████| 62/62 [00:43<00:00,  1.42it/s]\n",
      "Validate (24180 / 10 Steps): 100%|██████████| 16/16 [00:33<00:00,  2.09s/it]<00:29,  1.42it/s]\n",
      "Training (24200 / 30000 Steps) (loss=0.38214):  34%|███▍      | 21/62 [00:48<07:20, 10.74s/it]"
     ]
    },
    {
     "name": "stdout",
     "output_type": "stream",
     "text": [
      "Model Was Not Saved ! Current Best Avg. Dice: 0.9326611757278442 Current Avg. Dice: 0.9221118092536926\n"
     ]
    },
    {
     "name": "stderr",
     "output_type": "stream",
     "text": [
      "Training (24241 / 30000 Steps) (loss=0.48115): 100%|██████████| 62/62 [01:17<00:00,  1.24s/it]\n",
      "Training (24303 / 30000 Steps) (loss=0.53106): 100%|██████████| 62/62 [00:44<00:00,  1.39it/s]\n",
      "Training (24365 / 30000 Steps) (loss=0.60274): 100%|██████████| 62/62 [00:43<00:00,  1.41it/s]\n",
      "Validate (24366 / 10 Steps): 100%|██████████| 16/16 [00:32<00:00,  2.04s/it]<00:19,  1.42it/s]\n",
      "Training (24400 / 30000 Steps) (loss=0.46047):  56%|█████▋    | 35/62 [00:58<04:43, 10.51s/it]"
     ]
    },
    {
     "name": "stdout",
     "output_type": "stream",
     "text": [
      "Model Was Not Saved ! Current Best Avg. Dice: 0.9326611757278442 Current Avg. Dice: 0.928681492805481\n"
     ]
    },
    {
     "name": "stderr",
     "output_type": "stream",
     "text": [
      "Training (24427 / 30000 Steps) (loss=0.41876): 100%|██████████| 62/62 [01:17<00:00,  1.24s/it]\n",
      "Training (24489 / 30000 Steps) (loss=0.56246): 100%|██████████| 62/62 [00:44<00:00,  1.39it/s]\n",
      "Training (24551 / 30000 Steps) (loss=0.44515): 100%|██████████| 62/62 [00:43<00:00,  1.42it/s]\n",
      "Validate (24552 / 10 Steps): 100%|██████████| 16/16 [00:32<00:00,  2.04s/it]<00:09,  1.42it/s]\n",
      "Training (24600 / 30000 Steps) (loss=0.66162):  79%|███████▉  | 49/62 [01:08<02:16, 10.48s/it]"
     ]
    },
    {
     "name": "stdout",
     "output_type": "stream",
     "text": [
      "Model Was Not Saved ! Current Best Avg. Dice: 0.9326611757278442 Current Avg. Dice: 0.9148876667022705\n"
     ]
    },
    {
     "name": "stderr",
     "output_type": "stream",
     "text": [
      "Training (24613 / 30000 Steps) (loss=0.50831): 100%|██████████| 62/62 [01:17<00:00,  1.25s/it]\n",
      "Training (24675 / 30000 Steps) (loss=0.52012): 100%|██████████| 62/62 [00:44<00:00,  1.40it/s]\n",
      "Training (24737 / 30000 Steps) (loss=0.46057): 100%|██████████| 62/62 [00:44<00:00,  1.39it/s]\n",
      "Training (24799 / 30000 Steps) (loss=0.40286): 100%|██████████| 62/62 [00:43<00:00,  1.41it/s]\n",
      "Validate (24800 / 10 Steps): 100%|██████████| 16/16 [00:33<00:00,  2.07s/it]?, ?it/s]\n",
      "Training (24800 / 30000 Steps) (loss=0.55637):   2%|▏         | 1/62 [00:33<34:24, 33.85s/it]"
     ]
    },
    {
     "name": "stdout",
     "output_type": "stream",
     "text": [
      "Model Was Not Saved ! Current Best Avg. Dice: 0.9326611757278442 Current Avg. Dice: 0.9243624806404114\n"
     ]
    },
    {
     "name": "stderr",
     "output_type": "stream",
     "text": [
      "Training (24861 / 30000 Steps) (loss=0.44931): 100%|██████████| 62/62 [01:17<00:00,  1.24s/it]\n",
      "Training (24923 / 30000 Steps) (loss=0.57076): 100%|██████████| 62/62 [00:44<00:00,  1.38it/s]\n",
      "Training (24985 / 30000 Steps) (loss=0.52469): 100%|██████████| 62/62 [00:43<00:00,  1.42it/s]\n",
      "Validate (24986 / 10 Steps): 100%|██████████| 16/16 [00:32<00:00,  2.02s/it]<00:34,  1.39it/s]\n",
      "Training (25000 / 30000 Steps) (loss=0.35926):  24%|██▍       | 15/62 [00:43<08:11, 10.47s/it]"
     ]
    },
    {
     "name": "stdout",
     "output_type": "stream",
     "text": [
      "Model Was Not Saved ! Current Best Avg. Dice: 0.9326611757278442 Current Avg. Dice: 0.9240894317626953\n"
     ]
    },
    {
     "name": "stderr",
     "output_type": "stream",
     "text": [
      "Training (25047 / 30000 Steps) (loss=0.40573): 100%|██████████| 62/62 [01:17<00:00,  1.26s/it]\n",
      "Training (25109 / 30000 Steps) (loss=0.61216): 100%|██████████| 62/62 [00:43<00:00,  1.42it/s]\n",
      "Training (25171 / 30000 Steps) (loss=0.47956): 100%|██████████| 62/62 [00:44<00:00,  1.38it/s]\n",
      "Validate (25172 / 10 Steps): 100%|██████████| 16/16 [00:32<00:00,  2.06s/it]<00:23,  1.43it/s]\n",
      "Training (25200 / 30000 Steps) (loss=0.38856):  47%|████▋     | 29/62 [00:53<05:48, 10.57s/it]"
     ]
    },
    {
     "name": "stdout",
     "output_type": "stream",
     "text": [
      "Model Was Not Saved ! Current Best Avg. Dice: 0.9326611757278442 Current Avg. Dice: 0.9311994910240173\n"
     ]
    },
    {
     "name": "stderr",
     "output_type": "stream",
     "text": [
      "Training (25233 / 30000 Steps) (loss=0.36835): 100%|██████████| 62/62 [01:16<00:00,  1.24s/it]\n",
      "Training (25295 / 30000 Steps) (loss=0.53472): 100%|██████████| 62/62 [00:43<00:00,  1.41it/s]\n",
      "Training (25357 / 30000 Steps) (loss=0.50716): 100%|██████████| 62/62 [00:44<00:00,  1.39it/s]\n",
      "Validate (25358 / 10 Steps): 100%|██████████| 16/16 [00:33<00:00,  2.09s/it]<00:14,  1.41it/s]\n",
      "Training (25400 / 30000 Steps) (loss=0.53893):  69%|██████▉   | 43/62 [01:03<03:23, 10.73s/it]"
     ]
    },
    {
     "name": "stdout",
     "output_type": "stream",
     "text": [
      "Model Was Not Saved ! Current Best Avg. Dice: 0.9326611757278442 Current Avg. Dice: 0.9283007383346558\n"
     ]
    },
    {
     "name": "stderr",
     "output_type": "stream",
     "text": [
      "Training (25419 / 30000 Steps) (loss=0.62267): 100%|██████████| 62/62 [01:16<00:00,  1.24s/it]\n",
      "Training (25481 / 30000 Steps) (loss=0.47576): 100%|██████████| 62/62 [00:44<00:00,  1.39it/s]\n",
      "Training (25543 / 30000 Steps) (loss=0.39754): 100%|██████████| 62/62 [00:43<00:00,  1.42it/s]\n",
      "Validate (25544 / 10 Steps): 100%|██████████| 16/16 [00:32<00:00,  2.03s/it]<00:04,  1.43it/s]\n",
      "Training (25600 / 30000 Steps) (loss=0.46795):  92%|█████████▏| 57/62 [01:13<00:52, 10.45s/it]"
     ]
    },
    {
     "name": "stdout",
     "output_type": "stream",
     "text": [
      "Model Was Not Saved ! Current Best Avg. Dice: 0.9326611757278442 Current Avg. Dice: 0.9239230155944824\n"
     ]
    },
    {
     "name": "stderr",
     "output_type": "stream",
     "text": [
      "Training (25605 / 30000 Steps) (loss=0.58848): 100%|██████████| 62/62 [01:16<00:00,  1.24s/it]\n",
      "Training (25667 / 30000 Steps) (loss=0.33903): 100%|██████████| 62/62 [00:44<00:00,  1.40it/s]\n",
      "Training (25729 / 30000 Steps) (loss=0.41834): 100%|██████████| 62/62 [00:44<00:00,  1.39it/s]\n",
      "Training (25791 / 30000 Steps) (loss=0.54004): 100%|██████████| 62/62 [00:43<00:00,  1.41it/s]\n",
      "Validate (25792 / 10 Steps): 100%|██████████| 16/16 [00:33<00:00,  2.07s/it]00:37,  1.42it/s]\n",
      "Training (25800 / 30000 Steps) (loss=0.30147):  15%|█▍        | 9/62 [00:39<09:46, 11.07s/it]"
     ]
    },
    {
     "name": "stdout",
     "output_type": "stream",
     "text": [
      "Model Was Not Saved ! Current Best Avg. Dice: 0.9326611757278442 Current Avg. Dice: 0.9279362559318542\n"
     ]
    },
    {
     "name": "stderr",
     "output_type": "stream",
     "text": [
      "Training (25853 / 30000 Steps) (loss=0.42974): 100%|██████████| 62/62 [01:16<00:00,  1.24s/it]\n",
      "Training (25915 / 30000 Steps) (loss=0.41825): 100%|██████████| 62/62 [00:44<00:00,  1.40it/s]\n",
      "Training (25977 / 30000 Steps) (loss=0.48594): 100%|██████████| 62/62 [00:43<00:00,  1.42it/s]\n",
      "Validate (25978 / 10 Steps): 100%|██████████| 16/16 [00:32<00:00,  2.03s/it]<00:28,  1.43it/s]\n",
      "Training (26000 / 30000 Steps) (loss=0.44498):  37%|███▋      | 23/62 [00:49<06:48, 10.46s/it]"
     ]
    },
    {
     "name": "stdout",
     "output_type": "stream",
     "text": [
      "Model Was Not Saved ! Current Best Avg. Dice: 0.9326611757278442 Current Avg. Dice: 0.9238860011100769\n"
     ]
    },
    {
     "name": "stderr",
     "output_type": "stream",
     "text": [
      "Training (26039 / 30000 Steps) (loss=0.48933): 100%|██████████| 62/62 [01:16<00:00,  1.24s/it]\n",
      "Training (26101 / 30000 Steps) (loss=0.28733): 100%|██████████| 62/62 [00:44<00:00,  1.39it/s]\n",
      "Training (26163 / 30000 Steps) (loss=0.41043): 100%|██████████| 62/62 [00:44<00:00,  1.40it/s]\n",
      "Validate (26164 / 10 Steps): 100%|██████████| 16/16 [00:32<00:00,  2.02s/it]<00:18,  1.43it/s]\n",
      "Training (26200 / 30000 Steps) (loss=0.37701):  60%|█████▉    | 37/62 [00:58<04:20, 10.40s/it]"
     ]
    },
    {
     "name": "stdout",
     "output_type": "stream",
     "text": [
      "Model Was Not Saved ! Current Best Avg. Dice: 0.9326611757278442 Current Avg. Dice: 0.9295013546943665\n"
     ]
    },
    {
     "name": "stderr",
     "output_type": "stream",
     "text": [
      "Training (26225 / 30000 Steps) (loss=0.49428): 100%|██████████| 62/62 [01:16<00:00,  1.23s/it]\n",
      "Training (26287 / 30000 Steps) (loss=0.60280): 100%|██████████| 62/62 [00:43<00:00,  1.42it/s]\n",
      "Training (26349 / 30000 Steps) (loss=0.54007): 100%|██████████| 62/62 [00:43<00:00,  1.42it/s]\n",
      "Validate (26350 / 10 Steps): 100%|██████████| 16/16 [00:32<00:00,  2.02s/it]<00:08,  1.43it/s]\n",
      "Training (26400 / 30000 Steps) (loss=0.57108):  82%|████████▏ | 51/62 [01:09<01:54, 10.42s/it]"
     ]
    },
    {
     "name": "stdout",
     "output_type": "stream",
     "text": [
      "Model Was Not Saved ! Current Best Avg. Dice: 0.9326611757278442 Current Avg. Dice: 0.9279239177703857\n"
     ]
    },
    {
     "name": "stderr",
     "output_type": "stream",
     "text": [
      "Training (26411 / 30000 Steps) (loss=0.54221): 100%|██████████| 62/62 [01:17<00:00,  1.25s/it]\n",
      "Training (26473 / 30000 Steps) (loss=0.48981): 100%|██████████| 62/62 [00:44<00:00,  1.39it/s]\n",
      "Training (26535 / 30000 Steps) (loss=0.36776): 100%|██████████| 62/62 [00:44<00:00,  1.40it/s]\n",
      "Training (26597 / 30000 Steps) (loss=0.41883): 100%|██████████| 62/62 [00:43<00:00,  1.42it/s]\n",
      "Validate (26598 / 10 Steps): 100%|██████████| 16/16 [00:33<00:00,  2.08s/it]00:50,  1.20it/s]\n",
      "Training (26600 / 30000 Steps) (loss=0.38844):   5%|▍         | 3/62 [00:35<15:41, 15.96s/it]"
     ]
    },
    {
     "name": "stdout",
     "output_type": "stream",
     "text": [
      "Model Was Not Saved ! Current Best Avg. Dice: 0.9326611757278442 Current Avg. Dice: 0.9288266897201538\n"
     ]
    },
    {
     "name": "stderr",
     "output_type": "stream",
     "text": [
      "Training (26659 / 30000 Steps) (loss=0.47613): 100%|██████████| 62/62 [01:17<00:00,  1.25s/it]\n",
      "Training (26721 / 30000 Steps) (loss=0.50451): 100%|██████████| 62/62 [00:44<00:00,  1.40it/s]\n",
      "Training (26783 / 30000 Steps) (loss=0.27111): 100%|██████████| 62/62 [00:44<00:00,  1.39it/s]\n",
      "Validate (26784 / 10 Steps): 100%|██████████| 16/16 [00:32<00:00,  2.04s/it]<00:32,  1.42it/s]\n",
      "Training (26800 / 30000 Steps) (loss=0.60027):  27%|██▋       | 17/62 [00:44<07:54, 10.54s/it]"
     ]
    },
    {
     "name": "stdout",
     "output_type": "stream",
     "text": [
      "Model Was Not Saved ! Current Best Avg. Dice: 0.9326611757278442 Current Avg. Dice: 0.9226176738739014\n"
     ]
    },
    {
     "name": "stderr",
     "output_type": "stream",
     "text": [
      "Training (26845 / 30000 Steps) (loss=0.56365): 100%|██████████| 62/62 [01:16<00:00,  1.24s/it]\n",
      "Training (26907 / 30000 Steps) (loss=0.41227): 100%|██████████| 62/62 [00:43<00:00,  1.41it/s]\n",
      "Training (26969 / 30000 Steps) (loss=0.58053): 100%|██████████| 62/62 [00:44<00:00,  1.39it/s]\n",
      "Validate (26970 / 10 Steps): 100%|██████████| 16/16 [00:33<00:00,  2.08s/it]<00:22,  1.42it/s]\n",
      "Training (27000 / 30000 Steps) (loss=0.67084):  50%|█████     | 31/62 [00:55<05:30, 10.67s/it]"
     ]
    },
    {
     "name": "stdout",
     "output_type": "stream",
     "text": [
      "Model Was Not Saved ! Current Best Avg. Dice: 0.9326611757278442 Current Avg. Dice: 0.9224923849105835\n"
     ]
    },
    {
     "name": "stderr",
     "output_type": "stream",
     "text": [
      "Training (27031 / 30000 Steps) (loss=0.55514): 100%|██████████| 62/62 [01:16<00:00,  1.24s/it]\n",
      "Training (27093 / 30000 Steps) (loss=0.31273): 100%|██████████| 62/62 [00:44<00:00,  1.40it/s]\n",
      "Training (27155 / 30000 Steps) (loss=0.40513): 100%|██████████| 62/62 [00:43<00:00,  1.41it/s]\n",
      "Validate (27156 / 10 Steps): 100%|██████████| 16/16 [00:32<00:00,  2.02s/it]<00:14,  1.25it/s]\n",
      "Training (27200 / 30000 Steps) (loss=0.54086):  73%|███████▎  | 45/62 [01:05<02:58, 10.48s/it]"
     ]
    },
    {
     "name": "stdout",
     "output_type": "stream",
     "text": [
      "Model Was Not Saved ! Current Best Avg. Dice: 0.9326611757278442 Current Avg. Dice: 0.9295690059661865\n"
     ]
    },
    {
     "name": "stderr",
     "output_type": "stream",
     "text": [
      "Training (27217 / 30000 Steps) (loss=0.51557): 100%|██████████| 62/62 [01:17<00:00,  1.25s/it]\n",
      "Training (27279 / 30000 Steps) (loss=0.48184): 100%|██████████| 62/62 [00:44<00:00,  1.40it/s]\n",
      "Training (27341 / 30000 Steps) (loss=0.67648): 100%|██████████| 62/62 [00:43<00:00,  1.41it/s]\n",
      "Validate (27342 / 10 Steps): 100%|██████████| 16/16 [00:32<00:00,  2.02s/it]<00:02,  1.41it/s]\n",
      "Training (27400 / 30000 Steps) (loss=0.48199):  95%|█████████▌| 59/62 [01:14<00:31, 10.41s/it]"
     ]
    },
    {
     "name": "stdout",
     "output_type": "stream",
     "text": [
      "Model Was Not Saved ! Current Best Avg. Dice: 0.9326611757278442 Current Avg. Dice: 0.9236222505569458\n"
     ]
    },
    {
     "name": "stderr",
     "output_type": "stream",
     "text": [
      "Training (27403 / 30000 Steps) (loss=0.42349): 100%|██████████| 62/62 [01:16<00:00,  1.24s/it]\n",
      "Training (27465 / 30000 Steps) (loss=0.30379): 100%|██████████| 62/62 [00:44<00:00,  1.39it/s]\n",
      "Training (27527 / 30000 Steps) (loss=0.40762): 100%|██████████| 62/62 [00:44<00:00,  1.39it/s]\n",
      "Training (27589 / 30000 Steps) (loss=0.62406): 100%|██████████| 62/62 [00:43<00:00,  1.42it/s]\n",
      "Validate (27590 / 10 Steps): 100%|██████████| 16/16 [00:33<00:00,  2.08s/it]<00:36,  1.43it/s]\n",
      "Training (27600 / 30000 Steps) (loss=0.36871):  18%|█▊        | 11/62 [00:41<09:15, 10.88s/it]"
     ]
    },
    {
     "name": "stdout",
     "output_type": "stream",
     "text": [
      "Model Was Not Saved ! Current Best Avg. Dice: 0.9326611757278442 Current Avg. Dice: 0.9260482788085938\n"
     ]
    },
    {
     "name": "stderr",
     "output_type": "stream",
     "text": [
      "Training (27651 / 30000 Steps) (loss=0.65429): 100%|██████████| 62/62 [01:16<00:00,  1.24s/it]\n",
      "Training (27713 / 30000 Steps) (loss=0.35466): 100%|██████████| 62/62 [00:44<00:00,  1.39it/s]\n",
      "Training (27775 / 30000 Steps) (loss=0.43772): 100%|██████████| 62/62 [00:44<00:00,  1.40it/s]\n",
      "Validate (27776 / 10 Steps): 100%|██████████| 16/16 [00:32<00:00,  2.04s/it]<00:26,  1.43it/s]\n",
      "Training (27800 / 30000 Steps) (loss=0.62448):  40%|████      | 25/62 [00:50<06:29, 10.52s/it]"
     ]
    },
    {
     "name": "stdout",
     "output_type": "stream",
     "text": [
      "Model Was Not Saved ! Current Best Avg. Dice: 0.9326611757278442 Current Avg. Dice: 0.9055033922195435\n"
     ]
    },
    {
     "name": "stderr",
     "output_type": "stream",
     "text": [
      "Training (27837 / 30000 Steps) (loss=0.69380): 100%|██████████| 62/62 [01:17<00:00,  1.25s/it]\n",
      "Training (27899 / 30000 Steps) (loss=0.45316): 100%|██████████| 62/62 [00:43<00:00,  1.41it/s]\n",
      "Training (27961 / 30000 Steps) (loss=0.44878): 100%|██████████| 62/62 [00:43<00:00,  1.42it/s]\n",
      "Validate (27962 / 10 Steps): 100%|██████████| 16/16 [00:32<00:00,  2.03s/it]<00:16,  1.43it/s]\n",
      "Training (28000 / 30000 Steps) (loss=0.36860):  63%|██████▎   | 39/62 [01:00<04:00, 10.47s/it]"
     ]
    },
    {
     "name": "stdout",
     "output_type": "stream",
     "text": [
      "Model Was Not Saved ! Current Best Avg. Dice: 0.9326611757278442 Current Avg. Dice: 0.9220176339149475\n"
     ]
    },
    {
     "name": "stderr",
     "output_type": "stream",
     "text": [
      "Training (28023 / 30000 Steps) (loss=0.54089): 100%|██████████| 62/62 [01:17<00:00,  1.25s/it]\n",
      "Training (28085 / 30000 Steps) (loss=0.46262): 100%|██████████| 62/62 [00:43<00:00,  1.43it/s]\n",
      "Training (28147 / 30000 Steps) (loss=0.58605): 100%|██████████| 62/62 [00:44<00:00,  1.39it/s]\n",
      "Validate (28148 / 10 Steps): 100%|██████████| 16/16 [00:33<00:00,  2.08s/it]<00:07,  1.43it/s]\n",
      "Training (28200 / 30000 Steps) (loss=0.46020):  85%|████████▌ | 53/62 [01:10<01:36, 10.69s/it]"
     ]
    },
    {
     "name": "stdout",
     "output_type": "stream",
     "text": [
      "Model Was Not Saved ! Current Best Avg. Dice: 0.9326611757278442 Current Avg. Dice: 0.9245391488075256\n"
     ]
    },
    {
     "name": "stderr",
     "output_type": "stream",
     "text": [
      "Training (28209 / 30000 Steps) (loss=0.39406): 100%|██████████| 62/62 [01:16<00:00,  1.24s/it]\n",
      "Training (28271 / 30000 Steps) (loss=0.55404): 100%|██████████| 62/62 [00:43<00:00,  1.42it/s]\n",
      "Training (28333 / 30000 Steps) (loss=0.45342): 100%|██████████| 62/62 [00:44<00:00,  1.40it/s]\n",
      "Training (28395 / 30000 Steps) (loss=0.30231): 100%|██████████| 62/62 [00:44<00:00,  1.40it/s]\n",
      "Validate (28396 / 10 Steps): 100%|██████████| 16/16 [00:32<00:00,  2.04s/it]00:41,  1.41it/s]\n",
      "Training (28400 / 30000 Steps) (loss=0.43607):   8%|▊         | 5/62 [00:36<11:52, 12.50s/it]"
     ]
    },
    {
     "name": "stdout",
     "output_type": "stream",
     "text": [
      "Model Was Not Saved ! Current Best Avg. Dice: 0.9326611757278442 Current Avg. Dice: 0.927958607673645\n"
     ]
    },
    {
     "name": "stderr",
     "output_type": "stream",
     "text": [
      "Training (28457 / 30000 Steps) (loss=0.58233): 100%|██████████| 62/62 [01:16<00:00,  1.24s/it]\n",
      "Training (28519 / 30000 Steps) (loss=0.64208): 100%|██████████| 62/62 [00:43<00:00,  1.41it/s]\n",
      "Training (28581 / 30000 Steps) (loss=0.38039): 100%|██████████| 62/62 [00:44<00:00,  1.39it/s]\n",
      "Validate (28582 / 10 Steps): 100%|██████████| 16/16 [00:32<00:00,  2.06s/it]<00:30,  1.42it/s]\n",
      "Training (28600 / 30000 Steps) (loss=0.39423):  31%|███       | 19/62 [00:46<07:36, 10.61s/it]"
     ]
    },
    {
     "name": "stdout",
     "output_type": "stream",
     "text": [
      "Model Was Not Saved ! Current Best Avg. Dice: 0.9326611757278442 Current Avg. Dice: 0.9237830638885498\n"
     ]
    },
    {
     "name": "stderr",
     "output_type": "stream",
     "text": [
      "Training (28643 / 30000 Steps) (loss=0.58372): 100%|██████████| 62/62 [01:16<00:00,  1.24s/it]\n",
      "Training (28705 / 30000 Steps) (loss=0.63933): 100%|██████████| 62/62 [00:44<00:00,  1.39it/s]\n",
      "Training (28767 / 30000 Steps) (loss=0.34120): 100%|██████████| 62/62 [00:43<00:00,  1.43it/s]\n",
      "Validate (28768 / 10 Steps): 100%|██████████| 16/16 [00:32<00:00,  2.06s/it]<00:21,  1.43it/s]\n",
      "Training (28800 / 30000 Steps) (loss=0.44120):  53%|█████▎    | 33/62 [00:56<05:07, 10.61s/it]"
     ]
    },
    {
     "name": "stdout",
     "output_type": "stream",
     "text": [
      "Model Was Not Saved ! Current Best Avg. Dice: 0.9326611757278442 Current Avg. Dice: 0.92644202709198\n"
     ]
    },
    {
     "name": "stderr",
     "output_type": "stream",
     "text": [
      "Training (28829 / 30000 Steps) (loss=0.42709): 100%|██████████| 62/62 [01:16<00:00,  1.24s/it]\n",
      "Training (28891 / 30000 Steps) (loss=0.53231): 100%|██████████| 62/62 [00:44<00:00,  1.40it/s]\n",
      "Training (28953 / 30000 Steps) (loss=0.44740): 100%|██████████| 62/62 [00:43<00:00,  1.41it/s]\n",
      "Validate (28954 / 10 Steps): 100%|██████████| 16/16 [00:32<00:00,  2.03s/it]<00:11,  1.36it/s]\n",
      "Training (29000 / 30000 Steps) (loss=0.43571):  76%|███████▌  | 47/62 [01:07<02:39, 10.66s/it]"
     ]
    },
    {
     "name": "stdout",
     "output_type": "stream",
     "text": [
      "Model Was Saved ! Current Best Avg. Dice: 0.9367817640304565 Current Avg. Dice: 0.9367817640304565\n"
     ]
    },
    {
     "name": "stderr",
     "output_type": "stream",
     "text": [
      "Training (29015 / 30000 Steps) (loss=0.18983): 100%|██████████| 62/62 [01:17<00:00,  1.25s/it]\n",
      "Training (29077 / 30000 Steps) (loss=0.53172): 100%|██████████| 62/62 [00:44<00:00,  1.40it/s]\n",
      "Training (29139 / 30000 Steps) (loss=0.34442): 100%|██████████| 62/62 [00:44<00:00,  1.39it/s]\n",
      "Validate (29140 / 10 Steps): 100%|██████████| 16/16 [00:33<00:00,  2.08s/it]<00:01,  1.43it/s]\n",
      "Training (29200 / 30000 Steps) (loss=0.43307):  98%|█████████▊| 61/62 [01:16<00:10, 10.69s/it]"
     ]
    },
    {
     "name": "stdout",
     "output_type": "stream",
     "text": [
      "Model Was Not Saved ! Current Best Avg. Dice: 0.9367817640304565 Current Avg. Dice: 0.9239522218704224\n"
     ]
    },
    {
     "name": "stderr",
     "output_type": "stream",
     "text": [
      "Training (29201 / 30000 Steps) (loss=0.33534): 100%|██████████| 62/62 [01:16<00:00,  1.24s/it]\n",
      "Training (29263 / 30000 Steps) (loss=0.38380): 100%|██████████| 62/62 [00:43<00:00,  1.42it/s]\n",
      "Training (29325 / 30000 Steps) (loss=0.33208): 100%|██████████| 62/62 [00:44<00:00,  1.39it/s]\n",
      "Training (29387 / 30000 Steps) (loss=0.53038): 100%|██████████| 62/62 [00:44<00:00,  1.39it/s]\n",
      "Validate (29388 / 10 Steps): 100%|██████████| 16/16 [00:32<00:00,  2.04s/it]<00:35,  1.43it/s]\n",
      "Training (29400 / 30000 Steps) (loss=0.41500):  21%|██        | 13/62 [00:41<08:39, 10.61s/it]"
     ]
    },
    {
     "name": "stdout",
     "output_type": "stream",
     "text": [
      "Model Was Not Saved ! Current Best Avg. Dice: 0.9367817640304565 Current Avg. Dice: 0.9281682968139648\n"
     ]
    },
    {
     "name": "stderr",
     "output_type": "stream",
     "text": [
      "Training (29449 / 30000 Steps) (loss=0.45080): 100%|██████████| 62/62 [01:16<00:00,  1.24s/it]\n",
      "Training (29511 / 30000 Steps) (loss=0.60003): 100%|██████████| 62/62 [00:43<00:00,  1.42it/s]\n",
      "Training (29573 / 30000 Steps) (loss=0.48481): 100%|██████████| 62/62 [00:44<00:00,  1.39it/s]\n",
      "Validate (29574 / 10 Steps): 100%|██████████| 16/16 [00:32<00:00,  2.02s/it]<00:25,  1.43it/s]\n",
      "Training (29600 / 30000 Steps) (loss=0.52591):  44%|████▎     | 27/62 [00:51<06:03, 10.40s/it]"
     ]
    },
    {
     "name": "stdout",
     "output_type": "stream",
     "text": [
      "Model Was Not Saved ! Current Best Avg. Dice: 0.9367817640304565 Current Avg. Dice: 0.9253727793693542\n"
     ]
    },
    {
     "name": "stderr",
     "output_type": "stream",
     "text": [
      "Training (29635 / 30000 Steps) (loss=0.44574): 100%|██████████| 62/62 [01:16<00:00,  1.23s/it]\n",
      "Training (29697 / 30000 Steps) (loss=0.42285): 100%|██████████| 62/62 [00:44<00:00,  1.40it/s]\n",
      "Training (29759 / 30000 Steps) (loss=0.64390): 100%|██████████| 62/62 [00:43<00:00,  1.42it/s]\n",
      "Validate (29760 / 10 Steps): 100%|██████████| 16/16 [00:33<00:00,  2.06s/it]<00:15,  1.42it/s]\n",
      "Training (29800 / 30000 Steps) (loss=0.44854):  66%|██████▌   | 41/62 [01:02<03:42, 10.61s/it]"
     ]
    },
    {
     "name": "stdout",
     "output_type": "stream",
     "text": [
      "Model Was Not Saved ! Current Best Avg. Dice: 0.9367817640304565 Current Avg. Dice: 0.9319323301315308\n"
     ]
    },
    {
     "name": "stderr",
     "output_type": "stream",
     "text": [
      "Training (29821 / 30000 Steps) (loss=0.61557): 100%|██████████| 62/62 [01:16<00:00,  1.24s/it]\n",
      "Training (29883 / 30000 Steps) (loss=0.55205): 100%|██████████| 62/62 [00:44<00:00,  1.39it/s]\n",
      "Training (29945 / 30000 Steps) (loss=0.39877): 100%|██████████| 62/62 [00:44<00:00,  1.39it/s]\n",
      "Validate (29946 / 10 Steps): 100%|██████████| 16/16 [00:32<00:00,  2.04s/it]<00:06,  1.27it/s]\n",
      "Training (30000 / 30000 Steps) (loss=0.56868):  89%|████████▊ | 55/62 [01:12<01:14, 10.57s/it]"
     ]
    },
    {
     "name": "stdout",
     "output_type": "stream",
     "text": [
      "Model Was Not Saved ! Current Best Avg. Dice: 0.9367817640304565 Current Avg. Dice: 0.9306667447090149\n"
     ]
    },
    {
     "name": "stderr",
     "output_type": "stream",
     "text": [
      "Training (30007 / 30000 Steps) (loss=0.36230): 100%|██████████| 62/62 [01:16<00:00,  1.24s/it]\n"
     ]
    },
    {
     "data": {
      "text/plain": [
       "<All keys matched successfully>"
      ]
     },
     "execution_count": 9,
     "metadata": {},
     "output_type": "execute_result"
    }
   ],
   "source": [
    "max_iterations = 30000\n",
    "drop_rate = 0.2\n",
    "eval_num = 200\n",
    "post_label = AsDiscrete(to_onehot=8)\n",
    "post_pred = AsDiscrete(argmax=True, to_onehot=8)\n",
    "dice_metric = DiceMetric(include_background=True, reduction=\"mean\", get_not_nans=False)\n",
    "global_step = 0\n",
    "dice_val_best = 0.0\n",
    "global_step_best = 0\n",
    "epoch_loss_values = []\n",
    "metric_values = []\n",
    "while global_step < max_iterations:\n",
    "    global_step, dice_val_best, global_step_best = train(\n",
    "        global_step, train_loader, dice_val_best, global_step_best\n",
    "    )\n",
    "model.load_state_dict(torch.load(os.path.join(root_dir, \"best_metric_model.pth\")))"
   ]
  },
  {
   "cell_type": "code",
   "execution_count": 10,
   "metadata": {},
   "outputs": [
    {
     "name": "stdout",
     "output_type": "stream",
     "text": [
      "train completed, best_metric: 0.9368 at iteration: 29000\n"
     ]
    }
   ],
   "source": [
    "model.load_state_dict(torch.load(os.path.join(root_dir, \"best_metric_model.pth\")))\n",
    "#torch.save(model.state_dict(), os.path.join('C:/Users/Dong/Desktop/Breast_PET_swin_output/Breast_liver_spleen/output/', \"best_metric_model.pth\"))\n",
    "#model.load_state_dict(torch.load(os.path.join('C:/Users/Dong/Desktop/Python/', \"best_metric_model_Ewha_dropout.pth\")))\n",
    "#model.load_state_dict(torch.load(os.path.join('C:/Users/Dong/AppData/Local/Temp/tmpo3m9v1gj/', \"best_metric_model.pth\")))\n",
    "\n",
    "print(\n",
    "    f\"train completed, best_metric: {dice_val_best:.4f} \"\n",
    "    f\"at iteration: {global_step_best}\"\n",
    ")\n"
   ]
  },
  {
   "cell_type": "markdown",
   "metadata": {},
   "source": [
    "### Plot the loss and metric"
   ]
  },
  {
   "cell_type": "code",
   "execution_count": 11,
   "metadata": {},
   "outputs": [
    {
     "data": {
      "image/png": "[encoded data removed]",
      "text/plain": [
       "<Figure size 1200x600 with 2 Axes>"
      ]
     },
     "metadata": {},
     "output_type": "display_data"
    }
   ],
   "source": [
    "\n",
    "plt.figure(\"train\", (12, 6))\n",
    "plt.subplot(1, 2, 1)\n",
    "plt.title(\"Iteration Average Loss\")\n",
    "x = [eval_num * (i + 1) for i in range(len(epoch_loss_values))]\n",
    "y = epoch_loss_values\n",
    "plt.xlabel(\"Iteration\")\n",
    "plt.plot(x, y)\n",
    "plt.subplot(1, 2, 2)\n",
    "plt.title(\"Val Mean Dice\")\n",
    "x = [eval_num * (i + 1) for i in range(len(metric_values))]\n",
    "y = metric_values\n",
    "plt.xlabel(\"Iteration\")\n",
    "plt.plot(x, y)\n",
    "plt.show()\n"
   ]
  },
  {
   "cell_type": "code",
   "execution_count": null,
   "metadata": {},
   "outputs": [],
   "source": [
    "\n"
   ]
  },
  {
   "cell_type": "code",
   "execution_count": 12,
   "metadata": {},
   "outputs": [
    {
     "name": "stdout",
     "output_type": "stream",
     "text": [
      "14\n"
     ]
    }
   ],
   "source": [
    "print(len(test_ds))"
   ]
  },
  {
   "cell_type": "markdown",
   "metadata": {},
   "source": [
    "### Check best model output with the input image and label"
   ]
  },
  {
   "cell_type": "code",
   "execution_count": null,
   "metadata": {},
   "outputs": [],
   "source": [
    "case_num = 4\n",
    "#model.load_state_dict(torch.load(os.path.join('C:/Users/Dong/Desktop/Breast_PET_swin_output/lymph_2/', \"best_metric_model_30000.pth\")))\n",
    "#weight = torch.load(\"D:/we/best_metric_model_30000.pth\")\n",
    "#model.load_state_dict(weight)\n",
    "#print(\"Using pretrained model weights from C:/Users/Dong/AppData/Local/Temp/tmpo3m9v1gj/best_metric_model.pth!\")\n",
    "#model.load_state_dict(torch.load(os.path.join(root_dir, \"best_metric_model.pth\")))\n",
    "model.eval()\n"
   ]
  },
  {
   "cell_type": "code",
   "execution_count": 29,
   "metadata": {},
   "outputs": [
    {
     "name": "stdout",
     "output_type": "stream",
     "text": [
      "현재 파일: CT100.nii.gz, 기본 슬라이스: 45\n",
      "슬라이스 위치가 75로 변경되었습니다.\n"
     ]
    },
    {
     "data": {
      "image/png": "[encoded data removed]",
      "text/plain": [
       "<Figure size 1800x600 with 3 Axes>"
      ]
     },
     "metadata": {},
     "output_type": "display_data"
    }
   ],
   "source": [
    "with torch.no_grad():\n",
    "    img_name = os.path.split(val_ds[case_num]['image'].meta[\"filename_or_obj\"])[1]\n",
    "    img = val_ds[case_num][\"image\"]\n",
    "    label = val_ds[case_num][\"label\"]\n",
    "    val_inputs = torch.unsqueeze(img, 1).cuda()\n",
    "    val_labels = torch.unsqueeze(label, 1).cuda()\n",
    "    val_outputs = sliding_window_inference(\n",
    "        val_inputs, (96, 96, 96), 4, model, overlap=0.8\n",
    "    )\n",
    "\n",
    "    \n",
    "    slice_idx = slice_map.get(img_name, 0)\n",
    "    \n",
    "    \n",
    "    print(f\"현재 파일: {img_name}, 기본 슬라이스: {slice_idx}\")\n",
    "    custom_slice = input(\"슬라이스 값을 변경하시겠습니까? (현재 값: {}. 변경하려면 숫자를 입력, 그대로 사용하려면 Enter): \".format(slice_idx))\n",
    "    if custom_slice.strip():  \n",
    "        try:\n",
    "            slice_idx = int(custom_slice)\n",
    "            print(f\"슬라이스 위치가 {slice_idx}로 변경되었습니다.\")\n",
    "        except ValueError:\n",
    "            print(\"유효하지 않은 입력입니다. 기본 슬라이스를 사용합니다.\")\n",
    "\n",
    "   \n",
    "    if slice_idx >= img.shape[3]:\n",
    "        raise ValueError(f\"슬라이스 값 {slice_idx}가 이미지 깊이 {img.shape[3]}를 초과합니다.\")\n",
    "\n",
    "   \n",
    "    plt.figure(\"check\", (18, 6))\n",
    "    plt.subplot(1, 3, 1)\n",
    "    plt.title(\"image\")\n",
    "    plt.imshow(val_inputs.cpu().numpy()[0, 0, :, :, slice_idx], cmap=\"gray\")\n",
    "    plt.subplot(1, 3, 2)\n",
    "    plt.title(\"label\")\n",
    "    plt.imshow(val_labels.cpu().numpy()[0, 0, :, :, slice_idx])\n",
    "    plt.subplot(1, 3, 3)\n",
    "    plt.title(\"output\")\n",
    "    plt.imshow(\n",
    "        torch.argmax(val_outputs, dim=1).detach().cpu()[0, :, :, slice_idx]\n",
    "    )\n",
    "    plt.show()\n"
   ]
  },
  {
   "cell_type": "code",
   "execution_count": null,
   "metadata": {},
   "outputs": [
    {
     "name": "stdout",
     "output_type": "stream",
     "text": [
      "현재 파일: CT100.nii.gz, 기본 슬라이스: 45\n",
      "슬라이스 위치가 75로 변경되었습니다.\n"
     ]
    },
    {
     "data": {
      "image/png": "[encoded data removed]",
      "text/plain": [
       "<Figure size 1800x600 with 3 Axes>"
      ]
     },
     "metadata": {},
     "output_type": "display_data"
    },
    {
     "name": "stdout",
     "output_type": "stream",
     "text": [
      "\n",
      "장기별 Dice 계수:\n",
      "Organ 1: 0.8764\n",
      "Organ 2: 0.9725\n",
      "Organ 3: 0.9732\n",
      "Organ 4: 0.9667\n",
      "Organ 5: 0.9847\n",
      "Organ 6: 0.9764\n",
      "Organ 7: 0.9858\n"
     ]
    }
   ],
   "source": [
    "import torch\n",
    "import os\n",
    "import matplotlib.pyplot as plt\n",
    "from monai.metrics import compute_dice\n",
    "\n",
    "with torch.no_grad():\n",
    "    img_name = os.path.split(val_ds[case_num]['image'].meta[\"filename_or_obj\"])[1]\n",
    "    img = val_ds[case_num][\"image\"]\n",
    "    label = val_ds[case_num][\"label\"]\n",
    "    val_inputs = torch.unsqueeze(img, 1).cuda()\n",
    "    val_labels = torch.unsqueeze(label, 1).cuda()\n",
    "    val_outputs = sliding_window_inference(\n",
    "        val_inputs, (96, 96, 96), 4, model, overlap=0.8\n",
    "    )\n",
    "\n",
    "    \n",
    "    slice_idx = slice_map.get(img_name, 0)\n",
    "\n",
    "    \n",
    "    print(f\"현재 파일: {img_name}, 기본 슬라이스: {slice_idx}\")\n",
    "    custom_slice = input(\"슬라이스 값을 변경하시겠습니까? (현재 값: {}. 변경하려면 숫자를 입력, 그대로 사용하려면 Enter): \".format(slice_idx))\n",
    "    if custom_slice.strip():  \n",
    "        try:\n",
    "            slice_idx = int(custom_slice)\n",
    "            print(f\"슬라이스 위치가 {slice_idx}로 변경되었습니다.\")\n",
    "        except ValueError:\n",
    "            print(\"유효하지 않은 입력입니다. 기본 슬라이스를 사용합니다.\")\n",
    "\n",
    "    \n",
    "    if slice_idx >= img.shape[3]:\n",
    "        raise ValueError(f\"슬라이스 값 {slice_idx}가 이미지 깊이 {img.shape[3]}를 초과합니다.\")\n",
    "\n",
    "    \n",
    "    plt.figure(\"check\", (18, 6))\n",
    "    plt.subplot(1, 3, 1)\n",
    "    plt.title(\"image\")\n",
    "    plt.imshow(val_inputs.cpu().numpy()[0, 0, :, :, slice_idx], cmap=\"gray\")\n",
    "    plt.subplot(1, 3, 2)\n",
    "    plt.title(\"label\")\n",
    "    plt.imshow(val_labels.cpu().numpy()[0, 0, :, :, slice_idx])\n",
    "    plt.subplot(1, 3, 3)\n",
    "    plt.title(\"output\")\n",
    "    plt.imshow(\n",
    "        torch.argmax(val_outputs, dim=1).detach().cpu()[0, :, :, slice_idx]\n",
    "    )\n",
    "    plt.show()\n",
    "\n",
    "    \n",
    "    val_outputs_argmax = torch.argmax(val_outputs, dim=1).detach().cpu()\n",
    "    val_labels_cpu = val_labels.cpu()\n",
    "    organ_dice_scores = {}\n",
    "\n",
    "    \n",
    "    for organ_id in range(1, val_labels_cpu.max().int() + 1):  # 클래스 1부터 최대 값까지\n",
    "        organ_output = (val_outputs_argmax == organ_id).float()\n",
    "        organ_label = (val_labels_cpu == organ_id).float()\n",
    "        dice_score = compute_dice(organ_output.unsqueeze(0), organ_label.unsqueeze(0), include_background=False)\n",
    "        organ_dice_scores[f\"Organ {organ_id}\"] = dice_score.item()\n",
    "\n",
    "    \n",
    "    print(\"\\n장기별 Dice 계수:\")\n",
    "    for organ, score in organ_dice_scores.items():\n",
    "        print(f\"{organ}: {score:.4f}\")"
   ]
  },
  {
   "cell_type": "code",
   "execution_count": 19,
   "metadata": {},
   "outputs": [
    {
     "name": "stdout",
     "output_type": "stream",
     "text": [
      "[512 512 426]\n",
      "[98  5  0]\n",
      "(374, 504, 426)\n",
      "torch.Size([5, 250, 336, 214])\n"
     ]
    },
    {
     "ename": "RuntimeError",
     "evalue": "CUDA error: device-side assert triggered\nCUDA kernel errors might be asynchronously reported at some other API call,so the stacktrace below might be incorrect.\nFor debugging consider passing CUDA_LAUNCH_BLOCKING=1.",
     "output_type": "error",
     "traceback": [
      "\u001b[1;31m---------------------------------------------------------------------------\u001b[0m",
      "\u001b[1;31mRuntimeError\u001b[0m                              Traceback (most recent call last)",
      "Cell \u001b[1;32mIn [19], line 58\u001b[0m\n\u001b[0;32m     56\u001b[0m \u001b[38;5;28mprint\u001b[39m(val_output_convert[\u001b[38;5;241m0\u001b[39m]\u001b[38;5;241m.\u001b[39msize())\n\u001b[0;32m     57\u001b[0m \u001b[38;5;28;01mfor\u001b[39;00m j \u001b[38;5;129;01min\u001b[39;00m \u001b[38;5;28mrange\u001b[39m(label_num):\n\u001b[1;32m---> 58\u001b[0m     output1 \u001b[38;5;241m=\u001b[39m val_output_convert[\u001b[38;5;241m0\u001b[39m]\u001b[38;5;241m.\u001b[39mcpu()\u001b[38;5;241m.\u001b[39mnumpy()[j,:,:,:]\n\u001b[0;32m     59\u001b[0m     output_s_1 \u001b[38;5;241m=\u001b[39m resize(output1, test_ds[sub_index][\u001b[38;5;124m'\u001b[39m\u001b[38;5;124mimage\u001b[39m\u001b[38;5;124m'\u001b[39m]\u001b[38;5;241m.\u001b[39mapplied_operations[\u001b[38;5;241m2\u001b[39m][\u001b[38;5;124m'\u001b[39m\u001b[38;5;124morig_size\u001b[39m\u001b[38;5;124m'\u001b[39m],order\u001b[38;5;241m=\u001b[39m\u001b[38;5;241m1\u001b[39m)\n\u001b[0;32m     60\u001b[0m     output_temp[j,x\u001b[38;5;241m-\u001b[39m\u001b[38;5;241m1\u001b[39m:x\u001b[38;5;241m+\u001b[39mx_len\u001b[38;5;241m-\u001b[39m\u001b[38;5;241m1\u001b[39m,y:y\u001b[38;5;241m+\u001b[39my_len,z:z\u001b[38;5;241m+\u001b[39mz_len] \u001b[38;5;241m=\u001b[39m output_s_1\n",
      "\u001b[1;31mRuntimeError\u001b[0m: CUDA error: device-side assert triggered\nCUDA kernel errors might be asynchronously reported at some other API call,so the stacktrace below might be incorrect.\nFor debugging consider passing CUDA_LAUNCH_BLOCKING=1."
     ]
    }
   ],
   "source": [
    "import nibabel as nib\n",
    "import numpy as np\n",
    "from skimage.transform import resize\n",
    "import time\n",
    "dice_metric = DiceMetric(include_background=True, reduction=\"mean\", get_not_nans=False)\n",
    "label_num = 5\n",
    "post_label = AsDiscrete(to_onehot=label_num)\n",
    "post_pred = AsDiscrete(argmax=True, to_onehot=label_num)\n",
    "path_output = 'D:/Lymph_onco_results_save/output_brain'\n",
    "path_png = 'D:/Lymph_onco_results_save/png_brain'\n",
    "case_num = 4\n",
    "#model.load_state_dict(torch.load(os.path.join('C:/Users/Dong/AppData/Local/Temp/tmpo3m9v1gj/', \"best_metric_model.pth\")))\n",
    "model.load_state_dict(torch.load(os.path.join(root_dir, \"best_metric_model.pth\")))\n",
    "#model.load_state_dict(torch.load(os.path.join('C:/Users/Dong/Desktop/Breast_PET_swin_output/lymph_2/', \"best_metric_model_30000.pth\")))\n",
    "#model.load_state_dict(torch.load(os.path.join('C:/Users/joonil/Desktop/연구과제/Auto segmentation/data/code/tutorials-main/tutorials-main/3d_segmentation/result/finish/', \"best_metric_model.pth\")))\n",
    "#model.load_state_dict(torch.load(os.path.join('C:/Users/Dong/Desktop/Breast_PET_swin_output/Breast_liver_spleen/', \"best_metric_model.pth\")))\n",
    "model.eval()\n",
    "k = 1\n",
    "#path = './data/test/CBCT'\n",
    "print(test_ds[0]['image'].meta['spatial_shape'])\n",
    "print(test_ds[0]['foreground_start_coord'])\n",
    "print(test_ds[0]['image'].applied_operations[2]['orig_size'])\n",
    "test_dice=0\n",
    "test_dice_1 = 0\n",
    "test_dice_2 = 0\n",
    "test_dice_3 = 0\n",
    "test_dice_4 = 0\n",
    "test_dice_5 = 0\n",
    "tic = 0\n",
    "test_final = 0\n",
    "with torch.no_grad():\n",
    "    #img_name = os.path.split(val_ds[case_num]['image'].meta[\"filename_or_obj\"])[1]\n",
    "    for i in range(len(test_ds)):\n",
    "        sub_index = i\n",
    "        img = test_ds[sub_index][\"image\"]\n",
    "        label = test_ds[sub_index][\"label\"]\n",
    "        val_inputs = torch.unsqueeze(img, 1).cuda()\n",
    "        val_labels = torch.unsqueeze(label, 1).cuda()\n",
    "        x = test_ds[sub_index]['foreground_start_coord'][0]\n",
    "        y = test_ds[sub_index]['foreground_start_coord'][1]\n",
    "        z = test_ds[sub_index]['foreground_start_coord'][2]\n",
    "        x_len = test_ds[sub_index]['image'].applied_operations[2]['orig_size'][0]\n",
    "        y_len = test_ds[sub_index]['image'].applied_operations[2]['orig_size'][1]\n",
    "        z_len = test_ds[sub_index]['image'].applied_operations[2]['orig_size'][2]\n",
    "        output = np.zeros((1,label_num,test_ds[sub_index]['image'].meta['spatial_shape'][0],test_ds[sub_index]['image'].meta['spatial_shape'][1],test_ds[sub_index]['image'].meta['spatial_shape'][2]))\n",
    "        output_temp = np.zeros((label_num,test_ds[sub_index]['image'].meta['spatial_shape'][0],test_ds[sub_index]['image'].meta['spatial_shape'][1],test_ds[sub_index]['image'].meta['spatial_shape'][2]))\n",
    "        output1 = np.zeros((val_labels.size()[2],val_labels.size()[3],val_labels.size()[4]))\n",
    "        output2 = np.zeros((val_labels.size()[2],val_labels.size()[3],val_labels.size()[4]))\n",
    "        val_outputs = sliding_window_inference(\n",
    "                val_inputs, (96, 96, 96), 4, model, overlap=0.8\n",
    "        )\n",
    "        val_outputs_list = decollate_batch(val_outputs)\n",
    "        val_output_convert = [\n",
    "            post_pred(val_pred_tensor) for val_pred_tensor in val_outputs_list\n",
    "        ]\n",
    "        print(val_output_convert[0].size())\n",
    "        for j in range(label_num):\n",
    "            output1 = val_output_convert[0].cpu().numpy()[j,:,:,:]\n",
    "            output_s_1 = resize(output1, test_ds[sub_index]['image'].applied_operations[2]['orig_size'],order=1)\n",
    "            output_temp[j,x-1:x+x_len-1,y:y+y_len,z:z+z_len] = output_s_1\n",
    "        output[0,:,:,:,:] = output_temp\n",
    "        input = np.zeros(test_ds[sub_index]['image'].meta['spatial_shape'])\n",
    "        label_temp = np.zeros((label_num,test_ds[sub_index]['image'].meta['spatial_shape'][0],test_ds[sub_index]['image'].meta['spatial_shape'][1],test_ds[sub_index]['image'].meta['spatial_shape'][2]))\n",
    "        val_labels_list = decollate_batch(val_labels)\n",
    "        val_labels_convert = [post_label(val_label_tensor) for val_label_tensor in val_labels_list]\n",
    "        input_s = resize(val_inputs.cpu().numpy()[0,0,:,:,:], test_ds[sub_index]['image'].applied_operations[2]['orig_size'],order=1)\n",
    "        input[x-1:x+x_len-1,y:y+y_len,z:z+z_len]= input_s\n",
    "        for j in range(label_num):\n",
    "            label_s_1 = resize(val_labels_convert[0].cpu().numpy()[j,:,:,:], test_ds[sub_index]['image'].applied_operations[2]['orig_size'],order=1)\n",
    "            \n",
    "            label_temp[j,x-1:x+x_len-1,y:y+y_len,z:z+z_len] = label_s_1\n",
    "            \n",
    "            label_1 = label_temp[j,:,:,:]\n",
    "            label_1[label_1>0]=1\n",
    "\n",
    "            output_1 = output[0,j,:,:,:]\n",
    "            output_1[output_1>0]=1\n",
    "\n",
    "            mean_dice_val = np.sum(label_1[output_1==1])*2.0/(np.sum(label_1)+np.sum(output_1))\n",
    "\n",
    "            \n",
    "            if j ==0:\n",
    "                test_dice_1 += mean_dice_val\n",
    "            elif j==1:\n",
    "                test_dice_2 += mean_dice_val\n",
    "            elif j == 2:\n",
    "                test_dice_3 += mean_dice_val\n",
    "            elif j == 3:\n",
    "                test_dice_4 += mean_dice_val\n",
    "            elif j == 4:\n",
    "                test_dice_5 += mean_dice_val\n",
    "                \n",
    "           \n",
    "        label = np.zeros((1,1,test_ds[sub_index]['image'].meta['spatial_shape'][0],test_ds[sub_index]['image'].meta['spatial_shape'][1],test_ds[sub_index]['image'].meta['spatial_shape'][2]))\n",
    "        #label_temp[label_temp>=0.5]=1\n",
    "        #label_temp[label_temp<0.5]=0\n",
    "        label[0,0,:,:,:] = np.argmax(label_temp,axis=0)\n",
    "        val_labels_list = decollate_batch(torch.from_numpy(label))\n",
    "        val_labels_convert = [post_label(val_label_tensor) for val_label_tensor in val_labels_list]\n",
    "        #print(val_labels_list[0])\n",
    "        #output[output>=0.5]=1\n",
    "        #output[output<0.5]=0\n",
    "        val_outputs_list = decollate_batch(torch.from_numpy(output))\n",
    "        val_output_convert = [\n",
    "            post_pred(val_pred_tensor) for val_pred_tensor in val_outputs_list\n",
    "        ]\n",
    "        dice_metric(y_pred=val_output_convert, y=val_labels_convert)\n",
    "        mean_dice_val = dice_metric.aggregate().item()\n",
    "        test_dice_1 = mean_dice_val\n",
    "        test_dice +=mean_dice_val\n",
    "        print(mean_dice_val)\n",
    "        dice_metric.reset()\n",
    "        #print(label.shape)\n",
    "        label_temp = label[0,0,:,:,:]\n",
    "        output_temp = np.argmax(output[0,:,:,:,:], axis=0)\n",
    "        output_temp = np.float64(output_temp)\n",
    "\n",
    "        \n",
    "        for j in range(input.shape[2]):\n",
    "            plt.figure(\"check\", (18, 6))\n",
    "            plt.subplot(1, 2, 1)\n",
    "            plt.title(\"CBCT+label\")\n",
    "            plt.imshow(input[:,:,j], cmap=\"gray\", vmin=0, vmax=1)\n",
    "            plt.imshow(label_temp[:,:,j],cmap=\"gray\",alpha=0.5)\n",
    "            plt.subplot(1, 2, 2)\n",
    "            plt.title(\"CBCT+output\")\n",
    "            plt.imshow(input[:,:,j], cmap=\"gray\", vmin=0, vmax=1)\n",
    "            plt.imshow(output_temp[:,:,j],cmap=\"gray\",alpha=0.5)\n",
    "            name_sub = 'patient' + str(i+1).zfill(4)+'_'+str(j+1).zfill(4)\n",
    "            sub_dir = os.path.join(path_png,name_sub)\n",
    "            plt.savefig(sub_dir)\n",
    "            #plt.show()\n",
    "            plt.clf()\n",
    "        name = 'patient'+str(i+1).zfill(4)\n",
    "        img_input = nib.Nifti1Image(input,None)\n",
    "        img_input.header.get_xyzt_units()\n",
    "        img_input.to_filename(os.path.join(path_output,'input'+name+'.nii.gz'))\n",
    "        img_label = nib.Nifti1Image(label_temp,None)\n",
    "        img_label.header.get_xyzt_units()\n",
    "        img_label.to_filename(os.path.join(path_output,'label'+name+'.nii.gz'))\n",
    "        img_label = nib.Nifti1Image(output_temp,None)\n",
    "        img_label.header.get_xyzt_units()\n",
    "        img_label.to_filename(os.path.join(path_output,'output'+name+'.nii.gz'))\n",
    "        \n",
    "    print(\"mmmmmmmmm\")\n",
    "    print(test_dice_1/len(test_ds))\n",
    "    print(test_dice_2 / len(test_ds))\n",
    "    print(test_dice_3 / len(test_ds))\n",
    "    print(test_dice_4 / len(test_ds))\n",
    "    print(test_dice_5 / len(test_ds))"
   ]
  },
  {
   "cell_type": "code",
   "execution_count": null,
   "metadata": {},
   "outputs": [],
   "source": [
    "import nibabel as nib\n",
    "import numpy as np\n",
    "from skimage.transform import resize\n",
    "import time\n",
    "dice_metric = DiceMetric(include_background=True, reduction=\"mean\", get_not_nans=False)\n",
    "label_num = 5\n",
    "post_label = AsDiscrete(to_onehot=label_num)\n",
    "post_pred = AsDiscrete(argmax=True, to_onehot=label_num)\n",
    "path_output = 'C:/Users/Dong\\Desktop/Breast_PET_swin_output/lymph_2/output'\n",
    "path_png = 'C:/Users/Dong/Desktop/Breast_PET_swin_output/lymph_2/png'\n",
    "case_num = 4\n",
    "\n",
    "model.load_state_dict(torch.load(os.path.join(root_dir, \"best_metric_model.pth\")))\n",
    "#model.load_state_dict(torch.load(os.path.join('C:/Users/Dong/Desktop/Breast_PET_swin_output/lymph_2/', \"best_metric_model_30000.pth\")))\n",
    "#model.load_state_dict(torch.load(os.path.join('C:/Users/joonil/Desktop/연구과제/Auto segmentation/data/code/tutorials-main/tutorials-main/3d_segmentation/result/finish/', \"best_metric_model.pth\")))\n",
    "#model.load_state_dict(torch.load(os.path.join('C:/Users/Dong/Desktop/Breast_PET_swin_output/Breast_liver_spleen/', \"best_metric_model.pth\")))\n",
    "model.eval()\n",
    "k = 1\n",
    "#path = './data/test/CBCT'\n",
    "\n",
    "print(test_ds[0]['image'].meta['spatial_shape'])\n",
    "print(test_ds[0]['foreground_start_coord'])\n",
    "print(test_ds[0]['image'].applied_operations[2]['orig_size'])\n",
    "test_dice=0\n",
    "test_dice_1 = 0\n",
    "tic = 0\n",
    "test_final = 0\n",
    "with torch.no_grad():\n",
    "    #img_name = os.path.split(val_ds[case_num]['image'].meta[\"filename_or_obj\"])[1]\n",
    "    for i in range(len(test_ds)):\n",
    "        sub_index = i\n",
    "        img = test_ds[sub_index][\"image\"]\n",
    "        label = test_ds[sub_index][\"label\"]\n",
    "        val_inputs = torch.unsqueeze(img, 1).cuda()\n",
    "        val_labels = torch.unsqueeze(label, 1).cuda()\n",
    "        x = test_ds[sub_index]['foreground_start_coord'][0]\n",
    "        y = test_ds[sub_index]['foreground_start_coord'][1]\n",
    "        z = test_ds[sub_index]['foreground_start_coord'][2]\n",
    "        x_len = test_ds[sub_index]['image'].applied_operations[2]['orig_size'][0]\n",
    "        y_len = test_ds[sub_index]['image'].applied_operations[2]['orig_size'][1]\n",
    "        z_len = test_ds[sub_index]['image'].applied_operations[2]['orig_size'][2]\n",
    "        output = np.zeros((1,label_num,test_ds[sub_index]['image'].meta['spatial_shape'][0],test_ds[sub_index]['image'].meta['spatial_shape'][1],test_ds[sub_index]['image'].meta['spatial_shape'][2]))\n",
    "        output_temp = np.zeros((label_num,test_ds[sub_index]['image'].meta['spatial_shape'][0],test_ds[sub_index]['image'].meta['spatial_shape'][1],test_ds[sub_index]['image'].meta['spatial_shape'][2]))\n",
    "\n",
    "        output1 = np.zeros((val_labels.size()[2],val_labels.size()[3],val_labels.size()[4]))\n",
    "        output2 = np.zeros((val_labels.size()[2],val_labels.size()[3],val_labels.size()[4]))\n",
    "        val_outputs = sliding_window_inference(\n",
    "                val_inputs, (96, 96, 96), 4, model, overlap=0.8\n",
    "        )\n",
    "\n",
    "        val_outputs_list = decollate_batch(val_outputs)\n",
    "        val_output_convert = [\n",
    "            post_pred(val_pred_tensor) for val_pred_tensor in val_outputs_list\n",
    "        ]\n",
    "        \n",
    "\n",
    "        for j in range(label_num):\n",
    "            output1 = val_output_convert[0].cpu().numpy()[j,:,:,:]\n",
    "            output_s_1 = resize(output1, test_ds[sub_index]['image'].applied_operations[2]['orig_size'],order=1)\n",
    "            output_temp[j,x-1:x+x_len-1,y:y+y_len,z:z+z_len] = output_s_1\n",
    "        output[0,:,:,:,:] = output_temp\n",
    "\n",
    "\n",
    "        input = np.zeros(test_ds[sub_index]['image'].meta['spatial_shape'])\n",
    "\n",
    "        label_temp = np.zeros((label_num,test_ds[sub_index]['image'].meta['spatial_shape'][0],test_ds[sub_index]['image'].meta['spatial_shape'][1],test_ds[sub_index]['image'].meta['spatial_shape'][2]))\n",
    "        val_labels_list = decollate_batch(val_labels)\n",
    "        val_labels_convert = [post_label(val_label_tensor) for val_label_tensor in val_labels_list]\n",
    "        input_s = resize(val_inputs.cpu().numpy()[0,0,:,:,:], test_ds[sub_index]['image'].applied_operations[2]['orig_size'],order=1)\n",
    "        input[x-1:x+x_len-1,y:y+y_len,z:z+z_len]= input_s\n",
    "        \n",
    "\n",
    "        for j in range(label_num):\n",
    "            label_s_1 = resize(val_labels_convert[0].cpu().numpy()[j,:,:,:], test_ds[sub_index]['image'].applied_operations[2]['orig_size'],order=1)\n",
    "            label_temp[j,x-1:x+x_len-1,y:y+y_len,z:z+z_len] = label_s_1\n",
    "        \n",
    "\n",
    "        label = np.zeros((1,1,test_ds[sub_index]['image'].meta['spatial_shape'][0],test_ds[sub_index]['image'].meta['spatial_shape'][1],test_ds[sub_index]['image'].meta['spatial_shape'][2]))\n",
    "\n",
    "        #label_temp[label_temp>=0.5]=1\n",
    "        #label_temp[label_temp<0.5]=0\n",
    "        label[0,0,:,:,:] = np.argmax(label_temp,axis=0)\n",
    "        val_labels_list = decollate_batch(torch.from_numpy(label))\n",
    "        val_labels_convert = [post_label(val_label_tensor) for val_label_tensor in val_labels_list]\n",
    "        #print(val_labels_list[0])\n",
    "        #output[output>=0.5]=1\n",
    "        #output[output<0.5]=0\n",
    "        val_outputs_list = decollate_batch(torch.from_numpy(output))\n",
    "        val_output_convert = [\n",
    "            post_pred(val_pred_tensor) for val_pred_tensor in val_outputs_list\n",
    "        ]\n",
    "        dice_metric(y_pred=val_output_convert, y=val_labels_convert)\n",
    "        mean_dice_val = dice_metric.aggregate().item()\n",
    "        test_dice_1 = mean_dice_val\n",
    "        test_dice +=mean_dice_val\n",
    "        print(mean_dice_val)\n",
    "        dice_metric.reset()\n",
    "        \n",
    "        \n",
    "        #print(label.shape)\n",
    "        label_temp = label[0,0,:,:,:]\n",
    "        output_temp = np.argmax(output[0,:,:,:,:], axis=0)\n",
    "        output_temp = np.float64(output_temp)\n",
    "\n",
    "        \n",
    "        for j in range(input.shape[2]):\n",
    "            plt.figure(\"check\", (18, 6))\n",
    "            plt.subplot(1, 2, 1)\n",
    "            plt.title(\"CBCT+label\")\n",
    "            plt.imshow(input[:,:,j], cmap=\"gray\", vmin=0, vmax=1)\n",
    "            plt.imshow(label_temp[:,:,j],cmap=\"gray\",alpha=0.5)\n",
    "            plt.subplot(1, 2, 2)\n",
    "            plt.title(\"CBCT+output\")\n",
    "            plt.imshow(input[:,:,j], cmap=\"gray\", vmin=0, vmax=1)\n",
    "            plt.imshow(output_temp[:,:,j],cmap=\"gray\",alpha=0.5)\n",
    "            name_sub = 'patient' + str(i+1).zfill(4)+'_'+str(j+1).zfill(4)\n",
    "            sub_dir = os.path.join(path_png,name_sub)\n",
    "            plt.savefig(sub_dir)\n",
    "            #plt.show()\n",
    "            plt.clf()\n",
    "        name = 'patient'+str(i+1).zfill(4)\n",
    "        img_input = nib.Nifti1Image(input,None)\n",
    "        img_input.header.get_xyzt_units()\n",
    "        img_input.to_filename(os.path.join(path_output,'input'+name+'.nii.gz'))\n",
    "        img_label = nib.Nifti1Image(label_temp,None)\n",
    "        img_label.header.get_xyzt_units()\n",
    "        img_label.to_filename(os.path.join(path_output,'label'+name+'.nii.gz'))\n",
    "        img_label = nib.Nifti1Image(output_temp,None)\n",
    "        img_label.header.get_xyzt_units()\n",
    "        img_label.to_filename(os.path.join(path_output,'output'+name+'.nii.gz'))\n",
    "\n",
    "        \n",
    "    print(\"mmmmmmmmm\")"
   ]
  },
  {
   "cell_type": "code",
   "execution_count": null,
   "metadata": {},
   "outputs": [],
   "source": [
    "print(mean_dice_val)\n",
    "print(test_ds[sub_index]['image'].applied_operations[2]['orig_size'])\n",
    "print(z)"
   ]
  },
  {
   "cell_type": "markdown",
   "metadata": {},
   "source": [
    "### Cleanup data directory\n",
    "\n",
    "Remove directory if a temporary was used."
   ]
  },
  {
   "cell_type": "code",
   "execution_count": null,
   "metadata": {},
   "outputs": [],
   "source": [
    "if directory is None:\n",
    "    shutil.rmtree(root_dir)"
   ]
  }
 ],
 "metadata": {
  "kernelspec": {
   "display_name": "Python 3",
   "language": "python",
   "name": "python3"
  },
  "language_info": {
   "codemirror_mode": {
    "name": "ipython",
    "version": 3
   },
   "file_extension": ".py",
   "mimetype": "text/x-python",
   "name": "python",
   "nbconvert_exporter": "python",
   "pygments_lexer": "ipython3",
   "version": "3.9.13"
  },
  "vscode": {
   "interpreter": {
    "hash": "1897e2ff5165be02bfc2e1fc05c6be61e809823ac2cd49bc84efb564a988f524"
   }
  }
 },
 "nbformat": 4,
 "nbformat_minor": 4
}
